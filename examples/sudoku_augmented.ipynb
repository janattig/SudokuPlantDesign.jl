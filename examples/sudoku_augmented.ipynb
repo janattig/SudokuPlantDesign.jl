{
 "cells": [
  {
   "cell_type": "markdown",
   "metadata": {},
   "source": [
    "# Example: Sudoku augmented design"
   ]
  },
  {
   "cell_type": "markdown",
   "metadata": {},
   "source": [
    "We start by importing required modules"
   ]
  },
  {
   "cell_type": "code",
   "execution_count": null,
   "metadata": {},
   "outputs": [],
   "source": [
    "using SudokuPlantDesign\n",
    "using DataFrames\n",
    "using XLSX\n",
    "using PyPlot"
   ]
  },
  {
   "cell_type": "markdown",
   "metadata": {},
   "source": [
    "## 1) Generate (optimized) Sudoku configuration\n",
    "\n",
    "As explained in `sudoku_basic`, we generate a new configuration `conf` which is divided into 2 horizontal and 4 vertical blocks of dimensions `9` x `2` respectively. In total, there are `3` different checks in the configuration. All fields which are neither checks nor missing (empty) plots are defined as entries - these are the unreplicated entries which are augmented by replicated checks. We leave the plot `[1,3]` and `[1,4]` empty. Then, checks are initialized randomly so that there are `119` entries in total.\n",
    "\n",
    "The configuration is plotted to show the initial starting point before optimization. "
   ]
  },
  {
   "cell_type": "code",
   "execution_count": null,
   "metadata": {},
   "outputs": [],
   "source": [
    "conf = get_configuration([9,9],[2,2,2,2],3)\n",
    "\n",
    "empty_plots!(conf, 1:1,3:4)\n",
    "initialize_entries!(conf, 119)\n",
    "\n",
    "show_configuration(conf, zoom=0.2)\n",
    "\n",
    "mkpath(\"output/\")\n",
    "savefig(\"output/augmented_design_checks_initial.pdf\")"
   ]
  },
  {
   "cell_type": "markdown",
   "metadata": {},
   "source": [
    "We use a standard selection of cost functions, as used in the `sudoku_basic` example."
   ]
  },
  {
   "cell_type": "code",
   "execution_count": null,
   "metadata": {},
   "outputs": [],
   "source": [
    "function K_indiv(conf :: C) :: Float64 where {C <: CheckConfiguration}\n",
    "    return  K_num_checks_equal_per_type(conf) +\n",
    "            K_checks_per_type_per_block(conf, 1)*20+\n",
    "            K_neighbors_different_check_functional(conf, d->0.5/(d^3)) +\n",
    "            K_neighbors_same_check_functional(conf, d->1/(d^3))\n",
    "end"
   ]
  },
  {
   "cell_type": "markdown",
   "metadata": {},
   "source": [
    "In the Sudoku-augmented design, we use 3 updates -- changing check labels, swapping checks with each other and also swapping checks with entries."
   ]
  },
  {
   "cell_type": "code",
   "execution_count": null,
   "metadata": {},
   "outputs": [],
   "source": [
    "updates = [UpdateNewCheckLabel(),UpdateSwapCheckCheck(),UpdateSwapCheckEntry()]"
   ]
  },
  {
   "cell_type": "markdown",
   "metadata": {},
   "source": [
    "The optimization is run in the following"
   ]
  },
  {
   "cell_type": "code",
   "execution_count": null,
   "metadata": {},
   "outputs": [],
   "source": [
    "costs = optimize_design!(\n",
    "    conf,\n",
    "    updates,\n",
    "    K_indiv,\n",
    "    500000\n",
    ");"
   ]
  },
  {
   "cell_type": "markdown",
   "metadata": {},
   "source": [
    "and the resulting configuration is visually checked by plotting"
   ]
  },
  {
   "cell_type": "code",
   "execution_count": null,
   "metadata": {},
   "outputs": [],
   "source": [
    "print_info(conf)\n",
    "\n",
    "\n",
    "show_configuration(conf)\n",
    "mkpath(\"output/\")\n",
    "savefig(\"output/augmented_design_checks_final.pdf\")"
   ]
  },
  {
   "cell_type": "markdown",
   "metadata": {},
   "source": [
    "## 2) Save design data with field plan"
   ]
  },
  {
   "cell_type": "markdown",
   "metadata": {},
   "source": [
    "With an optimized configuration `conf` at hand, one can proceed to create a field plan. For this, dataframes with the data for checks and entries are required.\n",
    "\n",
    "In the case of our example, an Excel sheet with tabular input data `input_augmented.xlsx` containing sheets `checks` and `entries` is read in and converted into a dataframe. Each sheet contains the name of the entry in the first column, and in following columns further properties of the entries can be added to be transferred to the final output file and field plan. "
   ]
  },
  {
   "cell_type": "code",
   "execution_count": null,
   "metadata": {},
   "outputs": [],
   "source": [
    "entrydata = string.(DataFrame(XLSX.readtable(\"input_augmented.xlsx\", \"entries\")));\n",
    "replace!.(eachcol(entrydata), \"missing\" => \"NA\");"
   ]
  },
  {
   "cell_type": "code",
   "execution_count": null,
   "metadata": {},
   "outputs": [],
   "source": [
    "checkdata = string.(DataFrame(XLSX.readtable(\"input_augmented.xlsx\", \"checks\")));\n",
    "replace!.(eachcol(checkdata), \"missing\" => \"NA\");"
   ]
  },
  {
   "cell_type": "markdown",
   "metadata": {},
   "source": [
    "To create a field plan, a labeled check configuration is created (based on the optimized configuration `conf` from the previous step). In this labeled configuration, both indices (the linear positions of the plants) as well as labels are set. The configuration is finally shown."
   ]
  },
  {
   "cell_type": "code",
   "execution_count": null,
   "metadata": {},
   "outputs": [],
   "source": [
    "lconf = LabeledCheckConfiguration(conf)\n",
    "\n",
    "fill_indices_snake_y!(lconf, 1,1, index_for_empty=false)\n",
    "fill_labels!(lconf, checkdata, entrydata)\n",
    "\n",
    "show_configuration(lconf, check_labels=true)\n",
    "mkpath(\"output/\")\n",
    "savefig(\"output/augmented_design_final_design.pdf\")"
   ]
  },
  {
   "cell_type": "markdown",
   "metadata": {},
   "source": [
    "For exporting, the data of this optimized Sudoku-augmented design can now be converted back into a dataframe"
   ]
  },
  {
   "cell_type": "code",
   "execution_count": null,
   "metadata": {},
   "outputs": [],
   "source": [
    "df = get_dataframe(lconf)"
   ]
  },
  {
   "cell_type": "markdown",
   "metadata": {},
   "source": [
    "The dataframe can be modified in julia before exporting, here all generic property columns are renamed to the the column names of the checkdata file."
   ]
  },
  {
   "cell_type": "code",
   "execution_count": null,
   "metadata": {},
   "outputs": [],
   "source": [
    "for (i,name) in enumerate(names(checkdata)[2:end])\n",
    "    rename!(df,Symbol(\"property_\"*string(i)) => Symbol(name))\n",
    "end\n",
    "\n",
    "df"
   ]
  },
  {
   "cell_type": "markdown",
   "metadata": {},
   "source": [
    "Additional columns which hold the same data for all rows are inserted"
   ]
  },
  {
   "cell_type": "code",
   "execution_count": null,
   "metadata": {},
   "outputs": [],
   "source": [
    "df[:, :year]       .= 2023\n",
    "df[:, :extra_info] .= \"myextrainfo\"\n",
    "\n",
    "df"
   ]
  },
  {
   "cell_type": "markdown",
   "metadata": {},
   "source": [
    "finally, the dataframe is written back into an Excel file."
   ]
  },
  {
   "cell_type": "code",
   "execution_count": null,
   "metadata": {},
   "outputs": [],
   "source": [
    "mkpath(\"output/\")\n",
    "XLSX.writetable(\"output/augmented_design_final_design.xlsx\", collect(eachcol(df)), names(df),overwrite=true)"
   ]
  },
  {
   "cell_type": "code",
   "execution_count": null,
   "metadata": {},
   "outputs": [],
   "source": []
  }
 ],
 "metadata": {
  "@webio": {
   "lastCommId": null,
   "lastKernelId": null
  },
  "kernelspec": {
   "display_name": "Julia 1.4.0",
   "language": "julia",
   "name": "julia-1.4"
  },
  "language_info": {
   "file_extension": ".jl",
   "mimetype": "application/julia",
   "name": "julia",
   "version": "1.4.0"
  }
 },
 "nbformat": 4,
 "nbformat_minor": 4
}
