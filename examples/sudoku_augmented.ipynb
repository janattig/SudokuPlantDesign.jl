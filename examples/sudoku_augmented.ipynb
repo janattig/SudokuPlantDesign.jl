{
 "cells": [
  {
   "cell_type": "markdown",
   "metadata": {},
   "source": [
    "# Example: Sudoku augmented design"
   ]
  },
  {
   "cell_type": "markdown",
   "metadata": {},
   "source": [
    "First, import all required modules."
   ]
  },
  {
   "cell_type": "code",
   "execution_count": null,
   "metadata": {},
   "outputs": [],
   "source": [
    "using SudokuPlantDesign\n",
    "using DataFrames\n",
    "using XLSX\n",
    "using PyPlot"
   ]
  },
  {
   "cell_type": "markdown",
   "metadata": {},
   "source": [
    "## 1) Generate (optimized) Sudoku configuration\n",
    "\n",
    "We start by generating a new configuration of the plant design, called `conf`, consisting of `2` horizontal and `4` vertical blocks of dimensions `9` x `2` respectively. In total, there are `3` different types of checks in the configuration.\n",
    "\n",
    "Each plot of the design can be one of three possibilities:\n",
    "- missing (empty) plot\n",
    "- check variety (replicated)\n",
    "- entry (unreplicated)\n",
    "\n",
    "Note, that at this stage of the code, entries cannot be distinguished from each other, such distinctions will only occur once the placement of checks has been finalized.\n",
    "\n",
    "In our example, we leave all plots between `[1,3]` and `[2,4]` empty. Then, `119` entries are initialized (and the remaining plots are filled up with random checks). Finally the configuration is plotted, showing the initial configuration before optimization."
   ]
  },
  {
   "cell_type": "code",
   "execution_count": null,
   "metadata": {},
   "outputs": [],
   "source": [
    "conf = get_configuration([9,9],[2,2,2,2],3)\n",
    "\n",
    "empty_plots!(conf, 1:2,3:4)\n",
    "initialize_entries!(conf, 119)\n",
    "\n",
    "show_configuration(conf, zoom=0.2, show_coordinates=true)\n",
    "\n",
    "mkpath(\"output/\")\n",
    "savefig(\"output/augmented_design_checks_initial.pdf\")"
   ]
  },
  {
   "cell_type": "markdown",
   "metadata": {},
   "source": [
    "Next, we define the cost function of the optimization by summing up pre-implemented functions. In our case, the cost function contains the following parts:\n",
    "- costs when checks are unequal per type (`K_num_checks_equal_per_type`)\n",
    "- costs for more than one check per type per block (`K_checks_per_type_per_block`)\n",
    "- costs for clustering of checks (`K_neighbors_different_check_functional` and `K_neighbors_same_check_functional`)."
   ]
  },
  {
   "cell_type": "code",
   "execution_count": null,
   "metadata": {},
   "outputs": [],
   "source": [
    "cost_function(c) =  K_num_checks_equal_per_type(c) +\n",
    "                    K_checks_per_type_per_block(c, 1)*20 +\n",
    "                    K_neighbors_different_check_functional(c, d->0.5/(d^3)) +\n",
    "                    K_neighbors_same_check_functional(c, d->1/(d^3))"
   ]
  },
  {
   "cell_type": "markdown",
   "metadata": {},
   "source": [
    "Then, we proceed to defining the list of updates used in the optimization. We use updates to assign new labels to a given check, swap checks with each other and swap a check with an entry."
   ]
  },
  {
   "cell_type": "code",
   "execution_count": null,
   "metadata": {},
   "outputs": [],
   "source": [
    "updates = [UpdateNewCheckLabel(),UpdateSwapCheckCheck(),UpdateSwapCheckEntry()]"
   ]
  },
  {
   "cell_type": "markdown",
   "metadata": {},
   "source": [
    "Then, the optimization is run for `500000` updates (which means there are `500000` consecutive configurations generated which result in the final design)."
   ]
  },
  {
   "cell_type": "code",
   "execution_count": null,
   "metadata": {},
   "outputs": [],
   "source": [
    "optimize_design!(\n",
    "    conf,\n",
    "    updates,\n",
    "    cost_function,\n",
    "    500000\n",
    ");"
   ]
  },
  {
   "cell_type": "markdown",
   "metadata": {},
   "source": [
    "Information about the configuration can be printed and the configuration can also be examined visually by plotting."
   ]
  },
  {
   "cell_type": "code",
   "execution_count": null,
   "metadata": {},
   "outputs": [],
   "source": [
    "print_info(conf)"
   ]
  },
  {
   "cell_type": "code",
   "execution_count": null,
   "metadata": {},
   "outputs": [],
   "source": [
    "show_configuration(conf, zoom=0.2, show_coordinates=true)\n",
    "mkpath(\"output/\")\n",
    "savefig(\"output/augmented_design_checks_final.pdf\")"
   ]
  },
  {
   "cell_type": "markdown",
   "metadata": {},
   "source": [
    "## 2) Save design data with field plan"
   ]
  },
  {
   "cell_type": "markdown",
   "metadata": {},
   "source": [
    "With an optimized configuration `conf` at hand, one can proceed to create a field plan for the design. For such a field plan, additional information on the genotypes involved in the trial is added. Here, this information enters as two dataframes with data for checks and entries respectively. They have to be of the following structure:\n",
    "- first colum: genotype name\n",
    "- further colums: additional information (optional, but have to be identical among the dataframes)\n",
    "\n",
    "In the case of our example, the sheets `checks` and `entries` from the Excel file `input_augmented.xlsx` are read in and converted into the two dataframes. Each sheet contains the name of the entry in the first column, and in following columns further properties of the entries."
   ]
  },
  {
   "cell_type": "code",
   "execution_count": null,
   "metadata": {},
   "outputs": [],
   "source": [
    "entrydata = string.(DataFrame(XLSX.readtable(\"input_augmented.xlsx\", \"entries\")));\n",
    "replace!.(eachcol(entrydata), \"missing\" => \"NA\");"
   ]
  },
  {
   "cell_type": "code",
   "execution_count": null,
   "metadata": {},
   "outputs": [],
   "source": [
    "checkdata = string.(DataFrame(XLSX.readtable(\"input_augmented.xlsx\", \"checks\")));\n",
    "replace!.(eachcol(checkdata), \"missing\" => \"NA\");"
   ]
  },
  {
   "cell_type": "markdown",
   "metadata": {},
   "source": [
    "The field plan is then based on an upgraded version of the configuration `conf`, a so-called *labeled check configuration* with the name `lconf`. This labeled configuration contains not only the original configuration, but also indices (position ID) and labels of each plant.\n",
    "\n",
    "Below, indices are set in a snake pattern along the y-direction and labels are filled from the previously created dataframes. Then, the labeled configuration is visualized."
   ]
  },
  {
   "cell_type": "code",
   "execution_count": null,
   "metadata": {},
   "outputs": [],
   "source": [
    "lconf = LabeledCheckConfiguration(conf)\n",
    "\n",
    "fill_indices_snake_y!(lconf, 1,1, index_for_empty=false)\n",
    "fill_labels!(lconf, checkdata, entrydata)\n",
    "\n",
    "show_configuration(lconf, check_labels=true, show_coordinates=true, text_zoom=0.9)\n",
    "mkpath(\"output/\")\n",
    "savefig(\"output/augmented_design_final_design.pdf\")"
   ]
  },
  {
   "cell_type": "markdown",
   "metadata": {},
   "source": [
    "For exporting into a trial plan, the data of this optimized Sudoku-augmented design can now be converted back into a dataframe. This dataframe contains not only the genotype name and properties, but also their individual positions, xy-locations as well as information about their block. This dataframe can be further modified in julia before exporting it.\n",
    "\n",
    "In this example, all generic property columns are renamed to the the column names of the checkdata file and two additional columns are added to the dataframe."
   ]
  },
  {
   "cell_type": "code",
   "execution_count": null,
   "metadata": {},
   "outputs": [],
   "source": [
    "df = get_dataframe(lconf)\n",
    "\n",
    "for (i,name) in enumerate(names(checkdata)[2:end])\n",
    "    rename!(df,Symbol(\"property_\"*string(i)) => Symbol(name))\n",
    "end\n",
    "\n",
    "df[:, :year]       .= 2023\n",
    "df[:, :extra_info] .= \"myextrainfo\""
   ]
  },
  {
   "cell_type": "markdown",
   "metadata": {},
   "source": [
    "Finally, the trial plan is created by writing the dataframe into an Excel file."
   ]
  },
  {
   "cell_type": "code",
   "execution_count": null,
   "metadata": {},
   "outputs": [],
   "source": [
    "mkpath(\"output/\")\n",
    "XLSX.writetable(\"output/augmented_design_final_design.xlsx\", collect(eachcol(df)), names(df),overwrite=true)"
   ]
  },
  {
   "cell_type": "code",
   "execution_count": null,
   "metadata": {},
   "outputs": [],
   "source": []
  }
 ],
 "metadata": {
  "@webio": {
   "lastCommId": null,
   "lastKernelId": null
  },
  "kernelspec": {
   "display_name": "Julia 1.4.0",
   "language": "julia",
   "name": "julia-1.4"
  },
  "language_info": {
   "file_extension": ".jl",
   "mimetype": "application/julia",
   "name": "julia",
   "version": "1.4.0"
  }
 },
 "nbformat": 4,
 "nbformat_minor": 4
}
