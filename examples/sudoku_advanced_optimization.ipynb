{
 "cells": [
  {
   "cell_type": "markdown",
   "metadata": {},
   "source": [
    "# Example: Advanced Sudoku Optimization"
   ]
  },
  {
   "cell_type": "markdown",
   "metadata": {},
   "source": [
    "The following notebook gives an extensive overview over the different possibilities that one has, when optimizing a configuration of checks and entries in a field design. For a more beginner-friendly guide on the basic optimization steps, check out the basic optimization tutorial, which can be found [here](https://github.com/janattig/SudokuPlantDesign.jl/blob/main/examples/sudoku_basic_optimization.ipynb).\n",
    "\n",
    "This notebook is separated into sections as\n",
    "1. [Creating an initial configuration](#1-Creating-an-initial-configuration)\n",
    "2. [Showing information of a configuration](#2-Showing-information-of-a-configuration)\n",
    "3. [Optimization: cost functions](#3-Optimization:-cost-functions)\n",
    "4. [Optimization: updates](#4-Optimization:-updates)\n",
    "5. [Optimization: additional information](#5-Optimization:-additional-information)\n",
    "\n",
    "First, let us import the required modules"
   ]
  },
  {
   "cell_type": "code",
   "execution_count": null,
   "metadata": {},
   "outputs": [],
   "source": [
    "using SudokuPlantDesign\n",
    "using PyPlot"
   ]
  },
  {
   "cell_type": "markdown",
   "metadata": {},
   "source": [
    "## 1 Creating an initial configuration\n",
    "\n",
    "There are 4 key aspects when it comes to an initial configuration:\n",
    "- [Creating a new object](#1.1-Creating-a-new-object)\n",
    "- [Accessing individual plots](#1.2-Accessing-individual-plots)\n",
    "- [Distributing missing plots](#1.3-Distributing-missing-plots)\n",
    "- [Distributing checks and entries](#1.4-Distributing-checks-and-entries)"
   ]
  },
  {
   "cell_type": "markdown",
   "metadata": {},
   "source": [
    "#### 1.1 Creating a new object\n",
    "\n",
    "The command to creat a new configuration object is\n",
    "```julia\n",
    "get_configuration(\n",
    "        blocksizes_x,\n",
    "        blocksizes_y,\n",
    "        number_of_check_types\n",
    "        ;\n",
    "        boundary_condition = :periodic\n",
    "    )\n",
    "```\n",
    "\n",
    "where the parameters are as follows:\n",
    "- `blocksizes_x` and `blocksizes_y` are lists which contain the sizes of blocks in the x and y direction respectively\n",
    "- `number_of_check_types` denotes the number of different checks in the design\n",
    "- `boundary_condition` is an optional parameter which denotes the type of boundary in the later optimization (when calculating distances). Possible options are `:open` or `:periodic`, however it can also be omitted"
   ]
  },
  {
   "cell_type": "code",
   "execution_count": null,
   "metadata": {},
   "outputs": [],
   "source": [
    "# creates a configuration with 2 blocks in x-direction and 4 blocks in y-direction and 3 checks total\n",
    "conf = get_configuration([9,9],[2,2,2,2],3);"
   ]
  },
  {
   "cell_type": "markdown",
   "metadata": {},
   "source": [
    "#### 1.2 Accessing individual plots\n",
    "\n",
    "A newly created objects starts as a plain design with only entries but no checks. One can set individual plots in the design to be either an *entry*, a *check* or an *empty (missing)* plot. The syntax is as follows:\n",
    "```julia\n",
    "set_entry!(conf, i,j)            # sets the plot on coordinates i,j to be an entry\n",
    "set_entry!(conf, bi,bj, i,j)     # sets the plot on coordinates i,j in block bi,bj to be an entry\n",
    "\n",
    "set_check!(conf, i,j, c)         # sets the plot on coordinates i,j to be check c\n",
    "set_check!(conf, bi,bj, i,j, c)  # sets the plot on coordinates i,j in block bi,bj to be check c\n",
    "\n",
    "set_empty!(conf, i,j)            # sets the plot on coordinates i,j to be missing (i.e. left empty)\n",
    "set_empty!(conf, bi,bj, i,j)     # sets the plot on coordinates i,j in block bi,bj to be missing (i.e. left empty)\n",
    "```"
   ]
  },
  {
   "cell_type": "code",
   "execution_count": null,
   "metadata": {},
   "outputs": [],
   "source": [
    "# sets the plot at 3,2 to be check #2\n",
    "set_check!(conf, 3,2, 2);"
   ]
  },
  {
   "cell_type": "markdown",
   "metadata": {},
   "source": [
    "#### 1.3 Distributing missing plots\n",
    "\n",
    "Of course it is tedious to set every plot by hand. Therefore, the function `empty_plots!` allows to designate an entire rectangular region in the design which is supposed to be empty (missing):\n",
    "```julia\n",
    "empty_plots!(\n",
    "        conf, \n",
    "        range_x,\n",
    "        range_y\n",
    "    )\n",
    "```\n",
    "Here, `range_x` and `range_y` denote coordinate ranges in the format `from:to` of the region."
   ]
  },
  {
   "cell_type": "code",
   "execution_count": null,
   "metadata": {},
   "outputs": [],
   "source": [
    "# sets the region 1 <= x <= 1 and 3 <= y <= 4 to be missing plots\n",
    "empty_plots!(conf, 1:1,3:4)"
   ]
  },
  {
   "cell_type": "markdown",
   "metadata": {},
   "source": [
    "Another option is to use the function `empty_plots_in_block!` which allows to designate an entire block of the design as empty (missing):\n",
    "```julia\n",
    "empty_plots_in_block!(\n",
    "        conf, \n",
    "        block_i, block_j\n",
    "    )\n",
    "```\n",
    "Here, `block_i` and `block_j` specify the coordinates of the block."
   ]
  },
  {
   "cell_type": "code",
   "execution_count": null,
   "metadata": {},
   "outputs": [],
   "source": [
    "# sets the block 1,2 to be entirely missing\n",
    "empty_plots_in_block!(conf, 1,2)"
   ]
  },
  {
   "cell_type": "markdown",
   "metadata": {},
   "source": [
    "#### 1.4 Distributing checks and entries\n",
    "\n",
    "It is also recommended to start the optimization of a design with some distribution of checks and entrys at hand. To initialize such a distribution, there are several possibilities implemented."
   ]
  },
  {
   "cell_type": "markdown",
   "metadata": {},
   "source": [
    "The function `initialize_entries!` allows to fill all non-empty plots of the design with checks, s.t. there is an exact number of entries remaining (which the breeder wants to distribute):\n",
    "```julia\n",
    "initialize_entries!(\n",
    "        conf, \n",
    "        number_of_entries\n",
    "    )\n",
    "```"
   ]
  },
  {
   "cell_type": "code",
   "execution_count": null,
   "metadata": {},
   "outputs": [],
   "source": [
    "# distributes exactly 119 entries (and leaves the rest as checks)\n",
    "initialize_entries!(conf, 119)"
   ]
  },
  {
   "cell_type": "markdown",
   "metadata": {},
   "source": [
    "Similarly, the function `initialize_checks!` allows to fill all non-empty plots of the design with random checks, s.t. there is an exact number of checks in total:\n",
    "```julia\n",
    "initialize_checks!(\n",
    "        conf, \n",
    "        number_of_checks\n",
    "    )\n",
    "```"
   ]
  },
  {
   "cell_type": "code",
   "execution_count": null,
   "metadata": {},
   "outputs": [],
   "source": [
    "# distributes exactly 42 random checks (and leaves the rest as entries)\n",
    "initialize_checks!(conf, 42)"
   ]
  },
  {
   "cell_type": "markdown",
   "metadata": {},
   "source": [
    "A third option is to distribute one check of every type per block with the function `initialize_checks_per_block!`\n",
    "```julia\n",
    "initialize_checks_per_block!(\n",
    "        conf\n",
    "    )\n",
    "```\n",
    "\n",
    "Note that this function distributes less checks if less space is available in a particular block (e.g. due to missing plots)."
   ]
  },
  {
   "cell_type": "code",
   "execution_count": null,
   "metadata": {},
   "outputs": [],
   "source": [
    "# distributes exactly 1 check per type per block\n",
    "initialize_checks_per_block!(conf)"
   ]
  },
  {
   "cell_type": "markdown",
   "metadata": {},
   "source": [
    "## 2 Showing information of a configuration\n",
    "\n",
    "Information about a configuration object can be accessed in two different ways: numeric information and plotting."
   ]
  },
  {
   "cell_type": "markdown",
   "metadata": {},
   "source": [
    "Numeric information can be printed by calling the function `print_info(conf)` as seen below"
   ]
  },
  {
   "cell_type": "code",
   "execution_count": null,
   "metadata": {
    "scrolled": false
   },
   "outputs": [],
   "source": [
    "# prints information on the current configuration conf\n",
    "print_info(conf)"
   ]
  },
  {
   "cell_type": "markdown",
   "metadata": {},
   "source": [
    "The configuration can also be plotted (utilizing `PyPlot` as the backend) with the following function:\n",
    "\n",
    "```julia\n",
    "show_configuration(\n",
    "        conf\n",
    "        ;\n",
    "        zoom = 1.0,\n",
    "        title_zoom = 1.0,\n",
    "        cmap = \"gist_rainbow\",\n",
    "        check_labels = true,\n",
    "        dpi = 300,\n",
    "        show_coordinates = false\n",
    "    )\n",
    "```\n",
    "The several optional parameters are:\n",
    "- `zoom` denotes the zoom of the entire figure\n",
    "- `title_zoom` denotes a zoom that only acts on the figure title\n",
    "- `cmap` is the color map used for plotting\n",
    "- `check_labels` denotes wether there should be text labels in the check fields\n",
    "- `dpi` the dpi of the figure, useful for exporting to `.png` files\n",
    "- `show_coordinates` denotes wether a coordinate system should be drawn around the design\n",
    "\n",
    "It should be noted, that plotting via `PyPlot` enables the user to use surrounding `PyPlot` syntax to refine or save the figure."
   ]
  },
  {
   "cell_type": "code",
   "execution_count": null,
   "metadata": {},
   "outputs": [],
   "source": [
    "show_configuration(conf, zoom=0.2)"
   ]
  },
  {
   "cell_type": "markdown",
   "metadata": {},
   "source": [
    "## 3 Optimization: cost functions\n",
    "\n",
    "To begin the optimization process, one has to specify a function which serves as the cost function of the optimization. The number it returns can be thought of as *how bad is the configuration*, i.e. high numbers are bad and low numbers are desirable.\n",
    "\n",
    "There are several cost functions already implemented, which can be added together to create a new cost function as follows. These pre-implemented cost functions are the following (which can be found [here](https://github.com/janattig/SudokuPlantDesign.jl/blob/main/src/monte_carlo/cost_functions.jl)):\n",
    "\n",
    "```julia\n",
    "# cost functions penaltizing deviations from a fixed number of checks / entries\n",
    "K_num_checks_total(conf, num_checks)\n",
    "K_num_entries_total(conf, num_entries)\n",
    "\n",
    "# cost functions penaltizing deviations of check numbers per type\n",
    "K_num_checks_per_type(conf, num_checks)\n",
    "K_num_checks_equal_per_type(conf)\n",
    "\n",
    "\n",
    "# cost functions penaltizing check numbers per type and per block\n",
    "K_min_checks_per_type_per_block(conf, num_checks)\n",
    "K_max_checks_per_type_per_block(conf, num_checks)\n",
    "K_checks_per_type_per_block(conf, num_checks)\n",
    "\n",
    "\n",
    "# cost functions penaltizing check numbers per type and per row\n",
    "K_min_checks_per_type_per_row(conf, num_checks)\n",
    "K_max_checks_per_type_per_row(conf, num_checks)\n",
    "K_checks_per_type_per_row(conf, num_checks)\n",
    "\n",
    "# cost functions penaltizing check numbers per type and per colum\n",
    "K_min_checks_per_type_per_column(conf, num_checks)\n",
    "K_max_checks_per_type_per_column(conf, num_checks)\n",
    "K_checks_per_type_per_column(conf, num_checks)\n",
    "\n",
    "\n",
    "# cost functions penaltizing same checks being to close\n",
    "K_neighbors_same_check_const(conf, cost)\n",
    "K_neighbors_same_check_dmax_const(conf, dmax, cost)\n",
    "K_neighbors_same_check_functional(conf, f)\n",
    "\n",
    "# cost functions penaltizing different checks being to close\n",
    "K_neighbors_different_check_const(conf, cost)\n",
    "K_neighbors_different_check_dmax_const(conf, dmax, cost)\n",
    "K_neighbors_different_check_functional(conf, f)\n",
    "```\n",
    "\n",
    "Note that chosing a correct cost function is vital to the success of the optimization procedure. At the same time, this process is going along with try and error. If you find your result lacking in some part, try to add a respective cost function which penaltizes this behavior."
   ]
  },
  {
   "cell_type": "code",
   "execution_count": null,
   "metadata": {},
   "outputs": [],
   "source": [
    "# combines different cost functions into a single cost function\n",
    "cost_function(conf) =   K_checks_per_type_per_block(conf, 1) * 100 +\n",
    "                        K_checks_per_type_per_column(conf, 1) * 10  +\n",
    "                        K_checks_per_type_per_row(conf, 1) * 10 +\n",
    "                        K_neighbors_different_check_functional(conf, d->0.5/(d^3)) +\n",
    "                        K_neighbors_same_check_functional(conf, d->1/(d^3))"
   ]
  },
  {
   "cell_type": "markdown",
   "metadata": {},
   "source": [
    "## 4 Optimization: updates\n",
    "\n",
    "The second key ingredient in the optimization process are updates. These can be thought of as the step on *how to produce a new configuration from an old one*. In optimizing, the algorithm produces many updates and only follows those which the cost function deems *good updates*.\n",
    "\n",
    "There are several different updates implemented into the code, which are the following:\n",
    "- `UpdateInsertCheck()` and `UpdateInsertCheck()` are used to add and remove checks to the configuration\n",
    "- `UpdateNewCheckLabel()` gives a random check a new label, i.e. changes its number\n",
    "- `UpdateSwapCheckCheck()` swaps two checks in the configuration with each other\n",
    "- `UpdateSwapCheckEntry()` swaps a check and an entry in the configuration with each other\n",
    "\n",
    "Note that apart from `UpdateInsertCheck()` and `UpdateInsertCheck()`, all updates *preserve* the total number of checks and therefore can be used when the number of entries is fixed, even without specification in the cost function."
   ]
  },
  {
   "cell_type": "code",
   "execution_count": null,
   "metadata": {},
   "outputs": [],
   "source": [
    "# select a list of updates for the algorithm to choose from\n",
    "updates = [\n",
    "    UpdateNewCheckLabel(),\n",
    "    UpdateSwapCheckCheck(),\n",
    "    UpdateSwapCheckEntry()\n",
    "]"
   ]
  },
  {
   "cell_type": "markdown",
   "metadata": {},
   "source": [
    "## 5 Optimization: additional information\n",
    "\n",
    "With updates and cost function defined, the optimization can be run with the following command:\n",
    "```julia\n",
    "optimize_design!(\n",
    "        conf,\n",
    "        updates,\n",
    "        cost_function,\n",
    "        number_of_updates = 100000\n",
    "    )\n",
    "```\n",
    "The function performs the specified number of updates and returns an array containing the cost values after each step (for later analysis)."
   ]
  },
  {
   "cell_type": "code",
   "execution_count": null,
   "metadata": {},
   "outputs": [],
   "source": [
    "costs = optimize_design!(\n",
    "    conf,\n",
    "    updates,\n",
    "    cost_function,\n",
    "    500000\n",
    ");"
   ]
  },
  {
   "cell_type": "code",
   "execution_count": null,
   "metadata": {},
   "outputs": [],
   "source": []
  }
 ],
 "metadata": {
  "@webio": {
   "lastCommId": null,
   "lastKernelId": null
  },
  "kernelspec": {
   "display_name": "Julia 1.4.0",
   "language": "julia",
   "name": "julia-1.4"
  },
  "language_info": {
   "file_extension": ".jl",
   "mimetype": "application/julia",
   "name": "julia",
   "version": "1.4.0"
  }
 },
 "nbformat": 4,
 "nbformat_minor": 4
}
