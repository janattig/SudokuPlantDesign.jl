{
 "cells": [
  {
   "cell_type": "markdown",
   "metadata": {},
   "source": [
    "# Example: field plan from Sudoku design"
   ]
  },
  {
   "cell_type": "markdown",
   "metadata": {},
   "source": [
    "First, import all required modules."
   ]
  },
  {
   "cell_type": "code",
   "execution_count": null,
   "metadata": {},
   "outputs": [],
   "source": [
    "using SudokuPlantDesign\n",
    "using DataFrames\n",
    "using XLSX\n",
    "using PyPlot"
   ]
  },
  {
   "cell_type": "markdown",
   "metadata": {},
   "source": [
    "Note that one can make a field plan for any design featured in `SudokuPlantDesign.jl`, however in this example, we will be closely resembling the augmented design with replicated checks and unreplicated entries, featured [here](https://github.com/janattig/SudokuPlantDesign.jl/blob/main/examples/sudoku_augmented.ipynb)."
   ]
  },
  {
   "cell_type": "markdown",
   "metadata": {},
   "source": [
    "## Generating an (optimized) Sudoku configuration\n",
    "\n",
    "To create a field plan for a design, one first has to go through the steps of creating an (optimized) configuration `conf` as seen below. For more details on how to do this, check out the basic optimization example, which can be found [here](https://github.com/janattig/SudokuPlantDesign.jl/blob/main/examples/sudoku_basic_optimization.ipynb). With an optimized configuration `conf` at hand, one can proceed to create a field plan for the design. For such a field plan, additional information on the genotypes involved in the trial is added.\n",
    "\n",
    "In the case of our example here, it is important that we distribute exactly 119 entries, which will be the length of our list later on. Then, optimization is carried out as in the other examples."
   ]
  },
  {
   "cell_type": "code",
   "execution_count": null,
   "metadata": {},
   "outputs": [],
   "source": [
    "conf = get_configuration([9,9],[2,2,2,2],3)\n",
    "\n",
    "empty_plots!(conf, 1:2,3:4)\n",
    "initialize_entries!(conf, 119)\n",
    "\n",
    "cost_function(c) =  K_num_checks_equal_per_type(c) +\n",
    "                    K_checks_per_type_per_block(c, 1)*20 +\n",
    "                    K_neighbors_different_check_functional(c, d->0.5/(d^3)) +\n",
    "                    K_neighbors_same_check_functional(c, d->1/(d^3))\n",
    "\n",
    "updates = [UpdateNewCheckLabel(),UpdateSwapCheckCheck(),UpdateSwapCheckEntry()]\n",
    "\n",
    "optimize_design!(\n",
    "    conf,\n",
    "    updates,\n",
    "    cost_function,\n",
    "    500000\n",
    ");\n",
    "\n",
    "\n",
    "show_configuration(conf, zoom=0.2, show_coordinates=true)\n",
    "\n",
    "mkpath(\"output/\")\n",
    "savefig(\"output/field_plan_initial.pdf\")"
   ]
  },
  {
   "cell_type": "markdown",
   "metadata": {},
   "source": [
    "## 1 - Generating a labeled check configuration\n",
    "\n",
    "With an optimized configuration `conf` at hand, one can proceed to create a field plan for the design. The first step in this endeavour is to create an upgraded version of the check configuration `conf`, a so-called *labeled check configuration* with the name `lconf`. This configuration not only contains the original check configuration but also labels and indices (position IDs) of each plant."
   ]
  },
  {
   "cell_type": "code",
   "execution_count": null,
   "metadata": {},
   "outputs": [],
   "source": [
    "lconf = LabeledCheckConfiguration(conf);"
   ]
  },
  {
   "cell_type": "markdown",
   "metadata": {},
   "source": [
    "The labeled check configuration comes with its own `show_configuration` function with identical syntax to its check configuration counterpart. It not only plots the previously shown color pattern, but also the indices and additional labels on each plot.\n",
    "```julia\n",
    "show_configuration(\n",
    "        lconf\n",
    "        ;\n",
    "        zoom = 1.0,\n",
    "        title_zoom = 1.0,\n",
    "        text_zoom = 1.0,\n",
    "        cmap = \"gist_rainbow\",\n",
    "        check_labels = true,\n",
    "        dpi = 300,\n",
    "        show_coordinates = false\n",
    "    )\n",
    "```\n",
    "\n",
    "Note that upon initialization of a new labeled check configuration, all indices are set to `-1` and there are not labels, hence the rather empty figure."
   ]
  },
  {
   "cell_type": "code",
   "execution_count": null,
   "metadata": {},
   "outputs": [],
   "source": [
    "show_configuration(lconf, check_labels=true, show_coordinates=true, text_zoom=0.9)"
   ]
  },
  {
   "cell_type": "markdown",
   "metadata": {},
   "source": [
    "## 2 Generating labels for the field plan\n",
    "\n",
    "Let us add labels to the field plan. To do so, additional information on the genotypes involved in the trial is required. It is added as two *dataframes* with data for checks and entries respectively, which have to be of the following structure:\n",
    "- first colum: genotype name\n",
    "- further colums: additional information (optional, but have to be identical among the dataframes)\n",
    "\n",
    "In the case of our example, the sheets `checks` and `entries` from the Excel file `input_augmented.xlsx` are read in and converted into the two dataframes. Each sheet contains the name of the entry in the first column, and in following columns further properties of the entries."
   ]
  },
  {
   "cell_type": "code",
   "execution_count": null,
   "metadata": {},
   "outputs": [],
   "source": [
    "entrydata = string.(DataFrame(XLSX.readtable(\"input_augmented.xlsx\", \"entries\")));\n",
    "replace!.(eachcol(entrydata), \"missing\" => \"NA\");"
   ]
  },
  {
   "cell_type": "code",
   "execution_count": null,
   "metadata": {},
   "outputs": [],
   "source": [
    "checkdata = string.(DataFrame(XLSX.readtable(\"input_augmented.xlsx\", \"checks\")));\n",
    "replace!.(eachcol(checkdata), \"missing\" => \"NA\");"
   ]
  },
  {
   "cell_type": "markdown",
   "metadata": {},
   "source": [
    "Of course, it is possible to create a dataframe without an Excel sheet. However in this case, it should be noted that the format of the dataframes has to be kept to the specifications of the cell above."
   ]
  },
  {
   "cell_type": "markdown",
   "metadata": {},
   "source": [
    "With the two dataframes `entrydata` and `checkdata` completed, one can now assign labels to the different plots. This is done with the function `fill_labels!`, which uses the dataframes to assign the values of the different columns as labels in the labeled check configuration:\n",
    "```julia\n",
    "fill_labels!(\n",
    "    lconf,\n",
    "    checkdata,\n",
    "    entrydata\n",
    "    ;\n",
    "    shuffle_entries = true\n",
    ")\n",
    "```\n",
    "\n",
    "The additional (optional) keyword argument `shuffle_indices` can be used to select if the (unreplicated) entries should be shuffled before being assigned to their respective fields.\n",
    "\n",
    "Note, that the length of dataframes has to match the information of the check configuration, i.e. `checkdata` needs as many rows as check types and `entrydata` needs exactly as many rows as there are entries in the design."
   ]
  },
  {
   "cell_type": "code",
   "execution_count": null,
   "metadata": {},
   "outputs": [],
   "source": [
    "# fill the labels\n",
    "fill_labels!(lconf, checkdata, entrydata)\n",
    "# show the resulting configuration to see the labels\n",
    "show_configuration(lconf, check_labels=true, show_coordinates=true, text_zoom=0.9)"
   ]
  },
  {
   "cell_type": "markdown",
   "metadata": {},
   "source": [
    "## 3 Generating indices for the field plan\n",
    "\n",
    "In the next step, the indices (position IDs) of the field plan are set. In total, there are several functions to assign indices to the different plots in the design:\n",
    "```julia\n",
    "fill_indices_snake_x!(lconf, di,dj)\n",
    "fill_indices_snake_y!(lconf, di,dj)\n",
    "\n",
    "fill_indices_lines_x!(lconf, di,dj)\n",
    "fill_indices_lines_y!(lconf, di,dj)\n",
    "```\n",
    "All of these functions go through the different plots in the direction outlined by `di` and `dj` and assign labels either in a snake or line pattern (see examples belwo). \n",
    "\n",
    "\n",
    "Furthermore, optional arguments can be passed to all of these functions:\n",
    "- `index_for_empty` if empty (missing) plots should get an index (position ID). Default: `false`\n",
    "- The region in which the pattern should be applied (if not given by the boundaries of the design), given by:\n",
    "    - `min_i` minimal x-position which is indexed\n",
    "    - `max_i` maximal x-position which is indexed\n",
    "    - `min_j` minimal y-position which is indexed\n",
    "    - `max_j` maximal y-position which is indexed\n",
    "- The explicit start position, given by xy-coordinates `i` and `j`\n",
    "- `start_index` The index of the first plant (other indices are counted up from this). Default: `1`"
   ]
  },
  {
   "cell_type": "code",
   "execution_count": null,
   "metadata": {},
   "outputs": [],
   "source": [
    "# fill indices by snake pattern along y axis, going in positive x direction (right) and positive y direction (up)\n",
    "fill_indices_snake_y!(lconf, 1,1, index_for_empty=true)\n",
    "\n",
    "show_configuration(lconf, check_labels=true, show_coordinates=true, text_zoom=0.9)"
   ]
  },
  {
   "cell_type": "code",
   "execution_count": null,
   "metadata": {},
   "outputs": [],
   "source": [
    "# fill indices by lines pattern along x axis, going in negative x direction (left) and positive y direction (up)\n",
    "fill_indices_lines_x!(lconf, -1,1, index_for_empty=true)\n",
    "\n",
    "show_configuration(lconf, check_labels=true, show_coordinates=true, text_zoom=0.9)"
   ]
  },
  {
   "cell_type": "code",
   "execution_count": null,
   "metadata": {},
   "outputs": [],
   "source": [
    "# fill indices by snake pattern along x axis which reflects at block boundaries\n",
    "fill_indices_snake_x!(lconf, -1,1, index_for_empty=false, max_i=9)\n",
    "fill_indices_snake_x!(lconf, 1,-1, index_for_empty=false, min_i=10, max_i=18, start_index=69)\n",
    "\n",
    "show_configuration(lconf, check_labels=true, show_coordinates=true, text_zoom=0.9)"
   ]
  },
  {
   "cell_type": "code",
   "execution_count": null,
   "metadata": {},
   "outputs": [],
   "source": []
  },
  {
   "cell_type": "code",
   "execution_count": null,
   "metadata": {},
   "outputs": [],
   "source": []
  },
  {
   "cell_type": "code",
   "execution_count": null,
   "metadata": {},
   "outputs": [],
   "source": []
  },
  {
   "cell_type": "markdown",
   "metadata": {},
   "source": [
    "For exporting into a trial plan, the data of this optimized Sudoku-augmented design can now be converted back into a dataframe. This dataframe contains not only the genotype name and properties, but also their individual positions, xy-locations as well as information about their block. This dataframe can be further modified in julia before exporting it."
   ]
  },
  {
   "cell_type": "code",
   "execution_count": null,
   "metadata": {},
   "outputs": [],
   "source": [
    "df = get_dataframe(lconf)"
   ]
  },
  {
   "cell_type": "markdown",
   "metadata": {},
   "source": [
    "As a first modification, all generic property columns are renamed to the the column names of the checkdata file."
   ]
  },
  {
   "cell_type": "code",
   "execution_count": null,
   "metadata": {},
   "outputs": [],
   "source": [
    "for (i,name) in enumerate(names(checkdata)[2:end])\n",
    "    rename!(df,Symbol(\"property_\"*string(i)) => Symbol(name))\n",
    "end\n",
    "\n",
    "df"
   ]
  },
  {
   "cell_type": "markdown",
   "metadata": {},
   "source": [
    "As a second modification, additional columns are added."
   ]
  },
  {
   "cell_type": "code",
   "execution_count": null,
   "metadata": {},
   "outputs": [],
   "source": [
    "df[:, :year]       .= 2023\n",
    "df[:, :extra_info] .= \"myextrainfo\"\n",
    "\n",
    "df"
   ]
  },
  {
   "cell_type": "markdown",
   "metadata": {},
   "source": [
    "Finally, the trial plan is created by writing the dataframe into an Excel file."
   ]
  },
  {
   "cell_type": "code",
   "execution_count": null,
   "metadata": {},
   "outputs": [],
   "source": [
    "mkpath(\"output/\")\n",
    "XLSX.writetable(\"output/augmented_design_final_design.xlsx\", collect(eachcol(df)), names(df),overwrite=true)"
   ]
  },
  {
   "cell_type": "code",
   "execution_count": null,
   "metadata": {},
   "outputs": [],
   "source": []
  }
 ],
 "metadata": {
  "@webio": {
   "lastCommId": null,
   "lastKernelId": null
  },
  "kernelspec": {
   "display_name": "Julia 1.4.0",
   "language": "julia",
   "name": "julia-1.4"
  },
  "language_info": {
   "file_extension": ".jl",
   "mimetype": "application/julia",
   "name": "julia",
   "version": "1.4.0"
  }
 },
 "nbformat": 4,
 "nbformat_minor": 4
}
