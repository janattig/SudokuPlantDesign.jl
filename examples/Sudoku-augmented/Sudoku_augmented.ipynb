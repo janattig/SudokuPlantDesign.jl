{
 "cells": [
  {
   "cell_type": "code",
   "execution_count": 3,
   "metadata": {},
   "outputs": [
    {
     "data": {
      "image/svg+xml": [
       "<?xml version\"1.0\" encoding=\"UTF-8\"?>\n",
       "<!DOCTYPE svg PUBLIC \"-//W3C//DTD SVG 1.1//EN\"\n",
       " \"http://www.w3.org/Graphics/SVG/1.1/DTD/svg11.dtd\">\n",
       "<svg xmlns=\"http://www.w3.org/2000/svg\" version=\"1.1\"\n",
       "     width=\"153.0mm\" height=\"5.5mm\"\n",
       "     shape-rendering=\"crispEdges\">\n",
       "<text x=\"129.0mm\" y=\"3.8mm\" font-size=\"3mm\">Sudoku</text><rect x=\"0.0mm\" y=\"0.0mm\" width=\"0.5mm\" height=\"5mm\" fill=\"#808080\" stroke=\"none\" /><rect x=\"0.5mm\" y=\"0.0mm\" width=\"0.5mm\" height=\"5mm\" fill=\"#82827D\" stroke=\"none\" /><rect x=\"1.0mm\" y=\"0.0mm\" width=\"0.5mm\" height=\"5mm\" fill=\"#86857A\" stroke=\"none\" /><rect x=\"1.5mm\" y=\"0.0mm\" width=\"0.5mm\" height=\"5mm\" fill=\"#888778\" stroke=\"none\" /><rect x=\"2.0mm\" y=\"0.0mm\" width=\"0.5mm\" height=\"5mm\" fill=\"#8C8A75\" stroke=\"none\" /><rect x=\"2.5mm\" y=\"0.0mm\" width=\"0.5mm\" height=\"5mm\" fill=\"#8E8C72\" stroke=\"none\" /><rect x=\"3.0mm\" y=\"0.0mm\" width=\"0.5mm\" height=\"5mm\" fill=\"#928F70\" stroke=\"none\" /><rect x=\"3.5mm\" y=\"0.0mm\" width=\"0.5mm\" height=\"5mm\" fill=\"#94926D\" stroke=\"none\" /><rect x=\"4.0mm\" y=\"0.0mm\" width=\"0.5mm\" height=\"5mm\" fill=\"#98946A\" stroke=\"none\" /><rect x=\"4.5mm\" y=\"0.0mm\" width=\"0.5mm\" height=\"5mm\" fill=\"#9A9768\" stroke=\"none\" /><rect x=\"5.0mm\" y=\"0.0mm\" width=\"0.5mm\" height=\"5mm\" fill=\"#9E9965\" stroke=\"none\" /><rect x=\"5.5mm\" y=\"0.0mm\" width=\"0.5mm\" height=\"5mm\" fill=\"#A09C62\" stroke=\"none\" /><rect x=\"6.0mm\" y=\"0.0mm\" width=\"0.5mm\" height=\"5mm\" fill=\"#A39F60\" stroke=\"none\" /><rect x=\"6.5mm\" y=\"0.0mm\" width=\"0.5mm\" height=\"5mm\" fill=\"#A6A15D\" stroke=\"none\" /><rect x=\"7.0mm\" y=\"0.0mm\" width=\"0.5mm\" height=\"5mm\" fill=\"#AAA45A\" stroke=\"none\" /><rect x=\"7.5mm\" y=\"0.0mm\" width=\"0.5mm\" height=\"5mm\" fill=\"#ACA658\" stroke=\"none\" /><rect x=\"8.0mm\" y=\"0.0mm\" width=\"0.5mm\" height=\"5mm\" fill=\"#B0A955\" stroke=\"none\" /><rect x=\"8.5mm\" y=\"0.0mm\" width=\"0.5mm\" height=\"5mm\" fill=\"#B2AC52\" stroke=\"none\" /><rect x=\"9.0mm\" y=\"0.0mm\" width=\"0.5mm\" height=\"5mm\" fill=\"#B6AE50\" stroke=\"none\" /><rect x=\"9.5mm\" y=\"0.0mm\" width=\"0.5mm\" height=\"5mm\" fill=\"#B8B14D\" stroke=\"none\" /><rect x=\"10.0mm\" y=\"0.0mm\" width=\"0.5mm\" height=\"5mm\" fill=\"#BCB34A\" stroke=\"none\" /><rect x=\"10.5mm\" y=\"0.0mm\" width=\"0.5mm\" height=\"5mm\" fill=\"#BEB648\" stroke=\"none\" /><rect x=\"11.0mm\" y=\"0.0mm\" width=\"0.5mm\" height=\"5mm\" fill=\"#C2B945\" stroke=\"none\" /><rect x=\"11.5mm\" y=\"0.0mm\" width=\"0.5mm\" height=\"5mm\" fill=\"#C4BB43\" stroke=\"none\" /><rect x=\"12.0mm\" y=\"0.0mm\" width=\"0.5mm\" height=\"5mm\" fill=\"#C8BE40\" stroke=\"none\" /><rect x=\"12.5mm\" y=\"0.0mm\" width=\"0.5mm\" height=\"5mm\" fill=\"#CBC03D\" stroke=\"none\" /><rect x=\"13.0mm\" y=\"0.0mm\" width=\"0.5mm\" height=\"5mm\" fill=\"#CEC33B\" stroke=\"none\" /><rect x=\"13.5mm\" y=\"0.0mm\" width=\"0.5mm\" height=\"5mm\" fill=\"#D0C638\" stroke=\"none\" /><rect x=\"14.0mm\" y=\"0.0mm\" width=\"0.5mm\" height=\"5mm\" fill=\"#D3C835\" stroke=\"none\" /><rect x=\"14.5mm\" y=\"0.0mm\" width=\"0.5mm\" height=\"5mm\" fill=\"#D6CB33\" stroke=\"none\" /><rect x=\"15.0mm\" y=\"0.0mm\" width=\"0.5mm\" height=\"5mm\" fill=\"#DACD30\" stroke=\"none\" /><rect x=\"15.5mm\" y=\"0.0mm\" width=\"0.5mm\" height=\"5mm\" fill=\"#DCD02D\" stroke=\"none\" /><rect x=\"16.0mm\" y=\"0.0mm\" width=\"0.5mm\" height=\"5mm\" fill=\"#E0D32B\" stroke=\"none\" /><rect x=\"16.5mm\" y=\"0.0mm\" width=\"0.5mm\" height=\"5mm\" fill=\"#E2D528\" stroke=\"none\" /><rect x=\"17.0mm\" y=\"0.0mm\" width=\"0.5mm\" height=\"5mm\" fill=\"#E6D825\" stroke=\"none\" /><rect x=\"17.5mm\" y=\"0.0mm\" width=\"0.5mm\" height=\"5mm\" fill=\"#E8DA23\" stroke=\"none\" /><rect x=\"18.0mm\" y=\"0.0mm\" width=\"0.5mm\" height=\"5mm\" fill=\"#ECDD20\" stroke=\"none\" /><rect x=\"18.5mm\" y=\"0.0mm\" width=\"0.5mm\" height=\"5mm\" fill=\"#EEE01D\" stroke=\"none\" /><rect x=\"19.0mm\" y=\"0.0mm\" width=\"0.5mm\" height=\"5mm\" fill=\"#F2E21B\" stroke=\"none\" /><rect x=\"19.5mm\" y=\"0.0mm\" width=\"0.5mm\" height=\"5mm\" fill=\"#F4E518\" stroke=\"none\" /><rect x=\"20.0mm\" y=\"0.0mm\" width=\"0.5mm\" height=\"5mm\" fill=\"#F8E715\" stroke=\"none\" /><rect x=\"20.5mm\" y=\"0.0mm\" width=\"0.5mm\" height=\"5mm\" fill=\"#FAEA13\" stroke=\"none\" /><rect x=\"21.0mm\" y=\"0.0mm\" width=\"0.5mm\" height=\"5mm\" fill=\"#FEED10\" stroke=\"none\" /><rect x=\"21.5mm\" y=\"0.0mm\" width=\"0.5mm\" height=\"5mm\" fill=\"#FFEC11\" stroke=\"none\" /><rect x=\"22.0mm\" y=\"0.0mm\" width=\"0.5mm\" height=\"5mm\" fill=\"#FFE716\" stroke=\"none\" /><rect x=\"22.5mm\" y=\"0.0mm\" width=\"0.5mm\" height=\"5mm\" fill=\"#FEE21B\" stroke=\"none\" /><rect x=\"23.0mm\" y=\"0.0mm\" width=\"0.5mm\" height=\"5mm\" fill=\"#FEDE20\" stroke=\"none\" /><rect x=\"23.5mm\" y=\"0.0mm\" width=\"0.5mm\" height=\"5mm\" fill=\"#FED925\" stroke=\"none\" /><rect x=\"24.0mm\" y=\"0.0mm\" width=\"0.5mm\" height=\"5mm\" fill=\"#FED529\" stroke=\"none\" /><rect x=\"24.5mm\" y=\"0.0mm\" width=\"0.5mm\" height=\"5mm\" fill=\"#FDD02E\" stroke=\"none\" /><rect x=\"25.0mm\" y=\"0.0mm\" width=\"0.5mm\" height=\"5mm\" fill=\"#FDCB33\" stroke=\"none\" /><rect x=\"25.5mm\" y=\"0.0mm\" width=\"0.5mm\" height=\"5mm\" fill=\"#FDC738\" stroke=\"none\" /><rect x=\"26.0mm\" y=\"0.0mm\" width=\"0.5mm\" height=\"5mm\" fill=\"#FCC23D\" stroke=\"none\" /><rect x=\"26.5mm\" y=\"0.0mm\" width=\"0.5mm\" height=\"5mm\" fill=\"#FCBD42\" stroke=\"none\" /><rect x=\"27.0mm\" y=\"0.0mm\" width=\"0.5mm\" height=\"5mm\" fill=\"#FCB947\" stroke=\"none\" /><rect x=\"27.5mm\" y=\"0.0mm\" width=\"0.5mm\" height=\"5mm\" fill=\"#FCB44B\" stroke=\"none\" /><rect x=\"28.0mm\" y=\"0.0mm\" width=\"0.5mm\" height=\"5mm\" fill=\"#FBB050\" stroke=\"none\" /><rect x=\"28.5mm\" y=\"0.0mm\" width=\"0.5mm\" height=\"5mm\" fill=\"#FBAB55\" stroke=\"none\" /><rect x=\"29.0mm\" y=\"0.0mm\" width=\"0.5mm\" height=\"5mm\" fill=\"#FBA65A\" stroke=\"none\" /><rect x=\"29.5mm\" y=\"0.0mm\" width=\"0.5mm\" height=\"5mm\" fill=\"#FBA25F\" stroke=\"none\" /><rect x=\"30.0mm\" y=\"0.0mm\" width=\"0.5mm\" height=\"5mm\" fill=\"#FA9D64\" stroke=\"none\" /><rect x=\"30.5mm\" y=\"0.0mm\" width=\"0.5mm\" height=\"5mm\" fill=\"#FA9968\" stroke=\"none\" /><rect x=\"31.0mm\" y=\"0.0mm\" width=\"0.5mm\" height=\"5mm\" fill=\"#FA946D\" stroke=\"none\" /><rect x=\"31.5mm\" y=\"0.0mm\" width=\"0.5mm\" height=\"5mm\" fill=\"#FA8F72\" stroke=\"none\" /><rect x=\"32.0mm\" y=\"0.0mm\" width=\"0.5mm\" height=\"5mm\" fill=\"#F98B77\" stroke=\"none\" /><rect x=\"32.5mm\" y=\"0.0mm\" width=\"0.5mm\" height=\"5mm\" fill=\"#F9867C\" stroke=\"none\" /><rect x=\"33.0mm\" y=\"0.0mm\" width=\"0.5mm\" height=\"5mm\" fill=\"#F98181\" stroke=\"none\" /><rect x=\"33.5mm\" y=\"0.0mm\" width=\"0.5mm\" height=\"5mm\" fill=\"#F97D86\" stroke=\"none\" /><rect x=\"34.0mm\" y=\"0.0mm\" width=\"0.5mm\" height=\"5mm\" fill=\"#F8788A\" stroke=\"none\" /><rect x=\"34.5mm\" y=\"0.0mm\" width=\"0.5mm\" height=\"5mm\" fill=\"#F8748F\" stroke=\"none\" /><rect x=\"35.0mm\" y=\"0.0mm\" width=\"0.5mm\" height=\"5mm\" fill=\"#F86F94\" stroke=\"none\" /><rect x=\"35.5mm\" y=\"0.0mm\" width=\"0.5mm\" height=\"5mm\" fill=\"#F76A99\" stroke=\"none\" /><rect x=\"36.0mm\" y=\"0.0mm\" width=\"0.5mm\" height=\"5mm\" fill=\"#F7669E\" stroke=\"none\" /><rect x=\"36.5mm\" y=\"0.0mm\" width=\"0.5mm\" height=\"5mm\" fill=\"#F761A3\" stroke=\"none\" /><rect x=\"37.0mm\" y=\"0.0mm\" width=\"0.5mm\" height=\"5mm\" fill=\"#F75DA8\" stroke=\"none\" /><rect x=\"37.5mm\" y=\"0.0mm\" width=\"0.5mm\" height=\"5mm\" fill=\"#F658AC\" stroke=\"none\" /><rect x=\"38.0mm\" y=\"0.0mm\" width=\"0.5mm\" height=\"5mm\" fill=\"#F653B1\" stroke=\"none\" /><rect x=\"38.5mm\" y=\"0.0mm\" width=\"0.5mm\" height=\"5mm\" fill=\"#F64FB6\" stroke=\"none\" /><rect x=\"39.0mm\" y=\"0.0mm\" width=\"0.5mm\" height=\"5mm\" fill=\"#F64ABB\" stroke=\"none\" /><rect x=\"39.5mm\" y=\"0.0mm\" width=\"0.5mm\" height=\"5mm\" fill=\"#F546C0\" stroke=\"none\" /><rect x=\"40.0mm\" y=\"0.0mm\" width=\"0.5mm\" height=\"5mm\" fill=\"#F541C5\" stroke=\"none\" /><rect x=\"40.5mm\" y=\"0.0mm\" width=\"0.5mm\" height=\"5mm\" fill=\"#F53CC9\" stroke=\"none\" /><rect x=\"41.0mm\" y=\"0.0mm\" width=\"0.5mm\" height=\"5mm\" fill=\"#F538CE\" stroke=\"none\" /><rect x=\"41.5mm\" y=\"0.0mm\" width=\"0.5mm\" height=\"5mm\" fill=\"#F433D3\" stroke=\"none\" /><rect x=\"42.0mm\" y=\"0.0mm\" width=\"0.5mm\" height=\"5mm\" fill=\"#F42ED8\" stroke=\"none\" /><rect x=\"42.5mm\" y=\"0.0mm\" width=\"0.5mm\" height=\"5mm\" fill=\"#F42ADD\" stroke=\"none\" /><rect x=\"43.0mm\" y=\"0.0mm\" width=\"0.5mm\" height=\"5mm\" fill=\"#EF2DD9\" stroke=\"none\" /><rect x=\"43.5mm\" y=\"0.0mm\" width=\"0.5mm\" height=\"5mm\" fill=\"#EA30D5\" stroke=\"none\" /><rect x=\"44.0mm\" y=\"0.0mm\" width=\"0.5mm\" height=\"5mm\" fill=\"#E533D2\" stroke=\"none\" /><rect x=\"44.5mm\" y=\"0.0mm\" width=\"0.5mm\" height=\"5mm\" fill=\"#E036CE\" stroke=\"none\" /><rect x=\"45.0mm\" y=\"0.0mm\" width=\"0.5mm\" height=\"5mm\" fill=\"#DA39CA\" stroke=\"none\" /><rect x=\"45.5mm\" y=\"0.0mm\" width=\"0.5mm\" height=\"5mm\" fill=\"#D53CC6\" stroke=\"none\" /><rect x=\"46.0mm\" y=\"0.0mm\" width=\"0.5mm\" height=\"5mm\" fill=\"#D03FC2\" stroke=\"none\" /><rect x=\"46.5mm\" y=\"0.0mm\" width=\"0.5mm\" height=\"5mm\" fill=\"#CB42BF\" stroke=\"none\" /><rect x=\"47.0mm\" y=\"0.0mm\" width=\"0.5mm\" height=\"5mm\" fill=\"#C645BB\" stroke=\"none\" /><rect x=\"47.5mm\" y=\"0.0mm\" width=\"0.5mm\" height=\"5mm\" fill=\"#C148B7\" stroke=\"none\" /><rect x=\"48.0mm\" y=\"0.0mm\" width=\"0.5mm\" height=\"5mm\" fill=\"#BC4BB3\" stroke=\"none\" /><rect x=\"48.5mm\" y=\"0.0mm\" width=\"0.5mm\" height=\"5mm\" fill=\"#B74EB0\" stroke=\"none\" /><rect x=\"49.0mm\" y=\"0.0mm\" width=\"0.5mm\" height=\"5mm\" fill=\"#B251AC\" stroke=\"none\" /><rect x=\"49.5mm\" y=\"0.0mm\" width=\"0.5mm\" height=\"5mm\" fill=\"#AD54A8\" stroke=\"none\" /><rect x=\"50.0mm\" y=\"0.0mm\" width=\"0.5mm\" height=\"5mm\" fill=\"#A857A4\" stroke=\"none\" /><rect x=\"50.5mm\" y=\"0.0mm\" width=\"0.5mm\" height=\"5mm\" fill=\"#A35AA1\" stroke=\"none\" /><rect x=\"51.0mm\" y=\"0.0mm\" width=\"0.5mm\" height=\"5mm\" fill=\"#9E5D9D\" stroke=\"none\" /><rect x=\"51.5mm\" y=\"0.0mm\" width=\"0.5mm\" height=\"5mm\" fill=\"#996099\" stroke=\"none\" /><rect x=\"52.0mm\" y=\"0.0mm\" width=\"0.5mm\" height=\"5mm\" fill=\"#946395\" stroke=\"none\" /><rect x=\"52.5mm\" y=\"0.0mm\" width=\"0.5mm\" height=\"5mm\" fill=\"#8F6692\" stroke=\"none\" /><rect x=\"53.0mm\" y=\"0.0mm\" width=\"0.5mm\" height=\"5mm\" fill=\"#8A698E\" stroke=\"none\" /><rect x=\"53.5mm\" y=\"0.0mm\" width=\"0.5mm\" height=\"5mm\" fill=\"#856C8A\" stroke=\"none\" /><rect x=\"54.0mm\" y=\"0.0mm\" width=\"0.5mm\" height=\"5mm\" fill=\"#7F6F86\" stroke=\"none\" /><rect x=\"54.5mm\" y=\"0.0mm\" width=\"0.5mm\" height=\"5mm\" fill=\"#7A7283\" stroke=\"none\" /><rect x=\"55.0mm\" y=\"0.0mm\" width=\"0.5mm\" height=\"5mm\" fill=\"#75757F\" stroke=\"none\" /><rect x=\"55.5mm\" y=\"0.0mm\" width=\"0.5mm\" height=\"5mm\" fill=\"#70787B\" stroke=\"none\" /><rect x=\"56.0mm\" y=\"0.0mm\" width=\"0.5mm\" height=\"5mm\" fill=\"#6B7B77\" stroke=\"none\" /><rect x=\"56.5mm\" y=\"0.0mm\" width=\"0.5mm\" height=\"5mm\" fill=\"#667E73\" stroke=\"none\" /><rect x=\"57.0mm\" y=\"0.0mm\" width=\"0.5mm\" height=\"5mm\" fill=\"#618170\" stroke=\"none\" /><rect x=\"57.5mm\" y=\"0.0mm\" width=\"0.5mm\" height=\"5mm\" fill=\"#5C846C\" stroke=\"none\" /><rect x=\"58.0mm\" y=\"0.0mm\" width=\"0.5mm\" height=\"5mm\" fill=\"#578768\" stroke=\"none\" /><rect x=\"58.5mm\" y=\"0.0mm\" width=\"0.5mm\" height=\"5mm\" fill=\"#528A64\" stroke=\"none\" /><rect x=\"59.0mm\" y=\"0.0mm\" width=\"0.5mm\" height=\"5mm\" fill=\"#4D8D61\" stroke=\"none\" /><rect x=\"59.5mm\" y=\"0.0mm\" width=\"0.5mm\" height=\"5mm\" fill=\"#48905D\" stroke=\"none\" /><rect x=\"60.0mm\" y=\"0.0mm\" width=\"0.5mm\" height=\"5mm\" fill=\"#439359\" stroke=\"none\" /><rect x=\"60.5mm\" y=\"0.0mm\" width=\"0.5mm\" height=\"5mm\" fill=\"#3E9655\" stroke=\"none\" /><rect x=\"61.0mm\" y=\"0.0mm\" width=\"0.5mm\" height=\"5mm\" fill=\"#399952\" stroke=\"none\" /><rect x=\"61.5mm\" y=\"0.0mm\" width=\"0.5mm\" height=\"5mm\" fill=\"#349C4E\" stroke=\"none\" /><rect x=\"62.0mm\" y=\"0.0mm\" width=\"0.5mm\" height=\"5mm\" fill=\"#2F9F4A\" stroke=\"none\" /><rect x=\"62.5mm\" y=\"0.0mm\" width=\"0.5mm\" height=\"5mm\" fill=\"#29A246\" stroke=\"none\" /><rect x=\"63.0mm\" y=\"0.0mm\" width=\"0.5mm\" height=\"5mm\" fill=\"#24A543\" stroke=\"none\" /><rect x=\"63.5mm\" y=\"0.0mm\" width=\"0.5mm\" height=\"5mm\" fill=\"#1FA83F\" stroke=\"none\" /><rect x=\"64.0mm\" y=\"0.0mm\" width=\"0.5mm\" height=\"5mm\" fill=\"#1EA93F\" stroke=\"none\" /><rect x=\"64.5mm\" y=\"0.0mm\" width=\"0.5mm\" height=\"5mm\" fill=\"#21A742\" stroke=\"none\" /><rect x=\"65.0mm\" y=\"0.0mm\" width=\"0.5mm\" height=\"5mm\" fill=\"#24A546\" stroke=\"none\" /><rect x=\"65.5mm\" y=\"0.0mm\" width=\"0.5mm\" height=\"5mm\" fill=\"#26A449\" stroke=\"none\" /><rect x=\"66.0mm\" y=\"0.0mm\" width=\"0.5mm\" height=\"5mm\" fill=\"#29A24D\" stroke=\"none\" /><rect x=\"66.5mm\" y=\"0.0mm\" width=\"0.5mm\" height=\"5mm\" fill=\"#2CA050\" stroke=\"none\" /><rect x=\"67.0mm\" y=\"0.0mm\" width=\"0.5mm\" height=\"5mm\" fill=\"#2E9E54\" stroke=\"none\" /><rect x=\"67.5mm\" y=\"0.0mm\" width=\"0.5mm\" height=\"5mm\" fill=\"#319C58\" stroke=\"none\" /><rect x=\"68.0mm\" y=\"0.0mm\" width=\"0.5mm\" height=\"5mm\" fill=\"#349B5B\" stroke=\"none\" /><rect x=\"68.5mm\" y=\"0.0mm\" width=\"0.5mm\" height=\"5mm\" fill=\"#36995F\" stroke=\"none\" /><rect x=\"69.0mm\" y=\"0.0mm\" width=\"0.5mm\" height=\"5mm\" fill=\"#399762\" stroke=\"none\" /><rect x=\"69.5mm\" y=\"0.0mm\" width=\"0.5mm\" height=\"5mm\" fill=\"#3C9566\" stroke=\"none\" /><rect x=\"70.0mm\" y=\"0.0mm\" width=\"0.5mm\" height=\"5mm\" fill=\"#3E9369\" stroke=\"none\" /><rect x=\"70.5mm\" y=\"0.0mm\" width=\"0.5mm\" height=\"5mm\" fill=\"#41926D\" stroke=\"none\" /><rect x=\"71.0mm\" y=\"0.0mm\" width=\"0.5mm\" height=\"5mm\" fill=\"#449070\" stroke=\"none\" /><rect x=\"71.5mm\" y=\"0.0mm\" width=\"0.5mm\" height=\"5mm\" fill=\"#468E74\" stroke=\"none\" /><rect x=\"72.0mm\" y=\"0.0mm\" width=\"0.5mm\" height=\"5mm\" fill=\"#498C78\" stroke=\"none\" /><rect x=\"72.5mm\" y=\"0.0mm\" width=\"0.5mm\" height=\"5mm\" fill=\"#4C8B7B\" stroke=\"none\" /><rect x=\"73.0mm\" y=\"0.0mm\" width=\"0.5mm\" height=\"5mm\" fill=\"#4E897F\" stroke=\"none\" /><rect x=\"73.5mm\" y=\"0.0mm\" width=\"0.5mm\" height=\"5mm\" fill=\"#518782\" stroke=\"none\" /><rect x=\"74.0mm\" y=\"0.0mm\" width=\"0.5mm\" height=\"5mm\" fill=\"#548586\" stroke=\"none\" /><rect x=\"74.5mm\" y=\"0.0mm\" width=\"0.5mm\" height=\"5mm\" fill=\"#568389\" stroke=\"none\" /><rect x=\"75.0mm\" y=\"0.0mm\" width=\"0.5mm\" height=\"5mm\" fill=\"#59828D\" stroke=\"none\" /><rect x=\"75.5mm\" y=\"0.0mm\" width=\"0.5mm\" height=\"5mm\" fill=\"#5C8090\" stroke=\"none\" /><rect x=\"76.0mm\" y=\"0.0mm\" width=\"0.5mm\" height=\"5mm\" fill=\"#5F7E94\" stroke=\"none\" /><rect x=\"76.5mm\" y=\"0.0mm\" width=\"0.5mm\" height=\"5mm\" fill=\"#617C98\" stroke=\"none\" /><rect x=\"77.0mm\" y=\"0.0mm\" width=\"0.5mm\" height=\"5mm\" fill=\"#647A9B\" stroke=\"none\" /><rect x=\"77.5mm\" y=\"0.0mm\" width=\"0.5mm\" height=\"5mm\" fill=\"#67799F\" stroke=\"none\" /><rect x=\"78.0mm\" y=\"0.0mm\" width=\"0.5mm\" height=\"5mm\" fill=\"#6977A2\" stroke=\"none\" /><rect x=\"78.5mm\" y=\"0.0mm\" width=\"0.5mm\" height=\"5mm\" fill=\"#6C75A6\" stroke=\"none\" /><rect x=\"79.0mm\" y=\"0.0mm\" width=\"0.5mm\" height=\"5mm\" fill=\"#6F73A9\" stroke=\"none\" /><rect x=\"79.5mm\" y=\"0.0mm\" width=\"0.5mm\" height=\"5mm\" fill=\"#7172AD\" stroke=\"none\" /><rect x=\"80.0mm\" y=\"0.0mm\" width=\"0.5mm\" height=\"5mm\" fill=\"#7470B0\" stroke=\"none\" /><rect x=\"80.5mm\" y=\"0.0mm\" width=\"0.5mm\" height=\"5mm\" fill=\"#776EB4\" stroke=\"none\" /><rect x=\"81.0mm\" y=\"0.0mm\" width=\"0.5mm\" height=\"5mm\" fill=\"#796CB7\" stroke=\"none\" /><rect x=\"81.5mm\" y=\"0.0mm\" width=\"0.5mm\" height=\"5mm\" fill=\"#7C6ABB\" stroke=\"none\" /><rect x=\"82.0mm\" y=\"0.0mm\" width=\"0.5mm\" height=\"5mm\" fill=\"#7F69BF\" stroke=\"none\" /><rect x=\"82.5mm\" y=\"0.0mm\" width=\"0.5mm\" height=\"5mm\" fill=\"#8167C2\" stroke=\"none\" /><rect x=\"83.0mm\" y=\"0.0mm\" width=\"0.5mm\" height=\"5mm\" fill=\"#8465C6\" stroke=\"none\" /><rect x=\"83.5mm\" y=\"0.0mm\" width=\"0.5mm\" height=\"5mm\" fill=\"#8763C9\" stroke=\"none\" /><rect x=\"84.0mm\" y=\"0.0mm\" width=\"0.5mm\" height=\"5mm\" fill=\"#8961CD\" stroke=\"none\" /><rect x=\"84.5mm\" y=\"0.0mm\" width=\"0.5mm\" height=\"5mm\" fill=\"#8C60D0\" stroke=\"none\" /><rect x=\"85.0mm\" y=\"0.0mm\" width=\"0.5mm\" height=\"5mm\" fill=\"#8F5ED4\" stroke=\"none\" /><rect x=\"85.5mm\" y=\"0.0mm\" width=\"0.5mm\" height=\"5mm\" fill=\"#8C60D5\" stroke=\"none\" /><rect x=\"86.0mm\" y=\"0.0mm\" width=\"0.5mm\" height=\"5mm\" fill=\"#8962D6\" stroke=\"none\" /><rect x=\"86.5mm\" y=\"0.0mm\" width=\"0.5mm\" height=\"5mm\" fill=\"#8664D7\" stroke=\"none\" /><rect x=\"87.0mm\" y=\"0.0mm\" width=\"0.5mm\" height=\"5mm\" fill=\"#8367D8\" stroke=\"none\" /><rect x=\"87.5mm\" y=\"0.0mm\" width=\"0.5mm\" height=\"5mm\" fill=\"#8069D9\" stroke=\"none\" /><rect x=\"88.0mm\" y=\"0.0mm\" width=\"0.5mm\" height=\"5mm\" fill=\"#7D6BDA\" stroke=\"none\" /><rect x=\"88.5mm\" y=\"0.0mm\" width=\"0.5mm\" height=\"5mm\" fill=\"#7A6DDB\" stroke=\"none\" /><rect x=\"89.0mm\" y=\"0.0mm\" width=\"0.5mm\" height=\"5mm\" fill=\"#776FDC\" stroke=\"none\" /><rect x=\"89.5mm\" y=\"0.0mm\" width=\"0.5mm\" height=\"5mm\" fill=\"#7472DD\" stroke=\"none\" /><rect x=\"90.0mm\" y=\"0.0mm\" width=\"0.5mm\" height=\"5mm\" fill=\"#7174DE\" stroke=\"none\" /><rect x=\"90.5mm\" y=\"0.0mm\" width=\"0.5mm\" height=\"5mm\" fill=\"#6E76DF\" stroke=\"none\" /><rect x=\"91.0mm\" y=\"0.0mm\" width=\"0.5mm\" height=\"5mm\" fill=\"#6B78E0\" stroke=\"none\" /><rect x=\"91.5mm\" y=\"0.0mm\" width=\"0.5mm\" height=\"5mm\" fill=\"#687AE1\" stroke=\"none\" /><rect x=\"92.0mm\" y=\"0.0mm\" width=\"0.5mm\" height=\"5mm\" fill=\"#657CE2\" stroke=\"none\" /><rect x=\"92.5mm\" y=\"0.0mm\" width=\"0.5mm\" height=\"5mm\" fill=\"#627FE3\" stroke=\"none\" /><rect x=\"93.0mm\" y=\"0.0mm\" width=\"0.5mm\" height=\"5mm\" fill=\"#5F81E4\" stroke=\"none\" /><rect x=\"93.5mm\" y=\"0.0mm\" width=\"0.5mm\" height=\"5mm\" fill=\"#5C83E5\" stroke=\"none\" /><rect x=\"94.0mm\" y=\"0.0mm\" width=\"0.5mm\" height=\"5mm\" fill=\"#5985E6\" stroke=\"none\" /><rect x=\"94.5mm\" y=\"0.0mm\" width=\"0.5mm\" height=\"5mm\" fill=\"#5687E7\" stroke=\"none\" /><rect x=\"95.0mm\" y=\"0.0mm\" width=\"0.5mm\" height=\"5mm\" fill=\"#538AE8\" stroke=\"none\" /><rect x=\"95.5mm\" y=\"0.0mm\" width=\"0.5mm\" height=\"5mm\" fill=\"#508CE9\" stroke=\"none\" /><rect x=\"96.0mm\" y=\"0.0mm\" width=\"0.5mm\" height=\"5mm\" fill=\"#4D8EEA\" stroke=\"none\" /><rect x=\"96.5mm\" y=\"0.0mm\" width=\"0.5mm\" height=\"5mm\" fill=\"#4A90EB\" stroke=\"none\" /><rect x=\"97.0mm\" y=\"0.0mm\" width=\"0.5mm\" height=\"5mm\" fill=\"#4792EC\" stroke=\"none\" /><rect x=\"97.5mm\" y=\"0.0mm\" width=\"0.5mm\" height=\"5mm\" fill=\"#4495ED\" stroke=\"none\" /><rect x=\"98.0mm\" y=\"0.0mm\" width=\"0.5mm\" height=\"5mm\" fill=\"#4097EE\" stroke=\"none\" /><rect x=\"98.5mm\" y=\"0.0mm\" width=\"0.5mm\" height=\"5mm\" fill=\"#3D99EF\" stroke=\"none\" /><rect x=\"99.0mm\" y=\"0.0mm\" width=\"0.5mm\" height=\"5mm\" fill=\"#3A9BF0\" stroke=\"none\" /><rect x=\"99.5mm\" y=\"0.0mm\" width=\"0.5mm\" height=\"5mm\" fill=\"#379DF1\" stroke=\"none\" /><rect x=\"100.0mm\" y=\"0.0mm\" width=\"0.5mm\" height=\"5mm\" fill=\"#34A0F2\" stroke=\"none\" /><rect x=\"100.5mm\" y=\"0.0mm\" width=\"0.5mm\" height=\"5mm\" fill=\"#31A2F3\" stroke=\"none\" /><rect x=\"101.0mm\" y=\"0.0mm\" width=\"0.5mm\" height=\"5mm\" fill=\"#2EA4F4\" stroke=\"none\" /><rect x=\"101.5mm\" y=\"0.0mm\" width=\"0.5mm\" height=\"5mm\" fill=\"#2BA6F5\" stroke=\"none\" /><rect x=\"102.0mm\" y=\"0.0mm\" width=\"0.5mm\" height=\"5mm\" fill=\"#28A8F6\" stroke=\"none\" /><rect x=\"102.5mm\" y=\"0.0mm\" width=\"0.5mm\" height=\"5mm\" fill=\"#25AAF7\" stroke=\"none\" /><rect x=\"103.0mm\" y=\"0.0mm\" width=\"0.5mm\" height=\"5mm\" fill=\"#22ADF8\" stroke=\"none\" /><rect x=\"103.5mm\" y=\"0.0mm\" width=\"0.5mm\" height=\"5mm\" fill=\"#1FAFF9\" stroke=\"none\" /><rect x=\"104.0mm\" y=\"0.0mm\" width=\"0.5mm\" height=\"5mm\" fill=\"#1CB1FA\" stroke=\"none\" /><rect x=\"104.5mm\" y=\"0.0mm\" width=\"0.5mm\" height=\"5mm\" fill=\"#19B3FB\" stroke=\"none\" /><rect x=\"105.0mm\" y=\"0.0mm\" width=\"0.5mm\" height=\"5mm\" fill=\"#16B5FC\" stroke=\"none\" /><rect x=\"105.5mm\" y=\"0.0mm\" width=\"0.5mm\" height=\"5mm\" fill=\"#13B8FD\" stroke=\"none\" /><rect x=\"106.0mm\" y=\"0.0mm\" width=\"0.5mm\" height=\"5mm\" fill=\"#10BAFE\" stroke=\"none\" /><rect x=\"106.5mm\" y=\"0.0mm\" width=\"0.5mm\" height=\"5mm\" fill=\"#12B9FC\" stroke=\"none\" /><rect x=\"107.0mm\" y=\"0.0mm\" width=\"0.5mm\" height=\"5mm\" fill=\"#17B4F6\" stroke=\"none\" /><rect x=\"107.5mm\" y=\"0.0mm\" width=\"0.5mm\" height=\"5mm\" fill=\"#1DB0F0\" stroke=\"none\" /><rect x=\"108.0mm\" y=\"0.0mm\" width=\"0.5mm\" height=\"5mm\" fill=\"#23ACEA\" stroke=\"none\" /><rect x=\"108.5mm\" y=\"0.0mm\" width=\"0.5mm\" height=\"5mm\" fill=\"#28A7E4\" stroke=\"none\" /><rect x=\"109.0mm\" y=\"0.0mm\" width=\"0.5mm\" height=\"5mm\" fill=\"#2EA3DE\" stroke=\"none\" /><rect x=\"109.5mm\" y=\"0.0mm\" width=\"0.5mm\" height=\"5mm\" fill=\"#349ED8\" stroke=\"none\" /><rect x=\"110.0mm\" y=\"0.0mm\" width=\"0.5mm\" height=\"5mm\" fill=\"#399AD2\" stroke=\"none\" /><rect x=\"110.5mm\" y=\"0.0mm\" width=\"0.5mm\" height=\"5mm\" fill=\"#3F96CC\" stroke=\"none\" /><rect x=\"111.0mm\" y=\"0.0mm\" width=\"0.5mm\" height=\"5mm\" fill=\"#4491C6\" stroke=\"none\" /><rect x=\"111.5mm\" y=\"0.0mm\" width=\"0.5mm\" height=\"5mm\" fill=\"#4A8DC0\" stroke=\"none\" /><rect x=\"112.0mm\" y=\"0.0mm\" width=\"0.5mm\" height=\"5mm\" fill=\"#5088BA\" stroke=\"none\" /><rect x=\"112.5mm\" y=\"0.0mm\" width=\"0.5mm\" height=\"5mm\" fill=\"#5584B4\" stroke=\"none\" /><rect x=\"113.0mm\" y=\"0.0mm\" width=\"0.5mm\" height=\"5mm\" fill=\"#5B80AE\" stroke=\"none\" /><rect x=\"113.5mm\" y=\"0.0mm\" width=\"0.5mm\" height=\"5mm\" fill=\"#617BA8\" stroke=\"none\" /><rect x=\"114.0mm\" y=\"0.0mm\" width=\"0.5mm\" height=\"5mm\" fill=\"#6677A2\" stroke=\"none\" /><rect x=\"114.5mm\" y=\"0.0mm\" width=\"0.5mm\" height=\"5mm\" fill=\"#6C729C\" stroke=\"none\" /><rect x=\"115.0mm\" y=\"0.0mm\" width=\"0.5mm\" height=\"5mm\" fill=\"#726E96\" stroke=\"none\" /><rect x=\"115.5mm\" y=\"0.0mm\" width=\"0.5mm\" height=\"5mm\" fill=\"#776A90\" stroke=\"none\" /><rect x=\"116.0mm\" y=\"0.0mm\" width=\"0.5mm\" height=\"5mm\" fill=\"#7D658A\" stroke=\"none\" /><rect x=\"116.5mm\" y=\"0.0mm\" width=\"0.5mm\" height=\"5mm\" fill=\"#836184\" stroke=\"none\" /><rect x=\"117.0mm\" y=\"0.0mm\" width=\"0.5mm\" height=\"5mm\" fill=\"#885C7E\" stroke=\"none\" /><rect x=\"117.5mm\" y=\"0.0mm\" width=\"0.5mm\" height=\"5mm\" fill=\"#8E5878\" stroke=\"none\" /><rect x=\"118.0mm\" y=\"0.0mm\" width=\"0.5mm\" height=\"5mm\" fill=\"#945472\" stroke=\"none\" /><rect x=\"118.5mm\" y=\"0.0mm\" width=\"0.5mm\" height=\"5mm\" fill=\"#994F6C\" stroke=\"none\" /><rect x=\"119.0mm\" y=\"0.0mm\" width=\"0.5mm\" height=\"5mm\" fill=\"#9F4B66\" stroke=\"none\" /><rect x=\"119.5mm\" y=\"0.0mm\" width=\"0.5mm\" height=\"5mm\" fill=\"#A54660\" stroke=\"none\" /><rect x=\"120.0mm\" y=\"0.0mm\" width=\"0.5mm\" height=\"5mm\" fill=\"#AA425A\" stroke=\"none\" /><rect x=\"120.5mm\" y=\"0.0mm\" width=\"0.5mm\" height=\"5mm\" fill=\"#B03E54\" stroke=\"none\" /><rect x=\"121.0mm\" y=\"0.0mm\" width=\"0.5mm\" height=\"5mm\" fill=\"#B6394E\" stroke=\"none\" /><rect x=\"121.5mm\" y=\"0.0mm\" width=\"0.5mm\" height=\"5mm\" fill=\"#BB3548\" stroke=\"none\" /><rect x=\"122.0mm\" y=\"0.0mm\" width=\"0.5mm\" height=\"5mm\" fill=\"#C13042\" stroke=\"none\" /><rect x=\"122.5mm\" y=\"0.0mm\" width=\"0.5mm\" height=\"5mm\" fill=\"#C62C3C\" stroke=\"none\" /><rect x=\"123.0mm\" y=\"0.0mm\" width=\"0.5mm\" height=\"5mm\" fill=\"#CC2836\" stroke=\"none\" /><rect x=\"123.5mm\" y=\"0.0mm\" width=\"0.5mm\" height=\"5mm\" fill=\"#D22330\" stroke=\"none\" /><rect x=\"124.0mm\" y=\"0.0mm\" width=\"0.5mm\" height=\"5mm\" fill=\"#D71F2A\" stroke=\"none\" /><rect x=\"124.5mm\" y=\"0.0mm\" width=\"0.5mm\" height=\"5mm\" fill=\"#DD1A24\" stroke=\"none\" /><rect x=\"125.0mm\" y=\"0.0mm\" width=\"0.5mm\" height=\"5mm\" fill=\"#E3161E\" stroke=\"none\" /><rect x=\"125.5mm\" y=\"0.0mm\" width=\"0.5mm\" height=\"5mm\" fill=\"#E81218\" stroke=\"none\" /><rect x=\"126.0mm\" y=\"0.0mm\" width=\"0.5mm\" height=\"5mm\" fill=\"#EE0D12\" stroke=\"none\" /><rect x=\"126.5mm\" y=\"0.0mm\" width=\"0.5mm\" height=\"5mm\" fill=\"#F4090C\" stroke=\"none\" /><rect x=\"127.0mm\" y=\"0.0mm\" width=\"0.5mm\" height=\"5mm\" fill=\"#F90406\" stroke=\"none\" /><rect x=\"127.5mm\" y=\"0.0mm\" width=\"0.5mm\" height=\"5mm\" fill=\"#FF0000\" stroke=\"none\" /></svg>"
      ],
      "text/plain": [
       "ColorMap \"Sudoku\""
      ]
     },
     "execution_count": 3,
     "metadata": {},
     "output_type": "execute_result"
    }
   ],
   "source": [
    "cmap_sudoku=ColorMap(\"Sudoku\",\n",
    "    [RGB(0.5,0.5,0.5),\n",
    "        RGB(1, 0.933, 0.058),\n",
    "        RGB(0.956, 0.164, 0.866),\n",
    "        RGB(0.113, 0.666, 0.239),\n",
    "        RGB(0.560, 0.368, 0.831),\n",
    "        RGB(0.058, 0.733, 1),\n",
    "        RGB(1,0,0),])"
   ]
  },
  {
   "cell_type": "markdown",
   "metadata": {},
   "source": [
    "## 1) Import modules"
   ]
  },
  {
   "cell_type": "code",
   "execution_count": null,
   "metadata": {},
   "outputs": [],
   "source": [
    "using SudokuPlantDesign\n",
    "using BenchmarkTools\n",
    "using DataFrames\n",
    "using Random\n",
    "using XLSX\n",
    "using PyPlot\n",
    "using ColorTypes\n",
    "using PyCall\n",
    "@pyimport matplotlib.colors as matcolors"
   ]
  },
  {
   "cell_type": "markdown",
   "metadata": {},
   "source": [
    "## 2) Define sudoku trial layout and generate an initial random check distribution"
   ]
  },
  {
   "cell_type": "markdown",
   "metadata": {},
   "source": [
    "Generate a new configuration `C` which is divided into 2 horizontal and 5 vertical blocks of dimensions `10` x `2` respectively. In total, there are `4` different checks in the configuration."
   ]
  },
  {
   "cell_type": "code",
   "execution_count": 4,
   "metadata": {},
   "outputs": [
    {
     "data": {
      "text/plain": [
       "CheckConfiguration{BlockArrays.BlockArray{Int64,2,Array{Array{Int64,2},2},Tuple{BlockArrays.BlockedUnitRange{Array{Int64,1}},BlockArrays.BlockedUnitRange{Array{Int64,1}}}}}([0 0 … 0 0; 0 0 … 0 0; … ; 0 0 … 0 0; 0 0 … 0 0], 4, [0, 0, 0, 0], 0, 200, 200, [[0, 0, 0, 0] [0, 0, 0, 0] … [0, 0, 0, 0] [0, 0, 0, 0]; [0, 0, 0, 0] [0, 0, 0, 0] … [0, 0, 0, 0] [0, 0, 0, 0]], [0 0 … 0 0; 0 0 … 0 0], [20 20 … 20 20; 20 20 … 20 20], [20 20 … 20 20; 20 20 … 20 20], [[0, 0, 0, 0], [0, 0, 0, 0], [0, 0, 0, 0], [0, 0, 0, 0], [0, 0, 0, 0], [0, 0, 0, 0], [0, 0, 0, 0], [0, 0, 0, 0], [0, 0, 0, 0], [0, 0, 0, 0]], [0, 0, 0, 0, 0, 0, 0, 0, 0, 0], [20, 20, 20, 20, 20, 20, 20, 20, 20, 20], [20, 20, 20, 20, 20, 20, 20, 20, 20, 20], [[0, 0, 0, 0], [0, 0, 0, 0], [0, 0, 0, 0], [0, 0, 0, 0], [0, 0, 0, 0], [0, 0, 0, 0], [0, 0, 0, 0], [0, 0, 0, 0], [0, 0, 0, 0], [0, 0, 0, 0], [0, 0, 0, 0], [0, 0, 0, 0], [0, 0, 0, 0], [0, 0, 0, 0], [0, 0, 0, 0], [0, 0, 0, 0], [0, 0, 0, 0], [0, 0, 0, 0], [0, 0, 0, 0], [0, 0, 0, 0]], [0, 0, 0, 0, 0, 0, 0, 0, 0, 0, 0, 0, 0, 0, 0, 0, 0, 0, 0, 0], [10, 10, 10, 10, 10, 10, 10, 10, 10, 10, 10, 10, 10, 10, 10, 10, 10, 10, 10, 10], [10, 10, 10, 10, 10, 10, 10, 10, 10, 10, 10, 10, 10, 10, 10, 10, 10, 10, 10, 10], 5, [[0, 0, 0, 0, 0] [0, 0, 0, 0, 0] [0, 0, 0, 0, 0] [0, 0, 0, 0, 0]; [0, 0, 0, 0, 0] [0, 0, 0, 0, 0] [0, 0, 0, 0, 0] [0, 0, 0, 0, 0]; [0, 0, 0, 0, 0] [0, 0, 0, 0, 0] [0, 0, 0, 0, 0] [0, 0, 0, 0, 0]; [0, 0, 0, 0, 0] [0, 0, 0, 0, 0] [0, 0, 0, 0, 0] [0, 0, 0, 0, 0]])"
      ]
     },
     "execution_count": 4,
     "metadata": {},
     "output_type": "execute_result"
    }
   ],
   "source": [
    "C = get_configuration(\n",
    "    [10,10],  [2,2,2,2,2],\n",
    "    4\n",
    ")"
   ]
  },
  {
   "cell_type": "markdown",
   "metadata": {},
   "source": [
    "You can empty plots which will be ignored in the sudoku optimization. In this example, leave the plot `1` in x-direction, `3` in y-direction, empty."
   ]
  },
  {
   "cell_type": "code",
   "execution_count": 5,
   "metadata": {},
   "outputs": [],
   "source": [
    "empty_plots!(C, 1:1,3:3)"
   ]
  },
  {
   "cell_type": "markdown",
   "metadata": {},
   "source": [
    "Distribute checks randomly, one check of one check type per block."
   ]
  },
  {
   "cell_type": "code",
   "execution_count": 6,
   "metadata": {},
   "outputs": [],
   "source": [
    "initialize_checks_per_block!(C)"
   ]
  },
  {
   "cell_type": "markdown",
   "metadata": {},
   "source": [
    "Show the configuration `conf` utilizing a zoom factor of `0.2`."
   ]
  },
  {
   "cell_type": "code",
   "execution_count": 7,
   "metadata": {},
   "outputs": [
    {
     "data": {
      "image/png": "[encoded data removed]",
      "text/plain": [
       "Figure(PyObject <Figure size 400x200 with 1 Axes>)"
      ]
     },
     "metadata": {},
     "output_type": "display_data"
    }
   ],
   "source": [
    "show_configuration(C, zoom=0.2)"
   ]
  },
  {
   "cell_type": "markdown",
   "metadata": {},
   "source": [
    "Save the initial random check distribution."
   ]
  },
  {
   "cell_type": "code",
   "execution_count": 8,
   "metadata": {},
   "outputs": [],
   "source": [
    "savefig(\"output/initial_random_check_distribution.pdf\")"
   ]
  },
  {
   "cell_type": "markdown",
   "metadata": {},
   "source": [
    "## 3) Define sudoku functions"
   ]
  },
  {
   "cell_type": "markdown",
   "metadata": {},
   "source": [
    "### Define inverse temperature function\n",
    "\n",
    "..."
   ]
  },
  {
   "cell_type": "code",
   "execution_count": 9,
   "metadata": {},
   "outputs": [
    {
     "data": {
      "text/plain": [
       "beta (generic function with 1 method)"
      ]
     },
     "execution_count": 9,
     "metadata": {},
     "output_type": "execute_result"
    }
   ],
   "source": [
    "beta(t) = 1*exp(-7*t) * (1 + 0.2*cos(t*30*pi))"
   ]
  },
  {
   "cell_type": "code",
   "execution_count": 10,
   "metadata": {},
   "outputs": [
    {
     "data": {
      "image/png": "[encoded data removed]",
      "text/plain": [
       "Figure(PyObject <Figure size 640x480 with 1 Axes>)"
      ]
     },
     "metadata": {},
     "output_type": "display_data"
    },
    {
     "data": {
      "text/plain": [
       "PyObject Text(24.000000000000007, 0.5, 'T')"
      ]
     },
     "execution_count": 10,
     "metadata": {},
     "output_type": "execute_result"
    }
   ],
   "source": [
    "plot(0:0.001:1, beta.(0:0.001:1))\n",
    "xlabel(\"rel. update\"); ylabel(\"T\")"
   ]
  },
  {
   "cell_type": "markdown",
   "metadata": {},
   "source": [
    "### Select individual cost function for optimization\n",
    "You can define and give certain weights to the individual cost functions:\n",
    "- `K_num_checks_equal_per_type` : Optimizes to get an equal amount of checks per type in the design.\n",
    "- `K_checks_per_type_per_block` : Optimizes to get an equal amount of checks per type per each block, give it a weight of `20`.\n",
    "- `K_neighbors_different_check_functional` : Optimizes the repulsive potential of different neighboring checks (e.g. check 1 and check 3)\n",
    "- `K_neighbors_same_check_functional` : Optimizes the repulsive potential of same neighboring checks (e.g. check 1 and check 1)"
   ]
  },
  {
   "cell_type": "code",
   "execution_count": 11,
   "metadata": {},
   "outputs": [
    {
     "data": {
      "text/plain": [
       "K_indiv (generic function with 1 method)"
      ]
     },
     "execution_count": 11,
     "metadata": {},
     "output_type": "execute_result"
    }
   ],
   "source": [
    "function K_indiv(conf :: C) :: Float64 where {C <: CheckConfiguration}\n",
    "    return  K_num_checks_equal_per_type(conf) +\n",
    "            K_checks_per_type_per_block(conf, 1)*20+\n",
    "            K_neighbors_different_check_functional(conf, d->0.5/(d^3)) +\n",
    "            K_neighbors_same_check_functional(conf, d->1/(d^3))\n",
    "end"
   ]
  },
  {
   "cell_type": "markdown",
   "metadata": {},
   "source": [
    "### Define update moves.\n",
    "Select which update moves you want to occur. `UpdateNewCheckLabel` puts new checks into the design, `UpdateSwapCheckCheck` swaps checks with other checks, and `UpdateSwapCheckGenotype` swaps checks with genotypes. Run `100000` updates."
   ]
  },
  {
   "cell_type": "code",
   "execution_count": 12,
   "metadata": {},
   "outputs": [
    {
     "name": "stderr",
     "output_type": "stream",
     "text": [
      "\u001b[32mOptimizing Design ... 100%|█████████████████████████████| Time: 0:00:03\u001b[39mm\n"
     ]
    },
    {
     "data": {
      "text/plain": [
       "100000-element Array{Float64,1}:\n",
       " 10.15572685185185\n",
       " 12.395599537037036\n",
       " 12.395599537037036\n",
       " 12.891787037037036\n",
       " 12.891787037037036\n",
       " 12.760081018518518\n",
       " 12.760081018518518\n",
       " 12.760081018518518\n",
       " 12.760081018518518\n",
       " 11.741375\n",
       " 11.741375\n",
       " 11.741375\n",
       " 11.741375\n",
       "  ⋮\n",
       "  1.0012939814814814\n",
       "  1.0012939814814814\n",
       "  1.0012939814814814\n",
       "  1.0012939814814814\n",
       "  1.0012939814814814\n",
       "  1.0012939814814814\n",
       "  1.0012939814814814\n",
       "  1.0012939814814814\n",
       "  1.0012939814814814\n",
       "  1.0012939814814814\n",
       "  1.0012939814814814\n",
       "  1.0012939814814814"
      ]
     },
     "execution_count": 12,
     "metadata": {},
     "output_type": "execute_result"
    }
   ],
   "source": [
    "kosten = optimize_design!(\n",
    "    C,\n",
    "    [UpdateNewCheckLabel(),UpdateSwapCheckCheck(),UpdateSwapCheckGenotype()],\n",
    "    K_indiv,\n",
    "    100000,\n",
    "    beta\n",
    ")"
   ]
  },
  {
   "cell_type": "markdown",
   "metadata": {},
   "source": [
    "## 4) Run sudoku optimization"
   ]
  },
  {
   "cell_type": "markdown",
   "metadata": {},
   "source": []
  },
  {
   "cell_type": "code",
   "execution_count": 13,
   "metadata": {},
   "outputs": [
    {
     "ename": "LoadError",
     "evalue": "UndefVarError: @showprogress not defined",
     "output_type": "error",
     "traceback": [
      "UndefVarError: @showprogress not defined",
      ""
     ]
    }
   ],
   "source": [
    "#initialize_genotypes!(C, numberofgenotypes)\n",
    "@showprogress \"Optimizing Design ... \" for i in 1:length(kosten)\n",
    "    mc_update!(C, beta(i/length(kosten))*0.5, updates, K_indiv)\n",
    "    kosten[i] = K_indiv(C)\n",
    "end"
   ]
  },
  {
   "cell_type": "code",
   "execution_count": null,
   "metadata": {},
   "outputs": [],
   "source": [
    "kosten .-= minimum(kosten)\n",
    "kosten .+= 1\n",
    "\n",
    "#print things\n",
    "println(\"Kosten: \",K_indiv(C)+kosten[1], \" -> \", K_indiv(C)+kosten[end])\n",
    "println(\"perc_checks: \",C.num_checks_total / (C.num_plots_total - C.num_checks_total))\n",
    "println(\"genotypes: \",C.num_plots_total - C.num_checks_total)\n",
    "println(\"checks:    \",C.num_checks_total, \"  (\", round(100*C.num_checks_total / C.num_plots_total, digits=2), \"%)\")\n",
    "for i in 1:C.N\n",
    "    println(\"check ($(i)): \",C.num_checks[i], \"  (\", round(100*C.num_checks[i] / C.num_checks_total, digits=2), \"%)\")    \n",
    "end\n",
    "\n",
    "show_configuration(C,cmap=cmap_sudoku,zoom=0.2)\n",
    "\n",
    "\n",
    "figure()\n",
    "plot(kosten)\n",
    "yscale(\"log\")\n",
    "\n",
    "\n",
    "#save without check labels\n",
    "show_configuration(C,check_labels=false,cmap=cmap_sudoku)\n",
    "#savefig(\"final_sudoku_design_\"*trialname*\".png\")\n",
    "savefig(\"final_sudoku_design_\"*trialname*\".pdf\")\n",
    "\n",
    "## 6) Plot with Plant_Codes and write data to xlsx"
   ]
  },
  {
   "cell_type": "markdown",
   "metadata": {},
   "source": [
    "## 5) Save field plan and design data"
   ]
  },
  {
   "cell_type": "code",
   "execution_count": null,
   "metadata": {},
   "outputs": [],
   "source": [
    "templatename=\"Sample_data_Sudoku-augmented.xlsx\"\n",
    "\n",
    "#read in check data\n",
    "checkdata = DataFrame(XLSX.readtable(templatename, \"checks\")...)\n",
    "checknames=names(checkdata)\n",
    "for i in 1:length(checknames)\n",
    "    checkdata[!,Symbol(checknames[i])]=string.(collect(checkdata[!,Symbol(checknames[i])]))\n",
    "end\n",
    "if nrow(checkdata)!= numberofchecktypes\n",
    "    println(\"Number of checks in csv not matching pre-defined checks!\")\n",
    "end\n",
    "\n",
    "\n",
    "#replace missing with NA\n",
    "for col in eachcol(checkdata)\n",
    "    replace!(col,missing => \"NA\")\n",
    "end\n",
    "\n",
    "\n",
    "#depending on reading in additionally genotype file\n",
    "if  designtype==\"checks\"\n",
    "    print(\"Only checks were successfully read in, as specified\")\n",
    "    \n",
    "elseif designtype==\"all\"\n",
    "    #read in genotype data\n",
    "    genotypedata = DataFrame(XLSX.readtable(templatename, \"entries\")...)\n",
    "    genonames=names(genotypedata)\n",
    "    for i in 1:length(checknames)\n",
    "        genotypedata[!,Symbol(genonames[i])]=string.(collect(genotypedata[!,Symbol(genonames[i])]))\n",
    "    end\n",
    "    #replace missing with NA\n",
    "    for col in eachcol(genotypedata)\n",
    "        replace!(col,missing => \"NA\")\n",
    "    end\n",
    "    \n",
    "    #catch if not matching number of genotypes\n",
    "    if nrow(genotypedata)!= numberofgenotypes\n",
    "        println(\"Number of genotypes in xlsx datafile not matching pre-defined number of genotypes!\")\n",
    "    end\n",
    "    \n",
    "    \n",
    "    #shuffle genotypedata?\n",
    "    if entries_randomized==\"yes\"\n",
    "        genotypedata = genotypedata[shuffle(1:nrow(genotypedata)), :]\n",
    "        genotypedata[!,:genotype]=string.(collect(genotypedata[!,:genotype]))\n",
    "        print(\"Entries are randomized \")\n",
    "        #print(genotypedata)\n",
    "\n",
    "    elseif entries_randomized==\"no\"\n",
    "        print(\"Entries are not randomized\")\n",
    "        #print(genotypedata)\n",
    "\n",
    "    else\n",
    "        print(\"Specify if genotypes are randomized or sorted with entries_randomized yes/no!\")\n",
    "\n",
    "    print(\"genotypes and checks are successfully read in\")\n",
    "    end\n",
    "    \n",
    "else\n",
    "    print(\"Please specify designtype (checks/all)!\")\n",
    "        \n",
    "end\n",
    "\n",
    "#get the Plant label\n",
    "#POS = get_POS_block_x(C,posempty=true) #if over 2 big blocks in splitted by x\n",
    "POS = get_POS_coordinatewise(C,\"x\",\"left\",\"lower\",\"snake\") #with robot\n",
    "\n",
    "if designtype==\"checks\"\n",
    "    L = get_Plant_Code_Label_allinfo_checksonly(C,POS,checkdata)\n",
    "else\n",
    "    L = get_Plant_Code_Label_allinfo(C,POS,genotypedata,checkdata)\n",
    "end   \n",
    "\n",
    "show_pos_and_labels_allinfo(C, POS, L, zoom=0.9,fontsize=7,alpha=0.5,cmap=cmap_sudoku)\n",
    "savefig(\"final_sudoku_design_labels_\"*trialname*\".pdf\")"
   ]
  },
  {
   "cell_type": "code",
   "execution_count": null,
   "metadata": {},
   "outputs": [],
   "source": [
    "#write file to xlsx\n",
    "write_to_xlsx_allinfo(C.configuration,trialname,POS,L)\n",
    "\n",
    "\n",
    "#load_configuration(C, \"configuration_\"*trialname*\".txt\")\n",
    "save_configuration(C, \"configuration_\"*trialname*\".txt\")\n"
   ]
  },
  {
   "cell_type": "code",
   "execution_count": null,
   "metadata": {},
   "outputs": [],
   "source": []
  }
 ],
 "metadata": {
  "@webio": {
   "lastCommId": null,
   "lastKernelId": null
  },
  "kernelspec": {
   "display_name": "Julia 1.4.2",
   "language": "julia",
   "name": "julia-1.4"
  },
  "language_info": {
   "file_extension": ".jl",
   "mimetype": "application/julia",
   "name": "julia",
   "version": "1.4.2"
  }
 },
 "nbformat": 4,
 "nbformat_minor": 4
}
