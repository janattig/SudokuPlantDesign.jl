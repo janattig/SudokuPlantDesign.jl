{
 "cells": [
  {
   "cell_type": "markdown",
   "metadata": {},
   "source": [
    "## 1) Import modules"
   ]
  },
  {
   "cell_type": "code",
<<<<<<< HEAD
   "execution_count": null,
=======
   "execution_count": 8,
>>>>>>> 51f1d4fecab38d990fc530124408f663d303057d
   "metadata": {},
   "outputs": [],
   "source": [
    "using SudokuPlantDesign\n",
    "using BenchmarkTools\n",
    "using DataFrames\n",
    "using Random\n",
    "using XLSX\n",
    "using PyPlot\n",
    "using ColorTypes\n",
    "using PyCall\n",
    "@pyimport matplotlib.colors as matcolors"
   ]
  },
  {
   "cell_type": "markdown",
   "metadata": {},
   "source": [
    "## 2) Define Trial sudoku data and define configuration"
   ]
  },
  {
   "cell_type": "code",
<<<<<<< HEAD
   "execution_count": null,
   "metadata": {},
   "outputs": [],
=======
   "execution_count": 10,
   "metadata": {},
   "outputs": [
    {
     "data": {
      "image/svg+xml": [
       "<?xml version\"1.0\" encoding=\"UTF-8\"?>\n",
       "<!DOCTYPE svg PUBLIC \"-//W3C//DTD SVG 1.1//EN\"\n",
       " \"http://www.w3.org/Graphics/SVG/1.1/DTD/svg11.dtd\">\n",
       "<svg xmlns=\"http://www.w3.org/2000/svg\" version=\"1.1\"\n",
       "     width=\"153.0mm\" height=\"5.5mm\"\n",
       "     shape-rendering=\"crispEdges\">\n",
       "<text x=\"129.0mm\" y=\"3.8mm\" font-size=\"3mm\">Sudoku</text><rect x=\"0.0mm\" y=\"0.0mm\" width=\"0.5mm\" height=\"5mm\" fill=\"#808080\" stroke=\"none\" /><rect x=\"0.5mm\" y=\"0.0mm\" width=\"0.5mm\" height=\"5mm\" fill=\"#82827D\" stroke=\"none\" /><rect x=\"1.0mm\" y=\"0.0mm\" width=\"0.5mm\" height=\"5mm\" fill=\"#86857A\" stroke=\"none\" /><rect x=\"1.5mm\" y=\"0.0mm\" width=\"0.5mm\" height=\"5mm\" fill=\"#888778\" stroke=\"none\" /><rect x=\"2.0mm\" y=\"0.0mm\" width=\"0.5mm\" height=\"5mm\" fill=\"#8C8A75\" stroke=\"none\" /><rect x=\"2.5mm\" y=\"0.0mm\" width=\"0.5mm\" height=\"5mm\" fill=\"#8E8C72\" stroke=\"none\" /><rect x=\"3.0mm\" y=\"0.0mm\" width=\"0.5mm\" height=\"5mm\" fill=\"#928F70\" stroke=\"none\" /><rect x=\"3.5mm\" y=\"0.0mm\" width=\"0.5mm\" height=\"5mm\" fill=\"#94926D\" stroke=\"none\" /><rect x=\"4.0mm\" y=\"0.0mm\" width=\"0.5mm\" height=\"5mm\" fill=\"#98946A\" stroke=\"none\" /><rect x=\"4.5mm\" y=\"0.0mm\" width=\"0.5mm\" height=\"5mm\" fill=\"#9A9768\" stroke=\"none\" /><rect x=\"5.0mm\" y=\"0.0mm\" width=\"0.5mm\" height=\"5mm\" fill=\"#9E9965\" stroke=\"none\" /><rect x=\"5.5mm\" y=\"0.0mm\" width=\"0.5mm\" height=\"5mm\" fill=\"#A09C62\" stroke=\"none\" /><rect x=\"6.0mm\" y=\"0.0mm\" width=\"0.5mm\" height=\"5mm\" fill=\"#A39F60\" stroke=\"none\" /><rect x=\"6.5mm\" y=\"0.0mm\" width=\"0.5mm\" height=\"5mm\" fill=\"#A6A15D\" stroke=\"none\" /><rect x=\"7.0mm\" y=\"0.0mm\" width=\"0.5mm\" height=\"5mm\" fill=\"#AAA45A\" stroke=\"none\" /><rect x=\"7.5mm\" y=\"0.0mm\" width=\"0.5mm\" height=\"5mm\" fill=\"#ACA658\" stroke=\"none\" /><rect x=\"8.0mm\" y=\"0.0mm\" width=\"0.5mm\" height=\"5mm\" fill=\"#B0A955\" stroke=\"none\" /><rect x=\"8.5mm\" y=\"0.0mm\" width=\"0.5mm\" height=\"5mm\" fill=\"#B2AC52\" stroke=\"none\" /><rect x=\"9.0mm\" y=\"0.0mm\" width=\"0.5mm\" height=\"5mm\" fill=\"#B6AE50\" stroke=\"none\" /><rect x=\"9.5mm\" y=\"0.0mm\" width=\"0.5mm\" height=\"5mm\" fill=\"#B8B14D\" stroke=\"none\" /><rect x=\"10.0mm\" y=\"0.0mm\" width=\"0.5mm\" height=\"5mm\" fill=\"#BCB34A\" stroke=\"none\" /><rect x=\"10.5mm\" y=\"0.0mm\" width=\"0.5mm\" height=\"5mm\" fill=\"#BEB648\" stroke=\"none\" /><rect x=\"11.0mm\" y=\"0.0mm\" width=\"0.5mm\" height=\"5mm\" fill=\"#C2B945\" stroke=\"none\" /><rect x=\"11.5mm\" y=\"0.0mm\" width=\"0.5mm\" height=\"5mm\" fill=\"#C4BB43\" stroke=\"none\" /><rect x=\"12.0mm\" y=\"0.0mm\" width=\"0.5mm\" height=\"5mm\" fill=\"#C8BE40\" stroke=\"none\" /><rect x=\"12.5mm\" y=\"0.0mm\" width=\"0.5mm\" height=\"5mm\" fill=\"#CBC03D\" stroke=\"none\" /><rect x=\"13.0mm\" y=\"0.0mm\" width=\"0.5mm\" height=\"5mm\" fill=\"#CEC33B\" stroke=\"none\" /><rect x=\"13.5mm\" y=\"0.0mm\" width=\"0.5mm\" height=\"5mm\" fill=\"#D0C638\" stroke=\"none\" /><rect x=\"14.0mm\" y=\"0.0mm\" width=\"0.5mm\" height=\"5mm\" fill=\"#D3C835\" stroke=\"none\" /><rect x=\"14.5mm\" y=\"0.0mm\" width=\"0.5mm\" height=\"5mm\" fill=\"#D6CB33\" stroke=\"none\" /><rect x=\"15.0mm\" y=\"0.0mm\" width=\"0.5mm\" height=\"5mm\" fill=\"#DACD30\" stroke=\"none\" /><rect x=\"15.5mm\" y=\"0.0mm\" width=\"0.5mm\" height=\"5mm\" fill=\"#DCD02D\" stroke=\"none\" /><rect x=\"16.0mm\" y=\"0.0mm\" width=\"0.5mm\" height=\"5mm\" fill=\"#E0D32B\" stroke=\"none\" /><rect x=\"16.5mm\" y=\"0.0mm\" width=\"0.5mm\" height=\"5mm\" fill=\"#E2D528\" stroke=\"none\" /><rect x=\"17.0mm\" y=\"0.0mm\" width=\"0.5mm\" height=\"5mm\" fill=\"#E6D825\" stroke=\"none\" /><rect x=\"17.5mm\" y=\"0.0mm\" width=\"0.5mm\" height=\"5mm\" fill=\"#E8DA23\" stroke=\"none\" /><rect x=\"18.0mm\" y=\"0.0mm\" width=\"0.5mm\" height=\"5mm\" fill=\"#ECDD20\" stroke=\"none\" /><rect x=\"18.5mm\" y=\"0.0mm\" width=\"0.5mm\" height=\"5mm\" fill=\"#EEE01D\" stroke=\"none\" /><rect x=\"19.0mm\" y=\"0.0mm\" width=\"0.5mm\" height=\"5mm\" fill=\"#F2E21B\" stroke=\"none\" /><rect x=\"19.5mm\" y=\"0.0mm\" width=\"0.5mm\" height=\"5mm\" fill=\"#F4E518\" stroke=\"none\" /><rect x=\"20.0mm\" y=\"0.0mm\" width=\"0.5mm\" height=\"5mm\" fill=\"#F8E715\" stroke=\"none\" /><rect x=\"20.5mm\" y=\"0.0mm\" width=\"0.5mm\" height=\"5mm\" fill=\"#FAEA13\" stroke=\"none\" /><rect x=\"21.0mm\" y=\"0.0mm\" width=\"0.5mm\" height=\"5mm\" fill=\"#FEED10\" stroke=\"none\" /><rect x=\"21.5mm\" y=\"0.0mm\" width=\"0.5mm\" height=\"5mm\" fill=\"#FFEC11\" stroke=\"none\" /><rect x=\"22.0mm\" y=\"0.0mm\" width=\"0.5mm\" height=\"5mm\" fill=\"#FFE716\" stroke=\"none\" /><rect x=\"22.5mm\" y=\"0.0mm\" width=\"0.5mm\" height=\"5mm\" fill=\"#FEE21B\" stroke=\"none\" /><rect x=\"23.0mm\" y=\"0.0mm\" width=\"0.5mm\" height=\"5mm\" fill=\"#FEDE20\" stroke=\"none\" /><rect x=\"23.5mm\" y=\"0.0mm\" width=\"0.5mm\" height=\"5mm\" fill=\"#FED925\" stroke=\"none\" /><rect x=\"24.0mm\" y=\"0.0mm\" width=\"0.5mm\" height=\"5mm\" fill=\"#FED529\" stroke=\"none\" /><rect x=\"24.5mm\" y=\"0.0mm\" width=\"0.5mm\" height=\"5mm\" fill=\"#FDD02E\" stroke=\"none\" /><rect x=\"25.0mm\" y=\"0.0mm\" width=\"0.5mm\" height=\"5mm\" fill=\"#FDCB33\" stroke=\"none\" /><rect x=\"25.5mm\" y=\"0.0mm\" width=\"0.5mm\" height=\"5mm\" fill=\"#FDC738\" stroke=\"none\" /><rect x=\"26.0mm\" y=\"0.0mm\" width=\"0.5mm\" height=\"5mm\" fill=\"#FCC23D\" stroke=\"none\" /><rect x=\"26.5mm\" y=\"0.0mm\" width=\"0.5mm\" height=\"5mm\" fill=\"#FCBD42\" stroke=\"none\" /><rect x=\"27.0mm\" y=\"0.0mm\" width=\"0.5mm\" height=\"5mm\" fill=\"#FCB947\" stroke=\"none\" /><rect x=\"27.5mm\" y=\"0.0mm\" width=\"0.5mm\" height=\"5mm\" fill=\"#FCB44B\" stroke=\"none\" /><rect x=\"28.0mm\" y=\"0.0mm\" width=\"0.5mm\" height=\"5mm\" fill=\"#FBB050\" stroke=\"none\" /><rect x=\"28.5mm\" y=\"0.0mm\" width=\"0.5mm\" height=\"5mm\" fill=\"#FBAB55\" stroke=\"none\" /><rect x=\"29.0mm\" y=\"0.0mm\" width=\"0.5mm\" height=\"5mm\" fill=\"#FBA65A\" stroke=\"none\" /><rect x=\"29.5mm\" y=\"0.0mm\" width=\"0.5mm\" height=\"5mm\" fill=\"#FBA25F\" stroke=\"none\" /><rect x=\"30.0mm\" y=\"0.0mm\" width=\"0.5mm\" height=\"5mm\" fill=\"#FA9D64\" stroke=\"none\" /><rect x=\"30.5mm\" y=\"0.0mm\" width=\"0.5mm\" height=\"5mm\" fill=\"#FA9968\" stroke=\"none\" /><rect x=\"31.0mm\" y=\"0.0mm\" width=\"0.5mm\" height=\"5mm\" fill=\"#FA946D\" stroke=\"none\" /><rect x=\"31.5mm\" y=\"0.0mm\" width=\"0.5mm\" height=\"5mm\" fill=\"#FA8F72\" stroke=\"none\" /><rect x=\"32.0mm\" y=\"0.0mm\" width=\"0.5mm\" height=\"5mm\" fill=\"#F98B77\" stroke=\"none\" /><rect x=\"32.5mm\" y=\"0.0mm\" width=\"0.5mm\" height=\"5mm\" fill=\"#F9867C\" stroke=\"none\" /><rect x=\"33.0mm\" y=\"0.0mm\" width=\"0.5mm\" height=\"5mm\" fill=\"#F98181\" stroke=\"none\" /><rect x=\"33.5mm\" y=\"0.0mm\" width=\"0.5mm\" height=\"5mm\" fill=\"#F97D86\" stroke=\"none\" /><rect x=\"34.0mm\" y=\"0.0mm\" width=\"0.5mm\" height=\"5mm\" fill=\"#F8788A\" stroke=\"none\" /><rect x=\"34.5mm\" y=\"0.0mm\" width=\"0.5mm\" height=\"5mm\" fill=\"#F8748F\" stroke=\"none\" /><rect x=\"35.0mm\" y=\"0.0mm\" width=\"0.5mm\" height=\"5mm\" fill=\"#F86F94\" stroke=\"none\" /><rect x=\"35.5mm\" y=\"0.0mm\" width=\"0.5mm\" height=\"5mm\" fill=\"#F76A99\" stroke=\"none\" /><rect x=\"36.0mm\" y=\"0.0mm\" width=\"0.5mm\" height=\"5mm\" fill=\"#F7669E\" stroke=\"none\" /><rect x=\"36.5mm\" y=\"0.0mm\" width=\"0.5mm\" height=\"5mm\" fill=\"#F761A3\" stroke=\"none\" /><rect x=\"37.0mm\" y=\"0.0mm\" width=\"0.5mm\" height=\"5mm\" fill=\"#F75DA8\" stroke=\"none\" /><rect x=\"37.5mm\" y=\"0.0mm\" width=\"0.5mm\" height=\"5mm\" fill=\"#F658AC\" stroke=\"none\" /><rect x=\"38.0mm\" y=\"0.0mm\" width=\"0.5mm\" height=\"5mm\" fill=\"#F653B1\" stroke=\"none\" /><rect x=\"38.5mm\" y=\"0.0mm\" width=\"0.5mm\" height=\"5mm\" fill=\"#F64FB6\" stroke=\"none\" /><rect x=\"39.0mm\" y=\"0.0mm\" width=\"0.5mm\" height=\"5mm\" fill=\"#F64ABB\" stroke=\"none\" /><rect x=\"39.5mm\" y=\"0.0mm\" width=\"0.5mm\" height=\"5mm\" fill=\"#F546C0\" stroke=\"none\" /><rect x=\"40.0mm\" y=\"0.0mm\" width=\"0.5mm\" height=\"5mm\" fill=\"#F541C5\" stroke=\"none\" /><rect x=\"40.5mm\" y=\"0.0mm\" width=\"0.5mm\" height=\"5mm\" fill=\"#F53CC9\" stroke=\"none\" /><rect x=\"41.0mm\" y=\"0.0mm\" width=\"0.5mm\" height=\"5mm\" fill=\"#F538CE\" stroke=\"none\" /><rect x=\"41.5mm\" y=\"0.0mm\" width=\"0.5mm\" height=\"5mm\" fill=\"#F433D3\" stroke=\"none\" /><rect x=\"42.0mm\" y=\"0.0mm\" width=\"0.5mm\" height=\"5mm\" fill=\"#F42ED8\" stroke=\"none\" /><rect x=\"42.5mm\" y=\"0.0mm\" width=\"0.5mm\" height=\"5mm\" fill=\"#F42ADD\" stroke=\"none\" /><rect x=\"43.0mm\" y=\"0.0mm\" width=\"0.5mm\" height=\"5mm\" fill=\"#EF2DD9\" stroke=\"none\" /><rect x=\"43.5mm\" y=\"0.0mm\" width=\"0.5mm\" height=\"5mm\" fill=\"#EA30D5\" stroke=\"none\" /><rect x=\"44.0mm\" y=\"0.0mm\" width=\"0.5mm\" height=\"5mm\" fill=\"#E533D2\" stroke=\"none\" /><rect x=\"44.5mm\" y=\"0.0mm\" width=\"0.5mm\" height=\"5mm\" fill=\"#E036CE\" stroke=\"none\" /><rect x=\"45.0mm\" y=\"0.0mm\" width=\"0.5mm\" height=\"5mm\" fill=\"#DA39CA\" stroke=\"none\" /><rect x=\"45.5mm\" y=\"0.0mm\" width=\"0.5mm\" height=\"5mm\" fill=\"#D53CC6\" stroke=\"none\" /><rect x=\"46.0mm\" y=\"0.0mm\" width=\"0.5mm\" height=\"5mm\" fill=\"#D03FC2\" stroke=\"none\" /><rect x=\"46.5mm\" y=\"0.0mm\" width=\"0.5mm\" height=\"5mm\" fill=\"#CB42BF\" stroke=\"none\" /><rect x=\"47.0mm\" y=\"0.0mm\" width=\"0.5mm\" height=\"5mm\" fill=\"#C645BB\" stroke=\"none\" /><rect x=\"47.5mm\" y=\"0.0mm\" width=\"0.5mm\" height=\"5mm\" fill=\"#C148B7\" stroke=\"none\" /><rect x=\"48.0mm\" y=\"0.0mm\" width=\"0.5mm\" height=\"5mm\" fill=\"#BC4BB3\" stroke=\"none\" /><rect x=\"48.5mm\" y=\"0.0mm\" width=\"0.5mm\" height=\"5mm\" fill=\"#B74EB0\" stroke=\"none\" /><rect x=\"49.0mm\" y=\"0.0mm\" width=\"0.5mm\" height=\"5mm\" fill=\"#B251AC\" stroke=\"none\" /><rect x=\"49.5mm\" y=\"0.0mm\" width=\"0.5mm\" height=\"5mm\" fill=\"#AD54A8\" stroke=\"none\" /><rect x=\"50.0mm\" y=\"0.0mm\" width=\"0.5mm\" height=\"5mm\" fill=\"#A857A4\" stroke=\"none\" /><rect x=\"50.5mm\" y=\"0.0mm\" width=\"0.5mm\" height=\"5mm\" fill=\"#A35AA1\" stroke=\"none\" /><rect x=\"51.0mm\" y=\"0.0mm\" width=\"0.5mm\" height=\"5mm\" fill=\"#9E5D9D\" stroke=\"none\" /><rect x=\"51.5mm\" y=\"0.0mm\" width=\"0.5mm\" height=\"5mm\" fill=\"#996099\" stroke=\"none\" /><rect x=\"52.0mm\" y=\"0.0mm\" width=\"0.5mm\" height=\"5mm\" fill=\"#946395\" stroke=\"none\" /><rect x=\"52.5mm\" y=\"0.0mm\" width=\"0.5mm\" height=\"5mm\" fill=\"#8F6692\" stroke=\"none\" /><rect x=\"53.0mm\" y=\"0.0mm\" width=\"0.5mm\" height=\"5mm\" fill=\"#8A698E\" stroke=\"none\" /><rect x=\"53.5mm\" y=\"0.0mm\" width=\"0.5mm\" height=\"5mm\" fill=\"#856C8A\" stroke=\"none\" /><rect x=\"54.0mm\" y=\"0.0mm\" width=\"0.5mm\" height=\"5mm\" fill=\"#7F6F86\" stroke=\"none\" /><rect x=\"54.5mm\" y=\"0.0mm\" width=\"0.5mm\" height=\"5mm\" fill=\"#7A7283\" stroke=\"none\" /><rect x=\"55.0mm\" y=\"0.0mm\" width=\"0.5mm\" height=\"5mm\" fill=\"#75757F\" stroke=\"none\" /><rect x=\"55.5mm\" y=\"0.0mm\" width=\"0.5mm\" height=\"5mm\" fill=\"#70787B\" stroke=\"none\" /><rect x=\"56.0mm\" y=\"0.0mm\" width=\"0.5mm\" height=\"5mm\" fill=\"#6B7B77\" stroke=\"none\" /><rect x=\"56.5mm\" y=\"0.0mm\" width=\"0.5mm\" height=\"5mm\" fill=\"#667E73\" stroke=\"none\" /><rect x=\"57.0mm\" y=\"0.0mm\" width=\"0.5mm\" height=\"5mm\" fill=\"#618170\" stroke=\"none\" /><rect x=\"57.5mm\" y=\"0.0mm\" width=\"0.5mm\" height=\"5mm\" fill=\"#5C846C\" stroke=\"none\" /><rect x=\"58.0mm\" y=\"0.0mm\" width=\"0.5mm\" height=\"5mm\" fill=\"#578768\" stroke=\"none\" /><rect x=\"58.5mm\" y=\"0.0mm\" width=\"0.5mm\" height=\"5mm\" fill=\"#528A64\" stroke=\"none\" /><rect x=\"59.0mm\" y=\"0.0mm\" width=\"0.5mm\" height=\"5mm\" fill=\"#4D8D61\" stroke=\"none\" /><rect x=\"59.5mm\" y=\"0.0mm\" width=\"0.5mm\" height=\"5mm\" fill=\"#48905D\" stroke=\"none\" /><rect x=\"60.0mm\" y=\"0.0mm\" width=\"0.5mm\" height=\"5mm\" fill=\"#439359\" stroke=\"none\" /><rect x=\"60.5mm\" y=\"0.0mm\" width=\"0.5mm\" height=\"5mm\" fill=\"#3E9655\" stroke=\"none\" /><rect x=\"61.0mm\" y=\"0.0mm\" width=\"0.5mm\" height=\"5mm\" fill=\"#399952\" stroke=\"none\" /><rect x=\"61.5mm\" y=\"0.0mm\" width=\"0.5mm\" height=\"5mm\" fill=\"#349C4E\" stroke=\"none\" /><rect x=\"62.0mm\" y=\"0.0mm\" width=\"0.5mm\" height=\"5mm\" fill=\"#2F9F4A\" stroke=\"none\" /><rect x=\"62.5mm\" y=\"0.0mm\" width=\"0.5mm\" height=\"5mm\" fill=\"#29A246\" stroke=\"none\" /><rect x=\"63.0mm\" y=\"0.0mm\" width=\"0.5mm\" height=\"5mm\" fill=\"#24A543\" stroke=\"none\" /><rect x=\"63.5mm\" y=\"0.0mm\" width=\"0.5mm\" height=\"5mm\" fill=\"#1FA83F\" stroke=\"none\" /><rect x=\"64.0mm\" y=\"0.0mm\" width=\"0.5mm\" height=\"5mm\" fill=\"#1EA93F\" stroke=\"none\" /><rect x=\"64.5mm\" y=\"0.0mm\" width=\"0.5mm\" height=\"5mm\" fill=\"#21A742\" stroke=\"none\" /><rect x=\"65.0mm\" y=\"0.0mm\" width=\"0.5mm\" height=\"5mm\" fill=\"#24A546\" stroke=\"none\" /><rect x=\"65.5mm\" y=\"0.0mm\" width=\"0.5mm\" height=\"5mm\" fill=\"#26A449\" stroke=\"none\" /><rect x=\"66.0mm\" y=\"0.0mm\" width=\"0.5mm\" height=\"5mm\" fill=\"#29A24D\" stroke=\"none\" /><rect x=\"66.5mm\" y=\"0.0mm\" width=\"0.5mm\" height=\"5mm\" fill=\"#2CA050\" stroke=\"none\" /><rect x=\"67.0mm\" y=\"0.0mm\" width=\"0.5mm\" height=\"5mm\" fill=\"#2E9E54\" stroke=\"none\" /><rect x=\"67.5mm\" y=\"0.0mm\" width=\"0.5mm\" height=\"5mm\" fill=\"#319C58\" stroke=\"none\" /><rect x=\"68.0mm\" y=\"0.0mm\" width=\"0.5mm\" height=\"5mm\" fill=\"#349B5B\" stroke=\"none\" /><rect x=\"68.5mm\" y=\"0.0mm\" width=\"0.5mm\" height=\"5mm\" fill=\"#36995F\" stroke=\"none\" /><rect x=\"69.0mm\" y=\"0.0mm\" width=\"0.5mm\" height=\"5mm\" fill=\"#399762\" stroke=\"none\" /><rect x=\"69.5mm\" y=\"0.0mm\" width=\"0.5mm\" height=\"5mm\" fill=\"#3C9566\" stroke=\"none\" /><rect x=\"70.0mm\" y=\"0.0mm\" width=\"0.5mm\" height=\"5mm\" fill=\"#3E9369\" stroke=\"none\" /><rect x=\"70.5mm\" y=\"0.0mm\" width=\"0.5mm\" height=\"5mm\" fill=\"#41926D\" stroke=\"none\" /><rect x=\"71.0mm\" y=\"0.0mm\" width=\"0.5mm\" height=\"5mm\" fill=\"#449070\" stroke=\"none\" /><rect x=\"71.5mm\" y=\"0.0mm\" width=\"0.5mm\" height=\"5mm\" fill=\"#468E74\" stroke=\"none\" /><rect x=\"72.0mm\" y=\"0.0mm\" width=\"0.5mm\" height=\"5mm\" fill=\"#498C78\" stroke=\"none\" /><rect x=\"72.5mm\" y=\"0.0mm\" width=\"0.5mm\" height=\"5mm\" fill=\"#4C8B7B\" stroke=\"none\" /><rect x=\"73.0mm\" y=\"0.0mm\" width=\"0.5mm\" height=\"5mm\" fill=\"#4E897F\" stroke=\"none\" /><rect x=\"73.5mm\" y=\"0.0mm\" width=\"0.5mm\" height=\"5mm\" fill=\"#518782\" stroke=\"none\" /><rect x=\"74.0mm\" y=\"0.0mm\" width=\"0.5mm\" height=\"5mm\" fill=\"#548586\" stroke=\"none\" /><rect x=\"74.5mm\" y=\"0.0mm\" width=\"0.5mm\" height=\"5mm\" fill=\"#568389\" stroke=\"none\" /><rect x=\"75.0mm\" y=\"0.0mm\" width=\"0.5mm\" height=\"5mm\" fill=\"#59828D\" stroke=\"none\" /><rect x=\"75.5mm\" y=\"0.0mm\" width=\"0.5mm\" height=\"5mm\" fill=\"#5C8090\" stroke=\"none\" /><rect x=\"76.0mm\" y=\"0.0mm\" width=\"0.5mm\" height=\"5mm\" fill=\"#5F7E94\" stroke=\"none\" /><rect x=\"76.5mm\" y=\"0.0mm\" width=\"0.5mm\" height=\"5mm\" fill=\"#617C98\" stroke=\"none\" /><rect x=\"77.0mm\" y=\"0.0mm\" width=\"0.5mm\" height=\"5mm\" fill=\"#647A9B\" stroke=\"none\" /><rect x=\"77.5mm\" y=\"0.0mm\" width=\"0.5mm\" height=\"5mm\" fill=\"#67799F\" stroke=\"none\" /><rect x=\"78.0mm\" y=\"0.0mm\" width=\"0.5mm\" height=\"5mm\" fill=\"#6977A2\" stroke=\"none\" /><rect x=\"78.5mm\" y=\"0.0mm\" width=\"0.5mm\" height=\"5mm\" fill=\"#6C75A6\" stroke=\"none\" /><rect x=\"79.0mm\" y=\"0.0mm\" width=\"0.5mm\" height=\"5mm\" fill=\"#6F73A9\" stroke=\"none\" /><rect x=\"79.5mm\" y=\"0.0mm\" width=\"0.5mm\" height=\"5mm\" fill=\"#7172AD\" stroke=\"none\" /><rect x=\"80.0mm\" y=\"0.0mm\" width=\"0.5mm\" height=\"5mm\" fill=\"#7470B0\" stroke=\"none\" /><rect x=\"80.5mm\" y=\"0.0mm\" width=\"0.5mm\" height=\"5mm\" fill=\"#776EB4\" stroke=\"none\" /><rect x=\"81.0mm\" y=\"0.0mm\" width=\"0.5mm\" height=\"5mm\" fill=\"#796CB7\" stroke=\"none\" /><rect x=\"81.5mm\" y=\"0.0mm\" width=\"0.5mm\" height=\"5mm\" fill=\"#7C6ABB\" stroke=\"none\" /><rect x=\"82.0mm\" y=\"0.0mm\" width=\"0.5mm\" height=\"5mm\" fill=\"#7F69BF\" stroke=\"none\" /><rect x=\"82.5mm\" y=\"0.0mm\" width=\"0.5mm\" height=\"5mm\" fill=\"#8167C2\" stroke=\"none\" /><rect x=\"83.0mm\" y=\"0.0mm\" width=\"0.5mm\" height=\"5mm\" fill=\"#8465C6\" stroke=\"none\" /><rect x=\"83.5mm\" y=\"0.0mm\" width=\"0.5mm\" height=\"5mm\" fill=\"#8763C9\" stroke=\"none\" /><rect x=\"84.0mm\" y=\"0.0mm\" width=\"0.5mm\" height=\"5mm\" fill=\"#8961CD\" stroke=\"none\" /><rect x=\"84.5mm\" y=\"0.0mm\" width=\"0.5mm\" height=\"5mm\" fill=\"#8C60D0\" stroke=\"none\" /><rect x=\"85.0mm\" y=\"0.0mm\" width=\"0.5mm\" height=\"5mm\" fill=\"#8F5ED4\" stroke=\"none\" /><rect x=\"85.5mm\" y=\"0.0mm\" width=\"0.5mm\" height=\"5mm\" fill=\"#8C60D5\" stroke=\"none\" /><rect x=\"86.0mm\" y=\"0.0mm\" width=\"0.5mm\" height=\"5mm\" fill=\"#8962D6\" stroke=\"none\" /><rect x=\"86.5mm\" y=\"0.0mm\" width=\"0.5mm\" height=\"5mm\" fill=\"#8664D7\" stroke=\"none\" /><rect x=\"87.0mm\" y=\"0.0mm\" width=\"0.5mm\" height=\"5mm\" fill=\"#8367D8\" stroke=\"none\" /><rect x=\"87.5mm\" y=\"0.0mm\" width=\"0.5mm\" height=\"5mm\" fill=\"#8069D9\" stroke=\"none\" /><rect x=\"88.0mm\" y=\"0.0mm\" width=\"0.5mm\" height=\"5mm\" fill=\"#7D6BDA\" stroke=\"none\" /><rect x=\"88.5mm\" y=\"0.0mm\" width=\"0.5mm\" height=\"5mm\" fill=\"#7A6DDB\" stroke=\"none\" /><rect x=\"89.0mm\" y=\"0.0mm\" width=\"0.5mm\" height=\"5mm\" fill=\"#776FDC\" stroke=\"none\" /><rect x=\"89.5mm\" y=\"0.0mm\" width=\"0.5mm\" height=\"5mm\" fill=\"#7472DD\" stroke=\"none\" /><rect x=\"90.0mm\" y=\"0.0mm\" width=\"0.5mm\" height=\"5mm\" fill=\"#7174DE\" stroke=\"none\" /><rect x=\"90.5mm\" y=\"0.0mm\" width=\"0.5mm\" height=\"5mm\" fill=\"#6E76DF\" stroke=\"none\" /><rect x=\"91.0mm\" y=\"0.0mm\" width=\"0.5mm\" height=\"5mm\" fill=\"#6B78E0\" stroke=\"none\" /><rect x=\"91.5mm\" y=\"0.0mm\" width=\"0.5mm\" height=\"5mm\" fill=\"#687AE1\" stroke=\"none\" /><rect x=\"92.0mm\" y=\"0.0mm\" width=\"0.5mm\" height=\"5mm\" fill=\"#657CE2\" stroke=\"none\" /><rect x=\"92.5mm\" y=\"0.0mm\" width=\"0.5mm\" height=\"5mm\" fill=\"#627FE3\" stroke=\"none\" /><rect x=\"93.0mm\" y=\"0.0mm\" width=\"0.5mm\" height=\"5mm\" fill=\"#5F81E4\" stroke=\"none\" /><rect x=\"93.5mm\" y=\"0.0mm\" width=\"0.5mm\" height=\"5mm\" fill=\"#5C83E5\" stroke=\"none\" /><rect x=\"94.0mm\" y=\"0.0mm\" width=\"0.5mm\" height=\"5mm\" fill=\"#5985E6\" stroke=\"none\" /><rect x=\"94.5mm\" y=\"0.0mm\" width=\"0.5mm\" height=\"5mm\" fill=\"#5687E7\" stroke=\"none\" /><rect x=\"95.0mm\" y=\"0.0mm\" width=\"0.5mm\" height=\"5mm\" fill=\"#538AE8\" stroke=\"none\" /><rect x=\"95.5mm\" y=\"0.0mm\" width=\"0.5mm\" height=\"5mm\" fill=\"#508CE9\" stroke=\"none\" /><rect x=\"96.0mm\" y=\"0.0mm\" width=\"0.5mm\" height=\"5mm\" fill=\"#4D8EEA\" stroke=\"none\" /><rect x=\"96.5mm\" y=\"0.0mm\" width=\"0.5mm\" height=\"5mm\" fill=\"#4A90EB\" stroke=\"none\" /><rect x=\"97.0mm\" y=\"0.0mm\" width=\"0.5mm\" height=\"5mm\" fill=\"#4792EC\" stroke=\"none\" /><rect x=\"97.5mm\" y=\"0.0mm\" width=\"0.5mm\" height=\"5mm\" fill=\"#4495ED\" stroke=\"none\" /><rect x=\"98.0mm\" y=\"0.0mm\" width=\"0.5mm\" height=\"5mm\" fill=\"#4097EE\" stroke=\"none\" /><rect x=\"98.5mm\" y=\"0.0mm\" width=\"0.5mm\" height=\"5mm\" fill=\"#3D99EF\" stroke=\"none\" /><rect x=\"99.0mm\" y=\"0.0mm\" width=\"0.5mm\" height=\"5mm\" fill=\"#3A9BF0\" stroke=\"none\" /><rect x=\"99.5mm\" y=\"0.0mm\" width=\"0.5mm\" height=\"5mm\" fill=\"#379DF1\" stroke=\"none\" /><rect x=\"100.0mm\" y=\"0.0mm\" width=\"0.5mm\" height=\"5mm\" fill=\"#34A0F2\" stroke=\"none\" /><rect x=\"100.5mm\" y=\"0.0mm\" width=\"0.5mm\" height=\"5mm\" fill=\"#31A2F3\" stroke=\"none\" /><rect x=\"101.0mm\" y=\"0.0mm\" width=\"0.5mm\" height=\"5mm\" fill=\"#2EA4F4\" stroke=\"none\" /><rect x=\"101.5mm\" y=\"0.0mm\" width=\"0.5mm\" height=\"5mm\" fill=\"#2BA6F5\" stroke=\"none\" /><rect x=\"102.0mm\" y=\"0.0mm\" width=\"0.5mm\" height=\"5mm\" fill=\"#28A8F6\" stroke=\"none\" /><rect x=\"102.5mm\" y=\"0.0mm\" width=\"0.5mm\" height=\"5mm\" fill=\"#25AAF7\" stroke=\"none\" /><rect x=\"103.0mm\" y=\"0.0mm\" width=\"0.5mm\" height=\"5mm\" fill=\"#22ADF8\" stroke=\"none\" /><rect x=\"103.5mm\" y=\"0.0mm\" width=\"0.5mm\" height=\"5mm\" fill=\"#1FAFF9\" stroke=\"none\" /><rect x=\"104.0mm\" y=\"0.0mm\" width=\"0.5mm\" height=\"5mm\" fill=\"#1CB1FA\" stroke=\"none\" /><rect x=\"104.5mm\" y=\"0.0mm\" width=\"0.5mm\" height=\"5mm\" fill=\"#19B3FB\" stroke=\"none\" /><rect x=\"105.0mm\" y=\"0.0mm\" width=\"0.5mm\" height=\"5mm\" fill=\"#16B5FC\" stroke=\"none\" /><rect x=\"105.5mm\" y=\"0.0mm\" width=\"0.5mm\" height=\"5mm\" fill=\"#13B8FD\" stroke=\"none\" /><rect x=\"106.0mm\" y=\"0.0mm\" width=\"0.5mm\" height=\"5mm\" fill=\"#10BAFE\" stroke=\"none\" /><rect x=\"106.5mm\" y=\"0.0mm\" width=\"0.5mm\" height=\"5mm\" fill=\"#12B9FC\" stroke=\"none\" /><rect x=\"107.0mm\" y=\"0.0mm\" width=\"0.5mm\" height=\"5mm\" fill=\"#17B4F6\" stroke=\"none\" /><rect x=\"107.5mm\" y=\"0.0mm\" width=\"0.5mm\" height=\"5mm\" fill=\"#1DB0F0\" stroke=\"none\" /><rect x=\"108.0mm\" y=\"0.0mm\" width=\"0.5mm\" height=\"5mm\" fill=\"#23ACEA\" stroke=\"none\" /><rect x=\"108.5mm\" y=\"0.0mm\" width=\"0.5mm\" height=\"5mm\" fill=\"#28A7E4\" stroke=\"none\" /><rect x=\"109.0mm\" y=\"0.0mm\" width=\"0.5mm\" height=\"5mm\" fill=\"#2EA3DE\" stroke=\"none\" /><rect x=\"109.5mm\" y=\"0.0mm\" width=\"0.5mm\" height=\"5mm\" fill=\"#349ED8\" stroke=\"none\" /><rect x=\"110.0mm\" y=\"0.0mm\" width=\"0.5mm\" height=\"5mm\" fill=\"#399AD2\" stroke=\"none\" /><rect x=\"110.5mm\" y=\"0.0mm\" width=\"0.5mm\" height=\"5mm\" fill=\"#3F96CC\" stroke=\"none\" /><rect x=\"111.0mm\" y=\"0.0mm\" width=\"0.5mm\" height=\"5mm\" fill=\"#4491C6\" stroke=\"none\" /><rect x=\"111.5mm\" y=\"0.0mm\" width=\"0.5mm\" height=\"5mm\" fill=\"#4A8DC0\" stroke=\"none\" /><rect x=\"112.0mm\" y=\"0.0mm\" width=\"0.5mm\" height=\"5mm\" fill=\"#5088BA\" stroke=\"none\" /><rect x=\"112.5mm\" y=\"0.0mm\" width=\"0.5mm\" height=\"5mm\" fill=\"#5584B4\" stroke=\"none\" /><rect x=\"113.0mm\" y=\"0.0mm\" width=\"0.5mm\" height=\"5mm\" fill=\"#5B80AE\" stroke=\"none\" /><rect x=\"113.5mm\" y=\"0.0mm\" width=\"0.5mm\" height=\"5mm\" fill=\"#617BA8\" stroke=\"none\" /><rect x=\"114.0mm\" y=\"0.0mm\" width=\"0.5mm\" height=\"5mm\" fill=\"#6677A2\" stroke=\"none\" /><rect x=\"114.5mm\" y=\"0.0mm\" width=\"0.5mm\" height=\"5mm\" fill=\"#6C729C\" stroke=\"none\" /><rect x=\"115.0mm\" y=\"0.0mm\" width=\"0.5mm\" height=\"5mm\" fill=\"#726E96\" stroke=\"none\" /><rect x=\"115.5mm\" y=\"0.0mm\" width=\"0.5mm\" height=\"5mm\" fill=\"#776A90\" stroke=\"none\" /><rect x=\"116.0mm\" y=\"0.0mm\" width=\"0.5mm\" height=\"5mm\" fill=\"#7D658A\" stroke=\"none\" /><rect x=\"116.5mm\" y=\"0.0mm\" width=\"0.5mm\" height=\"5mm\" fill=\"#836184\" stroke=\"none\" /><rect x=\"117.0mm\" y=\"0.0mm\" width=\"0.5mm\" height=\"5mm\" fill=\"#885C7E\" stroke=\"none\" /><rect x=\"117.5mm\" y=\"0.0mm\" width=\"0.5mm\" height=\"5mm\" fill=\"#8E5878\" stroke=\"none\" /><rect x=\"118.0mm\" y=\"0.0mm\" width=\"0.5mm\" height=\"5mm\" fill=\"#945472\" stroke=\"none\" /><rect x=\"118.5mm\" y=\"0.0mm\" width=\"0.5mm\" height=\"5mm\" fill=\"#994F6C\" stroke=\"none\" /><rect x=\"119.0mm\" y=\"0.0mm\" width=\"0.5mm\" height=\"5mm\" fill=\"#9F4B66\" stroke=\"none\" /><rect x=\"119.5mm\" y=\"0.0mm\" width=\"0.5mm\" height=\"5mm\" fill=\"#A54660\" stroke=\"none\" /><rect x=\"120.0mm\" y=\"0.0mm\" width=\"0.5mm\" height=\"5mm\" fill=\"#AA425A\" stroke=\"none\" /><rect x=\"120.5mm\" y=\"0.0mm\" width=\"0.5mm\" height=\"5mm\" fill=\"#B03E54\" stroke=\"none\" /><rect x=\"121.0mm\" y=\"0.0mm\" width=\"0.5mm\" height=\"5mm\" fill=\"#B6394E\" stroke=\"none\" /><rect x=\"121.5mm\" y=\"0.0mm\" width=\"0.5mm\" height=\"5mm\" fill=\"#BB3548\" stroke=\"none\" /><rect x=\"122.0mm\" y=\"0.0mm\" width=\"0.5mm\" height=\"5mm\" fill=\"#C13042\" stroke=\"none\" /><rect x=\"122.5mm\" y=\"0.0mm\" width=\"0.5mm\" height=\"5mm\" fill=\"#C62C3C\" stroke=\"none\" /><rect x=\"123.0mm\" y=\"0.0mm\" width=\"0.5mm\" height=\"5mm\" fill=\"#CC2836\" stroke=\"none\" /><rect x=\"123.5mm\" y=\"0.0mm\" width=\"0.5mm\" height=\"5mm\" fill=\"#D22330\" stroke=\"none\" /><rect x=\"124.0mm\" y=\"0.0mm\" width=\"0.5mm\" height=\"5mm\" fill=\"#D71F2A\" stroke=\"none\" /><rect x=\"124.5mm\" y=\"0.0mm\" width=\"0.5mm\" height=\"5mm\" fill=\"#DD1A24\" stroke=\"none\" /><rect x=\"125.0mm\" y=\"0.0mm\" width=\"0.5mm\" height=\"5mm\" fill=\"#E3161E\" stroke=\"none\" /><rect x=\"125.5mm\" y=\"0.0mm\" width=\"0.5mm\" height=\"5mm\" fill=\"#E81218\" stroke=\"none\" /><rect x=\"126.0mm\" y=\"0.0mm\" width=\"0.5mm\" height=\"5mm\" fill=\"#EE0D12\" stroke=\"none\" /><rect x=\"126.5mm\" y=\"0.0mm\" width=\"0.5mm\" height=\"5mm\" fill=\"#F4090C\" stroke=\"none\" /><rect x=\"127.0mm\" y=\"0.0mm\" width=\"0.5mm\" height=\"5mm\" fill=\"#F90406\" stroke=\"none\" /><rect x=\"127.5mm\" y=\"0.0mm\" width=\"0.5mm\" height=\"5mm\" fill=\"#FF0000\" stroke=\"none\" /></svg>"
      ],
      "text/plain": [
       "ColorMap \"Sudoku\""
      ]
     },
     "execution_count": 10,
     "metadata": {},
     "output_type": "execute_result"
    }
   ],
>>>>>>> 51f1d4fecab38d990fc530124408f663d303057d
   "source": [
    "#define trialname\n",
    "trialname=\"Testtrial_2021\"\n",
    "#define number of checktypes\n",
    "numberofchecktypes=3\n",
    "#define number of genotypes\n",
    "numberofgenotypes=119\n",
    "#define if only a design with checks should be generated (without genotypes): checks/all\n",
    "designtype=\"all\"\n",
    "#define if entries shuffled (randomized) or not (sorted randomization for PM)\n",
    "entries_randomized=\"yes\"\n",
    "#define name of list with entries and checks\n",
    "templatename=\"Sample_data_Sudoku-augmented.xlsx\"\n",
    "#define color map\n",
    "cmap_sudoku=ColorMap(\"Sudoku\",\n",
    "    [RGB(0.5,0.5,0.5),\n",
    "        RGB(1, 0.933, 0.058),\n",
    "        RGB(0.956, 0.164, 0.866),\n",
    "        RGB(0.113, 0.666, 0.239),\n",
    "        RGB(0.560, 0.368, 0.831),\n",
    "        RGB(0.058, 0.733, 1),\n",
    "        RGB(1,0,0),])\n",
    "# define trial layout (x direction, y direction)\n",
    "# we create here a design with 20 plots in x-direction and 10 plots in y-direction."
   ]
  },
  {
   "cell_type": "code",
<<<<<<< HEAD
   "execution_count": null,
   "metadata": {},
   "outputs": [],
=======
   "execution_count": 11,
   "metadata": {},
   "outputs": [
    {
     "data": {
      "image/png": "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",
      "text/plain": [
       "Figure(PyObject <Figure size 400x200 with 1 Axes>)"
      ]
     },
     "metadata": {},
     "output_type": "display_data"
    }
   ],
>>>>>>> 51f1d4fecab38d990fc530124408f663d303057d
   "source": [
    "mkpath(\"output\")\n",
    "C = get_configuration([10,10], [2,2,2,2,2], numberofchecktypes)\n",
    "initialize_checks_per_block!(C)\n",
    "empty_plots!(C, 11:20,1:6) #optionally: define empty plots\n",
    "show_configuration(C, zoom=0.2,cmap=cmap_sudoku)\n",
    "savefig(\"output/initial_design_random_\"*trialname*\".pdf\")"
   ]
  },
  {
   "cell_type": "markdown",
   "metadata": {},
   "source": [
    "Generate a new configuration `conf` which is divided into 2 horizontal and 5 vertical blocks of dimensions 10 x 2 respectively. In total, there are 4 different checks in the configuration."
   ]
  },
  {
   "cell_type": "code",
   "execution_count": null,
   "metadata": {},
   "outputs": [],
   "source": [
    "conf = get_configuration(\n",
    "    [10,10],  [2,2,2,2,2],\n",
    "    4\n",
    ")"
   ]
  },
  {
   "cell_type": "markdown",
   "metadata": {},
   "source": [
    "Show the configuration `conf` utilizing a zoom factor of `0.2`"
   ]
  },
  {
   "cell_type": "code",
   "execution_count": null,
   "metadata": {},
   "outputs": [],
   "source": [
    "show_configuration(conf, zoom=0.2)"
   ]
  },
  {
   "cell_type": "markdown",
   "metadata": {},
   "source": [
    "## 3) Define sudoku functions"
   ]
  },
  {
   "cell_type": "markdown",
   "metadata": {},
   "source": [
    "### Define inverse temperature function\n",
    "\n",
    "..."
   ]
  },
  {
   "cell_type": "code",
   "execution_count": null,
   "metadata": {},
   "outputs": [],
   "source": [
    "beta(t) = 1*exp(-7*t) * (1 + 0.2*cos(t*30*pi))\n",
    "\n",
    "plot(0:0.001:1, beta.(0:0.001:1))\n",
    "xlabel(\"rel. update\"); ylabel(\"T\")"
   ]
  },
  {
   "cell_type": "markdown",
   "metadata": {},
   "source": [
    "### Specify individual cost function for optimization\n",
    "\n",
    "..."
   ]
  },
  {
   "cell_type": "code",
   "execution_count": null,
   "metadata": {},
   "outputs": [],
   "source": [
    "function K_indiv(conf :: C) :: Float64 where {C <: CheckConfiguration}\n",
    "    return  K_num_checks_equal_per_type(conf) +\n",
    "            K_checks_per_type_per_block(conf, 1)*20+\n",
    "            K_neighbors_different_check_functional(conf, d->0.5/(d^3)) +\n",
    "            K_neighbors_same_check_functional(conf, d->1/(d^3))*12\n",
    "end"
   ]
  },
  {
   "cell_type": "markdown",
   "metadata": {},
   "source": [
    "## 4) Run sudoku"
   ]
  },
  {
   "cell_type": "code",
   "execution_count": null,
   "metadata": {},
   "outputs": [],
   "source": [
    "kosten = optimize_design!(\n",
    "    C,\n",
    "    [UpdateNewCheckLabel(),UpdateSwapCheckCheck(),UpdateSwapCheckGenotype()],\n",
    "    K_indiv,\n",
    "    100000,\n",
    "    beta\n",
    ")\n",
    "\n",
    "\n",
    "initialize_genotypes!(C, numberofgenotypes)\n",
    "@showprogress \"Optimizing Design ... \" for i in 1:length(kosten)\n",
    "    mc_update!(C, beta(i/length(kosten))*0.5, updates, K_indiv)\n",
    "    kosten[i] = K_indiv(C)\n",
    "end\n",
    "kosten .-= minimum(kosten)\n",
    "kosten .+= 1\n",
    "\n",
    "#print things\n",
    "println(\"Kosten: \",K_indiv(C)+kosten[1], \" -> \", K_indiv(C)+kosten[end])\n",
    "println(\"perc_checks: \",C.num_checks_total / (C.num_plots_total - C.num_checks_total))\n",
    "println(\"genotypes: \",C.num_plots_total - C.num_checks_total)\n",
    "println(\"checks:    \",C.num_checks_total, \"  (\", round(100*C.num_checks_total / C.num_plots_total, digits=2), \"%)\")\n",
    "for i in 1:C.N\n",
    "    println(\"check ($(i)): \",C.num_checks[i], \"  (\", round(100*C.num_checks[i] / C.num_checks_total, digits=2), \"%)\")    \n",
    "end\n",
    "\n",
    "show_configuration(C,cmap=cmap_sudoku,zoom=0.2)\n",
    "\n",
    "\n",
    "figure()\n",
    "plot(kosten)\n",
    "yscale(\"log\")\n",
    "\n",
    "\n",
    "#save without check labels\n",
    "show_configuration(C,check_labels=false,cmap=cmap_sudoku)\n",
    "#savefig(\"final_sudoku_design_\"*trialname*\".png\")\n",
    "savefig(\"final_sudoku_design_\"*trialname*\".pdf\")\n",
    "\n",
    "## 6) Plot with Plant_Codes and write data to xlsx"
   ]
  },
  {
   "cell_type": "markdown",
   "metadata": {},
   "source": [
    "## 5) Save field plan and design data"
   ]
  },
  {
   "cell_type": "code",
   "execution_count": null,
   "metadata": {},
   "outputs": [],
   "source": [
    "#read in check data\n",
    "checkdata = DataFrame(XLSX.readtable(templatename, \"checks\")...)\n",
    "checknames=names(checkdata)\n",
    "for i in 1:length(checknames)\n",
    "    checkdata[!,Symbol(checknames[i])]=string.(collect(checkdata[!,Symbol(checknames[i])]))\n",
    "end\n",
    "if nrow(checkdata)!= numberofchecktypes\n",
    "    println(\"Number of checks in csv not matching pre-defined checks!\")\n",
    "end\n",
    "\n",
    "\n",
    "#replace missing with NA\n",
    "for col in eachcol(checkdata)\n",
    "    replace!(col,missing => \"NA\")\n",
    "end\n",
    "\n",
    "\n",
    "#depending on reading in additionally genotype file\n",
    "if  designtype==\"checks\"\n",
    "    print(\"Only checks were successfully read in, as specified\")\n",
    "    \n",
    "elseif designtype==\"all\"\n",
    "    #read in genotype data\n",
    "    genotypedata = DataFrame(XLSX.readtable(templatename, \"entries\")...)\n",
    "    genonames=names(genotypedata)\n",
    "    for i in 1:length(checknames)\n",
    "        genotypedata[!,Symbol(genonames[i])]=string.(collect(genotypedata[!,Symbol(genonames[i])]))\n",
    "    end\n",
    "    #replace missing with NA\n",
    "    for col in eachcol(genotypedata)\n",
    "        replace!(col,missing => \"NA\")\n",
    "    end\n",
    "    \n",
    "    #catch if not matching number of genotypes\n",
    "    if nrow(genotypedata)!= numberofgenotypes\n",
    "        println(\"Number of genotypes in xlsx datafile not matching pre-defined number of genotypes!\")\n",
    "    end\n",
    "    \n",
    "    \n",
    "    #shuffle genotypedata?\n",
    "    if entries_randomized==\"yes\"\n",
    "        genotypedata = genotypedata[shuffle(1:nrow(genotypedata)), :]\n",
    "        genotypedata[!,:genotype]=string.(collect(genotypedata[!,:genotype]))\n",
    "        print(\"Entries are randomized \")\n",
    "        #print(genotypedata)\n",
    "\n",
    "    elseif entries_randomized==\"no\"\n",
    "        print(\"Entries are not randomized\")\n",
    "        #print(genotypedata)\n",
    "\n",
    "    else\n",
    "        print(\"Specify if genotypes are randomized or sorted with entries_randomized yes/no!\")\n",
    "\n",
    "    print(\"genotypes and checks are successfully read in\")\n",
    "    end\n",
    "    \n",
    "else\n",
    "    print(\"Please specify designtype (checks/all)!\")\n",
    "        \n",
    "end\n",
    "\n",
    "#get the Plant label\n",
    "#POS = get_POS_block_x(C,posempty=true) #if over 2 big blocks in splitted by x\n",
    "POS = get_POS_coordinatewise(C,\"x\",\"left\",\"lower\",\"snake\") #with robot\n",
    "\n",
    "if designtype==\"checks\"\n",
    "    L = get_Plant_Code_Label_allinfo_checksonly(C,POS,checkdata)\n",
    "else\n",
    "    L = get_Plant_Code_Label_allinfo(C,POS,genotypedata,checkdata)\n",
    "end   \n",
    "\n",
    "show_pos_and_labels_allinfo(C, POS, L, zoom=0.9,fontsize=7,alpha=0.5,cmap=cmap_sudoku)\n",
    "savefig(\"final_sudoku_design_labels_\"*trialname*\".pdf\")"
   ]
  },
  {
   "cell_type": "code",
   "execution_count": null,
   "metadata": {},
   "outputs": [],
   "source": [
    "#write file to xlsx\n",
    "write_to_xlsx_allinfo(C.configuration,trialname,POS,L)\n",
    "\n",
    "\n",
    "#load_configuration(C, \"configuration_\"*trialname*\".txt\")\n",
    "save_configuration(C, \"configuration_\"*trialname*\".txt\")\n"
   ]
  },
  {
   "cell_type": "code",
   "execution_count": null,
   "metadata": {},
   "outputs": [],
   "source": []
  }
 ],
 "metadata": {
  "@webio": {
   "lastCommId": null,
   "lastKernelId": null
  },
  "kernelspec": {
   "display_name": "Julia 1.4.2",
   "language": "julia",
   "name": "julia-1.4"
  },
  "language_info": {
   "file_extension": ".jl",
   "mimetype": "application/julia",
   "name": "julia",
   "version": "1.4.2"
  }
 },
 "nbformat": 4,
 "nbformat_minor": 4
}
