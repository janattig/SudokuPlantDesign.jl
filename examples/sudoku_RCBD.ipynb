{
 "cells": [
  {
   "cell_type": "markdown",
   "metadata": {},
   "source": [
    "# Example: randomized complete block design (RCBD) with Sudoku"
   ]
  },
  {
   "cell_type": "markdown",
   "metadata": {},
   "source": [
    "First, import all required modules."
   ]
  },
  {
   "cell_type": "code",
   "execution_count": null,
   "metadata": {},
   "outputs": [],
   "source": [
    "using SudokuPlantDesign\n",
    "using DataFrames\n",
    "using XLSX\n",
    "using PyPlot"
   ]
  },
  {
   "cell_type": "markdown",
   "metadata": {},
   "source": [
    "In contrast to the augmented design, a randomized complete block designs (RCBD) only contains replicated varieties (previously called *checks*) and no unreplicated ones (previously called *entries*). Therefore, to utilize the Sudoku optimizer for such RCBDs, the entries of the RCBD are placed on the positions of checks in the Sudoku design which themselves make up the entire field in such a way that each block has exactly one genotype of each type."
   ]
  },
  {
   "cell_type": "markdown",
   "metadata": {},
   "source": [
    "## 1) Generate (optimized) Sudoku configuration\n",
    "\n",
    "We start by generating a new configuration `conf` which is divided into `3` horizontal and `1` vertical block of dimensions `3` x `5` respectively. The total design therefor contains 45 plots.\n",
    "\n",
    "In our example, there are `15` different genotypes to replicate which are now entering as checks into the Sudoku configuration. These are initialized randomly with one check per type per block. This already yields a promising starting configuration, however further optimization is required to maximize distance between the same genotypes."
   ]
  },
  {
   "cell_type": "code",
   "execution_count": null,
   "metadata": {},
   "outputs": [],
   "source": [
    "conf = get_configuration([3,3,3],[5], 15)\n",
    "\n",
    "initialize_checks_per_block!(conf)\n",
    "\n",
    "show_configuration(conf, title_zoom=0.6)\n",
    "mkpath(\"output/\")\n",
    "savefig(\"output/RCBD_configuration_initial.pdf\")"
   ]
  },
  {
   "cell_type": "markdown",
   "metadata": {},
   "source": [
    "The cost function and updates in this approach resemble the choice familiar from the example of the augmented design. Here however, there are no costs associated when checks are unequal in type (`K_num_checks_equal_per_type`). This is due to two observations: First, the checks are initialized equally and second, we only choose updates which swap checks but do not provide new labels."
   ]
  },
  {
   "cell_type": "code",
   "execution_count": null,
   "metadata": {},
   "outputs": [],
   "source": [
    "cost_function(c) =  K_checks_per_type_per_block(c, 1)*20 +\n",
    "                    K_neighbors_different_check_functional(c, d->0.5/(d^3)) +\n",
    "                    K_neighbors_same_check_functional(c, d->1/(d^3))"
   ]
  },
  {
   "cell_type": "code",
   "execution_count": null,
   "metadata": {},
   "outputs": [],
   "source": [
    "updates = [UpdateSwapCheckCheck()]"
   ]
  },
  {
   "cell_type": "markdown",
   "metadata": {},
   "source": [
    "Then, the optimization is run,"
   ]
  },
  {
   "cell_type": "code",
   "execution_count": null,
   "metadata": {},
   "outputs": [],
   "source": [
    "optimize_design!(\n",
    "    conf,\n",
    "    updates,\n",
    "    cost_function,\n",
    "    500000\n",
    ");"
   ]
  },
  {
   "cell_type": "markdown",
   "metadata": {},
   "source": [
    "and the resulting configuration is visualized."
   ]
  },
  {
   "cell_type": "code",
   "execution_count": null,
   "metadata": {},
   "outputs": [],
   "source": [
    "show_configuration(conf, title_zoom=0.6)\n",
    "mkpath(\"output/\")\n",
    "savefig(\"output/RCBD_configuration_final.pdf\")"
   ]
  },
  {
   "cell_type": "markdown",
   "metadata": {},
   "source": [
    "## 2) Save design data with field plan"
   ]
  },
  {
   "cell_type": "markdown",
   "metadata": {},
   "source": [
    "With an optimized configuration `conf` at hand, one can proceed to create a field plan for the design. For such a field plan, additional information on the genotypes involved in the trial is added. Here, this information enters as two dataframes with data for checks and entries (of the Sudoku design) respectively. As in the case for the augmented design, they have to be of the following structure:\n",
    "- first colum: genotype name\n",
    "- further colums: additional information (optional, but have to be identical among the dataframes)\n",
    "\n",
    "Here, we *only* have checks in the Sudoku design (which are the replicated entries of the RCBD), meaning we can leave one of the two dataframes empty. For the data of checks, the sheet `genotypes` from the Excel file `input_RCBD.xlsx` is read in and converted into the a dataframe."
   ]
  },
  {
   "cell_type": "code",
   "execution_count": null,
   "metadata": {},
   "outputs": [],
   "source": [
    "entrydata = DataFrame();"
   ]
  },
  {
   "cell_type": "code",
   "execution_count": null,
   "metadata": {},
   "outputs": [],
   "source": [
    "checkdata = string.(DataFrame(XLSX.readtable(\"input_RCBD.xlsx\", \"genotypes\")));\n",
    "replace!.(eachcol(checkdata), \"missing\" => \"NA\");"
   ]
  },
  {
   "cell_type": "markdown",
   "metadata": {},
   "source": [
    "The field plan is then based on an upgraded version of the configuration `conf`, a so-called *labeled check configuration* with the name `lconf`. This labeled configuration contains not only the original configuration, but also indices (position ID) and labels of each plant.\n",
    "\n",
    "Below, indices are set in a snake pattern along the x-direction (changing direction as it traverses the block boundaries) and labels are filled from the previously created dataframes. Then, the labeled configuration is visualized."
   ]
  },
  {
   "cell_type": "code",
   "execution_count": null,
   "metadata": {},
   "outputs": [],
   "source": [
    "lconf = LabeledCheckConfiguration(conf)\n",
    "\n",
    "fill_indices_snake_x!(lconf, 1,1, index_for_empty=false, max_i=3)\n",
    "fill_indices_snake_x!(lconf, 1,-1, index_for_empty=false, min_i=4, max_i=6, start_index=16)\n",
    "fill_indices_snake_x!(lconf, 1,1, index_for_empty=false, min_i=7, start_index=31)\n",
    "fill_labels!(lconf, checkdata, entrydata)\n",
    "\n",
    "show_configuration(lconf, check_labels=false, show_coordinates=true, text_zoom=0.8, title_zoom=0.5)\n",
    "mkpath(\"output/\")\n",
    "savefig(\"output/RCBD_final_design.pdf\")"
   ]
  },
  {
   "cell_type": "markdown",
   "metadata": {},
   "source": [
    "For exporting into a trial plan, the data of this optimized Sudoku-augmented design can now be converted back into a dataframe. This dataframe contains not only the genotype name and properties, but also their individual positions, xy-locations as well as information about their block. This dataframe can be further modified in julia before exporting it.\n",
    "\n",
    "In this example, all generic property columns are renamed to the the column names of the checkdata file and two additional columns are added to the dataframe."
   ]
  },
  {
   "cell_type": "code",
   "execution_count": null,
   "metadata": {},
   "outputs": [],
   "source": [
    "df = get_dataframe(lconf)\n",
    "\n",
    "for (i,name) in enumerate(names(checkdata)[2:end])\n",
    "    rename!(df,Symbol(\"property_\"*string(i)) => Symbol(name))\n",
    "end\n",
    "\n",
    "df[:, :year]       .= 2023\n",
    "df[:, :extra_info] .= \"myextrainfo\""
   ]
  },
  {
   "cell_type": "markdown",
   "metadata": {},
   "source": [
    "Finally, the trial plan is created by writing the dataframe into an Excel file."
   ]
  },
  {
   "cell_type": "code",
   "execution_count": null,
   "metadata": {},
   "outputs": [],
   "source": [
    "mkpath(\"output/\")\n",
    "XLSX.writetable(\"output/RCBD_final_design.xlsx\", collect(eachcol(df)), names(df),overwrite=true)"
   ]
  },
  {
   "cell_type": "code",
   "execution_count": null,
   "metadata": {},
   "outputs": [],
   "source": []
  }
 ],
 "metadata": {
  "@webio": {
   "lastCommId": null,
   "lastKernelId": null
  },
  "kernelspec": {
   "display_name": "Julia 1.4.0",
   "language": "julia",
   "name": "julia-1.4"
  },
  "language_info": {
   "file_extension": ".jl",
   "mimetype": "application/julia",
   "name": "julia",
   "version": "1.4.0"
  }
 },
 "nbformat": 4,
 "nbformat_minor": 4
}
