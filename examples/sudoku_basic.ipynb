{
 "cells": [
  {
   "cell_type": "markdown",
   "metadata": {},
   "source": [
    "# SudokuPlantDesign.jl - Basic Example\n",
    "\n",
    "This notebook serves as a basic usage guide to the module `SudokuPlantDesign.jl`. It is devided into the following general parts:\n",
    "1. Importing modules\n",
    "2. Generating an initial check distribution\n",
    "3. Defining the optimization parameters\n",
    "4. Performing the optimization\n",
    "\n",
    "Each part comes with code and examples."
   ]
  },
  {
   "cell_type": "markdown",
   "metadata": {},
   "source": [
    "### 1) Installing and Importing modules\n",
    "\n",
    "To utilize `SudokuPlantDesign` functions within the notebook (and also `PyPlot` functions, which come in handy later), use"
   ]
  },
  {
   "cell_type": "code",
   "execution_count": null,
   "metadata": {},
   "outputs": [],
   "source": [
    "using SudokuPlantDesign\n",
    "using PyPlot"
   ]
  },
  {
   "cell_type": "markdown",
   "metadata": {},
   "source": [
    "### 2) Generate initial (random) check distribution"
   ]
  },
  {
   "cell_type": "markdown",
   "metadata": {},
   "source": [
    "To start a new plant design, the first step is to generate a new configuration of checks, distributed over the available are. Start by generating such a new configuration `conf`. In this example, it consists of 2 horizontal and 5 vertical blocks of dimensions `10` x `2` respectively. In total, there are `4` different types of checks in the configuration.\n",
    "\n",
    "As an optional argument, the boundary conditions (present in the optimization algorithm later on) can be passed as an argument `bc`. Values are either `:periodic` or `open`. "
   ]
  },
  {
   "cell_type": "code",
   "execution_count": null,
   "metadata": {},
   "outputs": [],
   "source": [
    "conf = get_configuration(\n",
    "    [10,10], [2,2,2,2,2],  4\n",
    "    ;\n",
    "    bc = :open\n",
    ");"
   ]
  },
  {
   "cell_type": "markdown",
   "metadata": {},
   "source": [
    "To visualize the configuration `conf`, use `show_configuration`. If you are seeing a uniform color pattern, remember that initially all plots are assumed to be entries."
   ]
  },
  {
   "cell_type": "code",
   "execution_count": null,
   "metadata": {},
   "outputs": [],
   "source": [
    "show_configuration(conf)"
   ]
  },
  {
   "cell_type": "markdown",
   "metadata": {},
   "source": [
    "You can designate empty plots which will be ignored in the sudoku optimization (missing plots, etc). In this example, leave the plot `[1,3]` and `[1,4]` empty. Configuration is plotted again to show the update."
   ]
  },
  {
   "cell_type": "code",
   "execution_count": null,
   "metadata": {},
   "outputs": [],
   "source": [
    "empty_plots!(conf, 1:1,3:4)\n",
    "show_configuration(conf)"
   ]
  },
  {
   "cell_type": "markdown",
   "metadata": {},
   "source": [
    "For moving on to the actual optimization, the different checks are initialized randomly with one check per check type per block."
   ]
  },
  {
   "cell_type": "code",
   "execution_count": null,
   "metadata": {},
   "outputs": [],
   "source": [
    "initialize_checks_per_block!(conf)\n",
    "show_configuration(conf)"
   ]
  },
  {
   "cell_type": "markdown",
   "metadata": {},
   "source": [
    "At this point, saving the resulting configuration might be a good idea. This can be done by utilizing the `PyPlot` command `savefig` which saves the current figure as an image file."
   ]
  },
  {
   "cell_type": "code",
   "execution_count": null,
   "metadata": {
    "scrolled": false
   },
   "outputs": [],
   "source": [
    "show_configuration(conf)\n",
    "\n",
    "mkpath(\"output/\")\n",
    "savefig(\"output/initial_random_check_distribution.png\")"
   ]
  },
  {
   "cell_type": "markdown",
   "metadata": {},
   "source": [
    "### 3) Define optimization parameters\n",
    "\n",
    "In order to optimize the check distribution, one has to specify two aspects explicitly:\n",
    "\n",
    "- cost functions / what are good or bad check distributions?\n",
    "- updates / how do you generate a new check distribution from an old one?"
   ]
  },
  {
   "cell_type": "markdown",
   "metadata": {},
   "source": [
    "#### Cost functions\n",
    "\n",
    "The *cost function* defines a function that associates a value to every distribution of checks, i.e. it measures how well the checks are distributed. In `SudokuPlantDesign`, it is implemented as a julia function that takes the configuration `conf` as an input and returns a numeric value. Lower values represent lower costs and are therefore desirable. If you want to associated an interpretation to the actual cost value, you can think of it as *how far is the check distribution still away from being perfect*.\n",
    "\n",
    "In practice, the overall cost function can be built from small, already implemented pieces in e.g. the following way:"
   ]
  },
  {
   "cell_type": "code",
   "execution_count": null,
   "metadata": {},
   "outputs": [],
   "source": [
    "function K_indiv(conf :: C) :: Float64 where {C <: CheckConfiguration}\n",
    "    return  K_checks_per_type_per_block(conf, 1)*20+\n",
    "            K_neighbors_different_check_functional(conf, d->1/(d^3))*0.5 +\n",
    "            K_neighbors_same_check_functional(conf, d->1/(d^3))\n",
    "end"
   ]
  },
  {
   "cell_type": "markdown",
   "metadata": {},
   "source": [
    "Here, the following partial cost functions are used:\n",
    "- `K_checks_per_type_per_block` : Gives costs if there are checks which occur more than `1` time per check type and block. Optimizes to get an exact amount of checks per type per each block. Additionally, here it is weighted by a factor of `20`.\n",
    "- `K_neighbors_different_check_functional` : Gives costs when checks of different types are neighbors, i.e. it acts as a repulsive potential of different neighboring checks (e.g. check 1 and check 3) with the functional dependence $\\text{costs} \\sim 1/\\text{distance}^3$. Additionally, here it is weighted by a factor of `0.5`.\n",
    "- `K_neighbors_same_check_functional` : Gives costs when checks of the same check type are neighbors, i.e. it acts as a repulsive potential of neighboring checks of equal type (e.g. check 1 and check 1) with the functional dependence $\\text{costs} \\sim 1/\\text{distance}^3$. \n",
    "\n",
    "Summarizing, one could say that the cost function defines the *goal* of the optimization in terms of judging what is *good* and *bad*."
   ]
  },
  {
   "cell_type": "markdown",
   "metadata": {},
   "source": [
    "#### Updates.\n",
    "Select which updates you want to perform during optimization. `UpdateNewCheckLabel` takes a random check in the configuration and assigns a new check label to it, `UpdateSwapCheckCheck` swaps checks with other checks, and `UpdateSwapCheckEntry` swaps checks with entries."
   ]
  },
  {
   "cell_type": "code",
   "execution_count": null,
   "metadata": {},
   "outputs": [],
   "source": [
    "updates = [\n",
    "    UpdateNewCheckLabel(),\n",
    "    UpdateSwapCheckCheck(),\n",
    "    UpdateSwapCheckEntry()\n",
    "]"
   ]
  },
  {
   "cell_type": "markdown",
   "metadata": {},
   "source": [
    "### 4) Run sudoku optimization"
   ]
  },
  {
   "cell_type": "markdown",
   "metadata": {},
   "source": [
    "To run the optimization algorithm (with parameters defined above), execute the following cell which will run 100000 consecutive updates. The function `optimize_design!` needs the following parameters:\n",
    "- `conf` the configuration to optimize\n",
    "- `updates` the list of updates to used\n",
    "- `K_indiv` the cost function which defines the costs of a configuration\n",
    "- number of consecutive update steps to run\n",
    "\n",
    "the function returns and array containing the cost function values after each update step. This array can either be discarded or saved for later analysis."
   ]
  },
  {
   "cell_type": "code",
   "execution_count": null,
   "metadata": {},
   "outputs": [],
   "source": [
    "cost_values = optimize_design!(\n",
    "    conf,\n",
    "    updates,\n",
    "    K_indiv,\n",
    "    100000\n",
    ");"
   ]
  },
  {
   "cell_type": "markdown",
   "metadata": {},
   "source": [
    "To analyze the output of the Sudoku optimization, one has several options.\n",
    "\n",
    "\n",
    "First and foremost, one can simply look at the resulting configuration"
   ]
  },
  {
   "cell_type": "code",
   "execution_count": null,
   "metadata": {},
   "outputs": [],
   "source": [
    "show_configuration(conf)"
   ]
  },
  {
   "cell_type": "markdown",
   "metadata": {},
   "source": [
    "Second, one can also print numerical details of the resulting configuration"
   ]
  },
  {
   "cell_type": "code",
   "execution_count": null,
   "metadata": {},
   "outputs": [],
   "source": [
    "print_info(conf)"
   ]
  },
  {
   "cell_type": "markdown",
   "metadata": {},
   "source": [
    "Third, one can analyze the cost function values which were returned during the optimization. The absolute values of costs are not as important as the relative improvement during the optimization. Therefore, for plotting it is advised to subtract the minimal cost value and plot on a logarithmic scale. From this plot, one can infer if the optimization converged or if further updates are needed."
   ]
  },
  {
   "cell_type": "code",
   "execution_count": null,
   "metadata": {},
   "outputs": [],
   "source": [
    "# print cost reduction\n",
    "println(\"cost values have been reduced during the optimization:\\n\",cost_values[1], \" -> \", cost_values[end])\n",
    "\n",
    "# plot cost reduction (log scale)\n",
    "figure()\n",
    "plot(cost_values .- minimum(cost_values) .+1)\n",
    "yscale(\"log\")"
   ]
  },
  {
   "cell_type": "code",
   "execution_count": null,
   "metadata": {},
   "outputs": [],
   "source": []
  }
 ],
 "metadata": {
  "@webio": {
   "lastCommId": null,
   "lastKernelId": null
  },
  "kernelspec": {
   "display_name": "Julia 1.4.0",
   "language": "julia",
   "name": "julia-1.4"
  },
  "language_info": {
   "file_extension": ".jl",
   "mimetype": "application/julia",
   "name": "julia",
   "version": "1.4.0"
  }
 },
 "nbformat": 4,
 "nbformat_minor": 4
}
