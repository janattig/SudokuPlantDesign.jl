{
 "cells": [
  {
   "cell_type": "markdown",
   "metadata": {},
   "source": [
    "# SudokuPlantDesign.jl - Basic Example\n",
    "\n",
    "This notebook serves as a basic usage guide to the module `SudokuPlantDesign.jl`. It is devided into the following general parts:\n",
    "1. Importing modules\n",
    "2. Generating an initial check distribution\n",
    "3. Defining the optimization parameters\n",
    "4. Performing the optimization\n",
    "\n",
    "Each part comes with code and examples."
   ]
  },
  {
   "cell_type": "markdown",
   "metadata": {},
   "source": [
    "### 1) Installing and Importing modules\n",
    "\n",
    "If not done already, install the modules `SudokuPlantDesign` into the package installation"
   ]
  },
  {
   "cell_type": "code",
   "execution_count": null,
   "metadata": {},
   "outputs": [],
   "source": [
    "]add BlockArrays ProgressMeter PyPlot Statistics \"https://github.com/janattig/SudokuPlantDesign.jl\""
   ]
  },
  {
   "cell_type": "markdown",
   "metadata": {},
   "source": [
    "To utilize `SudokuPlantDesign` functions within the notebook (and also `PyPlot` functions, which come in handy later), use"
   ]
  },
  {
   "cell_type": "code",
   "execution_count": null,
   "metadata": {},
   "outputs": [],
   "source": [
    "using SudokuPlantDesign\n",
    "using PyPlot"
   ]
  },
  {
   "cell_type": "markdown",
   "metadata": {},
   "source": [
    "### 2) Generate initial (random) check distribution"
   ]
  },
  {
   "cell_type": "markdown",
   "metadata": {},
   "source": [
    "To start a new plant design, the first step is to generate a new configuration of checks, distributed over the available are. Start by generating such a new configuration `conf`. In this example, it consists of 2 horizontal and 5 vertical blocks of dimensions `10` x `2` respectively. In total, there are `4` different types of checks in the configuration.\n",
    "\n",
    "As an optional argument, the boundary conditions (present in the optimization algorithm later on) can be passed as an argument `bc`. Values are either `:periodic` or `open`. "
   ]
  },
  {
   "cell_type": "code",
   "execution_count": null,
   "metadata": {},
   "outputs": [],
   "source": [
    "conf = get_configuration(\n",
    "    [10,10], [2,2,2,2,2],  4\n",
    "    ;\n",
    "    bc = :open\n",
    ");"
   ]
  },
  {
   "cell_type": "markdown",
   "metadata": {},
   "source": [
    "To visualize the configuration `conf`, use `show_configuration`. If you are seeing a uniform color pattern, remember that initially all plots are assumed to be entries."
   ]
  },
  {
   "cell_type": "code",
   "execution_count": null,
   "metadata": {},
   "outputs": [],
   "source": [
    "show_configuration(conf)"
   ]
  },
  {
   "cell_type": "markdown",
   "metadata": {},
   "source": [
    "You can designate empty plots which will be ignored in the sudoku optimization (missing plots, etc). In this example, leave the plot `[1,3]` and `[1,4]` empty. Configuration is plotted again to show the update."
   ]
  },
  {
   "cell_type": "code",
   "execution_count": null,
   "metadata": {},
   "outputs": [],
   "source": [
    "empty_plots!(conf, 1:1,3:4)\n",
    "show_configuration(conf)"
   ]
  },
  {
   "cell_type": "markdown",
   "metadata": {},
   "source": [
    "For moving on to the actual optimization, the different checks are initialized randomly with one check per check type per block."
   ]
  },
  {
   "cell_type": "code",
   "execution_count": null,
   "metadata": {},
   "outputs": [],
   "source": [
    "initialize_checks_per_block!(conf)\n",
    "show_configuration(conf)"
   ]
  },
  {
   "cell_type": "markdown",
   "metadata": {},
   "source": [
    "At this point, saving the resulting configuration might be a good idea. This can be done by utilizing the `PyPlot` command `savefig` which saves the current figure as an image file."
   ]
  },
  {
   "cell_type": "code",
   "execution_count": null,
   "metadata": {
    "scrolled": false
   },
   "outputs": [],
   "source": [
    "show_configuration(conf)\n",
    "\n",
    "mkpath(\"output/\")\n",
    "savefig(\"output/initial_random_check_distribution.png\")"
   ]
  },
  {
   "cell_type": "markdown",
   "metadata": {},
   "source": [
    "### 3) Define optimization parameters\n",
    "\n",
    "In order to optimize the check distribution, one has to specify two aspects explicitly:\n",
    "\n",
    "- cost functions / what are good or bad check distributions?\n",
    "- updates / how do you generate a new check distribution from an old one?"
   ]
  },
  {
   "cell_type": "markdown",
   "metadata": {},
   "source": [
    "#### Cost functions\n",
    "\n",
    "The *cost function* defines a function that associates a value to every distribution of checks, i.e. it measures how well the checks are distributed. In `SudokuPlantDesign`, it is implemented as a julia function that takes the configuration `conf` as an input and returns a numeric value. Lower values represent lower costs and are therefore desirable. If you want to associated an interpretation to the actual cost value, you can think of it as *how far is the check distribution still away from being perfect*.\n",
    "\n",
    "In practice, the overall cost function can be built from small, already implemented pieces in e.g. the following way:"
   ]
  },
  {
   "cell_type": "code",
   "execution_count": null,
   "metadata": {},
   "outputs": [],
   "source": [
    "function K_indiv(conf :: C) :: Float64 where {C <: CheckConfiguration}\n",
    "    return  K_checks_per_type_per_block(conf, 1)*20+\n",
    "            K_neighbors_different_check_functional(conf, d->1/(d^3))*0.5 +\n",
    "            K_neighbors_same_check_functional(conf, d->1/(d^3))\n",
    "end"
   ]
  },
  {
   "cell_type": "markdown",
   "metadata": {},
   "source": [
    "Here, the following partial cost functions are used:\n",
    "- `K_checks_per_type_per_block` : Gives costs if there are checks which occur more than `1` time per check type and block. Optimizes to get an exact amount of checks per type per each block. Additionally, here it is weighted by a factor of `20`.\n",
    "- `K_neighbors_different_check_functional` : Gives costs when checks of different types are neighbors, i.e. it acts as a repulsive potential of different neighboring checks (e.g. check 1 and check 3) with the functional dependence $\\text{costs} \\sim 1/\\text{distance}^3$. Additionally, here it is weighted by a factor of `0.5`.\n",
    "- `K_neighbors_same_check_functional` : Gives costs when checks of the same check type are neighbors, i.e. it acts as a repulsive potential of neighboring checks of equal type (e.g. check 1 and check 1) with the functional dependence $\\text{costs} \\sim 1/\\text{distance}^3$. \n",
    "\n",
    "Summarizing, one could say that the cost function defines the *goal* of the optimization in terms of judging what is *good* and *bad*."
   ]
  },
  {
   "cell_type": "markdown",
   "metadata": {},
   "source": [
    "### Define update moves.\n",
    "Select which update moves you want to occur. `UpdateNewCheckLabel` puts new checks into the design, `UpdateSwapCheckCheck` swaps checks with other checks, and `UpdateSwapCheckEntry` swaps checks with entries. Run `100000` updates."
   ]
  },
  {
   "cell_type": "code",
   "execution_count": null,
   "metadata": {},
   "outputs": [],
   "source": [
    "updates = [\n",
    "    UpdateNewCheckLabel(),\n",
    "    UpdateSwapCheckCheck(),\n",
    "    UpdateSwapCheckEntry()\n",
    "]"
   ]
  },
  {
   "cell_type": "markdown",
   "metadata": {},
   "source": [
    "## 4) Run sudoku optimization"
   ]
  },
  {
   "cell_type": "markdown",
   "metadata": {},
   "source": []
  },
  {
   "cell_type": "code",
   "execution_count": null,
   "metadata": {},
   "outputs": [],
   "source": [
    "kosten = optimize_design!(\n",
    "    C,\n",
    "    updates,\n",
    "    K_indiv,\n",
    "    100000,\n",
    "    beta\n",
    ")"
   ]
  },
  {
   "cell_type": "code",
   "execution_count": null,
   "metadata": {},
   "outputs": [],
   "source": [
    "kosten .-= minimum(kosten)\n",
    "kosten .+= 1\n",
    "\n",
    "#print things\n",
    "println(\"Kosten: \",K_indiv(C)+kosten[1], \" -> \", K_indiv(C)+kosten[end])\n",
    "println(\"perc_checks: \",C.num_checks_total / (C.num_plots_total - C.num_checks_total))\n",
    "println(\"entries: \",C.num_plots_total - C.num_checks_total)\n",
    "println(\"checks:    \",C.num_checks_total, \"  (\", round(100*C.num_checks_total / C.num_plots_total, digits=2), \"%)\")\n",
    "for i in 1:C.N\n",
    "    println(\"check ($(i)): \",C.num_checks[i], \"  (\", round(100*C.num_checks[i] / C.num_checks_total, digits=2), \"%)\")    \n",
    "end\n",
    "\n",
    "show_configuration(C,cmap=cmap_sudoku,zoom=0.2)\n",
    "\n",
    "\n",
    "figure()\n",
    "plot(kosten)\n",
    "yscale(\"log\")\n",
    "\n",
    "\n",
    "#save without check labels\n",
    "show_configuration(C,check_labels=false,cmap=cmap_sudoku)\n",
    "#savefig(\"final_sudoku_design_\"*trialname*\".png\")\n",
    "savefig(\"final_sudoku_design_\"*trialname*\".pdf\")\n",
    "\n",
    "## 6) Plot with Plant_Codes and write data to xlsx"
   ]
  },
  {
   "cell_type": "markdown",
   "metadata": {},
   "source": [
    "## 5) Save field plan and design data"
   ]
  },
  {
   "cell_type": "code",
   "execution_count": null,
   "metadata": {},
   "outputs": [],
   "source": [
    "templatename=\"Sample_data_Sudoku-augmented.xlsx\"\n",
    "\n",
    "#read in check data\n",
    "checkdata = DataFrame(XLSX.readtable(templatename, \"checks\")...)\n",
    "checknames=names(checkdata)\n",
    "for i in 1:length(checknames)\n",
    "    checkdata[!,Symbol(checknames[i])]=string.(collect(checkdata[!,Symbol(checknames[i])]))\n",
    "end\n",
    "if nrow(checkdata)!= numberofchecktypes\n",
    "    println(\"Number of checks in csv not matching pre-defined checks!\")\n",
    "end\n",
    "\n",
    "\n",
    "#replace missing with NA\n",
    "for col in eachcol(checkdata)\n",
    "    replace!(col,missing => \"NA\")\n",
    "end\n",
    "\n",
    "\n",
    "#depending on reading in additionally entry file\n",
    "if  designtype==\"checks\"\n",
    "    print(\"Only checks were successfully read in, as specified\")\n",
    "    \n",
    "elseif designtype==\"all\"\n",
    "    #read in entry data\n",
    "    entrydata = DataFrame(XLSX.readtable(templatename, \"entries\")...)\n",
    "    genonames=names(entrydata)\n",
    "    for i in 1:length(checknames)\n",
    "        entrydata[!,Symbol(genonames[i])]=string.(collect(entrydata[!,Symbol(genonames[i])]))\n",
    "    end\n",
    "    #replace missing with NA\n",
    "    for col in eachcol(entrydata)\n",
    "        replace!(col,missing => \"NA\")\n",
    "    end\n",
    "    \n",
    "    #catch if not matching number of entries\n",
    "    if nrow(entrydata)!= numberofentries\n",
    "        println(\"Number of entries in xlsx datafile not matching pre-defined number of entries!\")\n",
    "    end\n",
    "    \n",
    "    \n",
    "    #shuffle entrydata?\n",
    "    if entries_randomized==\"yes\"\n",
    "        entrydata = entrydata[shuffle(1:nrow(entrydata)), :]\n",
    "        entrydata[!,:entry]=string.(collect(entrydata[!,:entry]))\n",
    "        print(\"Entries are randomized \")\n",
    "        #print(entrydata)\n",
    "\n",
    "    elseif entries_randomized==\"no\"\n",
    "        print(\"Entries are not randomized\")\n",
    "        #print(entrydata)\n",
    "\n",
    "    else\n",
    "        print(\"Specify if entries are randomized or sorted with entries_randomized yes/no!\")\n",
    "\n",
    "    print(\"entries and checks are successfully read in\")\n",
    "    end\n",
    "    \n",
    "else\n",
    "    print(\"Please specify designtype (checks/all)!\")\n",
    "        \n",
    "end\n",
    "\n",
    "#get the Plant label\n",
    "#POS = get_POS_block_x(C,posempty=true) #if over 2 big blocks in splitted by x\n",
    "POS = get_POS_coordinatewise(C,\"x\",\"left\",\"lower\",\"snake\") #with robot\n",
    "\n",
    "if designtype==\"checks\"\n",
    "    L = get_Plant_Code_Label_allinfo_checksonly(C,POS,checkdata)\n",
    "else\n",
    "    L = get_Plant_Code_Label_allinfo(C,POS,entrydata,checkdata)\n",
    "end   \n",
    "\n",
    "show_pos_and_labels_allinfo(C, POS, L, zoom=0.9,fontsize=7,alpha=0.5,cmap=cmap_sudoku)\n",
    "savefig(\"final_sudoku_design_labels_\"*trialname*\".pdf\")"
   ]
  },
  {
   "cell_type": "code",
   "execution_count": null,
   "metadata": {},
   "outputs": [],
   "source": [
    "#write file to xlsx\n",
    "write_to_xlsx_allinfo(C.configuration,trialname,POS,L)\n",
    "\n",
    "\n",
    "#load_configuration(C, \"configuration_\"*trialname*\".txt\")\n",
    "save_configuration(C, \"configuration_\"*trialname*\".txt\")\n"
   ]
  },
  {
   "cell_type": "code",
   "execution_count": null,
   "metadata": {},
   "outputs": [],
   "source": []
  }
 ],
 "metadata": {
  "@webio": {
   "lastCommId": null,
   "lastKernelId": null
  },
  "kernelspec": {
   "display_name": "Julia 1.4.0",
   "language": "julia",
   "name": "julia-1.4"
  },
  "language_info": {
   "file_extension": ".jl",
   "mimetype": "application/julia",
   "name": "julia",
   "version": "1.4.0"
  }
 },
 "nbformat": 4,
 "nbformat_minor": 4
}
