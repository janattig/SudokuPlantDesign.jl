{
 "cells": [
  {
   "cell_type": "markdown",
   "metadata": {},
   "source": [
    "## 1) Import modules"
   ]
  },
  {
   "cell_type": "code",
   "execution_count": null,
   "metadata": {},
   "outputs": [],
   "source": [
    "using SudokuPlantDesign\n",
    "using BenchmarkTools\n",
    "using DataFrames\n",
    "using Random\n",
    "using XLSX\n",
    "using PyCall\n",
    "using ColorTypes\n",
    "@pyimport matplotlib.colors as matcolors"
   ]
  },
  {
   "cell_type": "markdown",
   "metadata": {},
   "source": [
    "## 2) Define Trial sudoku data and define configuration"
   ]
  },
  {
   "cell_type": "code",
   "execution_count": null,
   "metadata": {},
   "outputs": [],
   "source": [
    "#define trialname\n",
    "trialname=\"Testtrial_2021\"\n",
    "#define number of genotypes which are completely replicated\n",
    "numberofchecktypes=15\n",
    "#define name of list with entries and checks\n",
    "templatename=\"Sample_data_Sudoku-RCBD.xlsx\"\n",
    "#define color map\n",
    "cmap_sudoku=ColorMap(\"Sudoku\",[RGB(0.5,0.5,0.5),RGB(1, 0.933, 0.058),\n",
    "        RGB(0.956, 0.164, 0.866),\n",
    "        RGB(0.113, 0.666, 0.239),\n",
    "        RGB(0.560, 0.368, 0.831),\n",
    "        RGB(0.058, 0.733, 1),\n",
    "        RGB(1,0,0),])\n",
    "# define trial layout (x direction, y direction)\n",
    "# we create here a design with 45 plots in x-direction and 3 plots in y-direction.\n",
    "# one block contains 15 plots and goes along 3 y-coordinate points and 5 x-coordinate points.\n",
    "C = get_configuration([5,5,5], [3], numberofchecktypes)\n",
    "#display random distribution of checks within blocks (=classical augmented design)\n",
    "initialize_checks_per_block!(C)\n",
    "#specify empty fields\n",
    "#empty_plots!(C, 11:20,1:6)\n",
    "show_configuration(C, zoom=0.8,cmap=cmap_sudoku)\n",
    "savefig(\"initial_design_random_\"*trialname*\".pdf\")"
   ]
  },
  {
   "cell_type": "markdown",
   "metadata": {},
   "source": [
    "## 3) Define sudoku functions"
   ]
  },
  {
   "cell_type": "code",
   "execution_count": null,
   "metadata": {},
   "outputs": [],
   "source": [
    "function mc_update!(C, T, updatemoves, K)\n",
    "    K_alt = K(C)\n",
    "    move  = rand(updatemoves)\n",
    "    new_move!(move, C)\n",
    "    apply_update!(C, move)\n",
    "    K_neu = K(C)\n",
    "\n",
    "    alpha = exp(-(K_neu - K_alt)/T)\n",
    "    if rand() < alpha\n",
    "        # akzeptieren\n",
    "    else\n",
    "        # nicht akzeptieren\n",
    "        reverse_update!(C, move)\n",
    "    end\n",
    "    return nothing\n",
    "end\n",
    "\n",
    "beta(t) = 1*exp(-7*t) * (1 + 0.2*cos(t*30*pi))\n",
    "tvals = 0:0.001:1\n",
    "plot(tvals, beta.(tvals))\n",
    "xlabel(\"rel. update\")\n",
    "ylabel(\"T\")\n",
    "\n",
    "## 4) Specialize update moves and costs\n",
    "\n",
    "updates = [\n",
    "    #UpdateMoveNewCheckLabel(),\n",
    "    #UpdateMoveInsertCheck(),\n",
    "    #UpdateMoveRemoveCheck(),\n",
    "    UpdateMoveSwapCheckCheck(),\n",
    "    #UpdateMoveSwapCheckGenotype()\n",
    "]\n",
    "\n",
    "function K_indiv(conf :: C) :: Float64 where {C <: CheckConfiguration}\n",
    "    return  K_num_checks_equal_per_type(conf) +\n",
    "            K_checks_per_type_per_block(conf, 1)*20+\n",
    "            #K_neighbors_different_check_dmax_const(conf, 1, 0.5) +\n",
    "            K_neighbors_different_check_functional(conf, d->0.5/(d^3)) +\n",
    "            K_neighbors_same_check_functional(conf, d->1/(d^3))*12\n",
    "end"
   ]
  },
  {
   "cell_type": "markdown",
   "metadata": {},
   "source": [
    "## 4) Run sudoku"
   ]
  },
  {
   "cell_type": "code",
   "execution_count": null,
   "metadata": {},
   "outputs": [],
   "source": [
    "kosten = zeros(100000)\n",
    "\n",
    "#specify how many checks: (x*y)-no.genotypes - missing plots\n",
    "\n",
    "#initialize_checks!(C, numberofchecks)\n",
    "\n",
    "#number of genotypes\n",
    "#initialize_genotypes!(C, numberofgenotypes)\n",
    "@showprogress \"Optimizing Design ... \" for i in 1:length(kosten)\n",
    "    mc_update!(C, beta(i/length(kosten))*0.5, updates, K_indiv)\n",
    "    kosten[i] = K_indiv(C)\n",
    "end\n",
    "kosten .-= minimum(kosten)\n",
    "kosten .+= 1\n",
    "\n",
    "#print things\n",
    "println(\"Kosten: \",K_indiv(C))\n",
    "println(\"perc_checks: \",C.num_checks_total / (C.num_plots_total - C.num_checks_total))\n",
    "println(\"genotypes: \",C.num_plots_total - C.num_checks_total)\n",
    "println(\"checks:    \",C.num_checks_total, \"  (\", round(100*C.num_checks_total / C.num_plots_total, digits=2), \"%)\")\n",
    "for i in 1:C.N\n",
    "    println(\"check ($(i)): \",C.num_checks[i], \"  (\", round(100*C.num_checks[i] / C.num_checks_total, digits=2), \"%)\")    \n",
    "end\n",
    "\n",
    "show_configuration(C,cmap=cmap_sudoku,zoom=0.8)\n",
    "\n",
    "\n",
    "figure()\n",
    "plot(kosten)\n",
    "yscale(\"log\")\n",
    "\n",
    "\n",
    "#save without check labels\n",
    "show_configuration(C,check_labels=false,cmap=cmap_sudoku)\n",
    "mkpath(\"./output\")\n",
    "savefig(\"output/final_sudoku_design_\"*trialname*\".pdf\")\n"
   ]
  },
  {
   "cell_type": "markdown",
   "metadata": {},
   "source": [
    "## 5) Save field plan and design data"
   ]
  },
  {
   "cell_type": "code",
   "execution_count": null,
   "metadata": {},
   "outputs": [],
   "source": [
    "\n",
    "#optional: load existing configuration\n",
    "#load_configuration(C, \"configuration_\"*trialname*\".txt\")\n",
    "\n",
    "#read in check data\n",
    "checkdata = DataFrame(XLSX.readtable(templatename, \"checks\")...)\n",
    "checknames=names(checkdata)\n",
    "for i in 1:length(checknames)\n",
    "    checkdata[!,Symbol(checknames[i])]=string.(collect(checkdata[!,Symbol(checknames[i])]))\n",
    "end\n",
    "\n",
    "\n",
    "#replace missing with NA\n",
    "for col in eachcol(checkdata)\n",
    "    replace!(col,missing => \"NA\")\n",
    "end\n",
    "\n",
    "\n",
    "if nrow(checkdata)!= numberofchecktypes\n",
    "    println(\"Number of checks in csv not matching pre-defined checks!\")\n",
    "end\n",
    "\n",
    "\n",
    "#get the Plant label\n",
    "#POS = get_POS_block_x(C,posempty=true) #if over 2 big blocks in splitted by x\n",
    "POS = get_POS_coordinatewise(C,\"x\",\"left\",\"lower\",\"snake\") #with robot\n",
    "L = get_Plant_Code_Label_allinfo_checksonly(C,POS,checkdata)\n",
    "\n",
    "show_pos_and_labels_allinfo(C, POS, L, zoom=0.9,fontsize=7,alpha=0.5,cmap=cmap_sudoku)\n",
    "savefig(\"./output/final_sudoku_design_labels_\"*trialname*\".pdf\")"
   ]
  },
  {
   "cell_type": "code",
   "execution_count": null,
   "metadata": {},
   "outputs": [],
   "source": [
    "#write file to xlsx\n",
    "write_to_xlsx_allinfo(C.configuration,trialname,POS,L)\n",
    "\n",
    "#save configuration\n",
    "save_configuration(C, \"./output/configuration_\"*trialname*\".txt\")\n"
   ]
  },
  {
   "cell_type": "code",
   "execution_count": null,
   "metadata": {},
   "outputs": [],
   "source": []
  }
 ],
 "metadata": {
  "@webio": {
   "lastCommId": null,
   "lastKernelId": null
  },
  "kernelspec": {
   "display_name": "Julia 1.4.0",
   "language": "julia",
   "name": "julia-1.4"
  },
  "language_info": {
   "file_extension": ".jl",
   "mimetype": "application/julia",
   "name": "julia",
   "version": "1.4.0"
  }
 },
 "nbformat": 4,
 "nbformat_minor": 4
}
