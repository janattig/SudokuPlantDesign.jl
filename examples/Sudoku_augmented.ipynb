{
 "cells": [
  {
   "cell_type": "markdown",
   "metadata": {},
   "source": [
    "## 1) Import modules"
   ]
  },
  {
   "cell_type": "code",
   "execution_count": 2,
   "metadata": {},
   "outputs": [
    {
     "name": "stderr",
     "output_type": "stream",
     "text": [
      "┌ Info: Precompiling SudokuPlantDesign [89b4fab0-2f28-41bc-964f-884dedc0e1f4]\n",
      "└ @ Base loading.jl:1260\n",
      "┌ Warning: `@pyimport foo` is deprecated in favor of `foo = pyimport(\"foo\")`.\n",
      "│   caller = _pywrap_pyimport(::PyObject) at PyCall.jl:413\n",
      "└ @ PyCall C:\\Users\\Jan\\.julia\\packages\\PyCall\\7a7w0\\src\\PyCall.jl:413\n"
     ]
    }
   ],
   "source": [
    "using SudokuPlantDesign\n",
    "using BenchmarkTools\n",
    "using BlockArrays\n",
    "using DataFrames\n",
    "using Random\n",
    "using XLSX\n",
    "using PyPlot\n",
    "using ColorTypes\n",
    "using PyCall\n",
    "@pyimport matplotlib.colors as matcolors"
   ]
  },
  {
   "cell_type": "markdown",
   "metadata": {},
   "source": [
    "## 2) Define sudoku trial layout and generate an initial random check distribution"
   ]
  },
  {
   "cell_type": "markdown",
   "metadata": {},
   "source": [
    "Generate a new configuration `conf` which is divided into 2 horizontal and 5 vertical blocks of dimensions `10` x `2` respectively. In total, there are `4` different checks in the configuration.\n",
    "\n",
    "As an optional argument, the boundary conditions (present in the optimization algorithm later on) can be passed as an argument `bc`. Values are either `:periodic` or `open`. "
   ]
  },
  {
   "cell_type": "code",
   "execution_count": 3,
   "metadata": {},
   "outputs": [],
   "source": [
    "conf = get_configuration(\n",
    "    [10,10],  [2,2,2,2,2],    4\n",
    "    ;\n",
    "    bc = :open\n",
    ");"
   ]
  },
  {
   "cell_type": "markdown",
   "metadata": {},
   "source": [
    "Show the configuration `conf` utilizing a zoom factor of `0.2`. Initially, all plots are assumed to be genotypes."
   ]
  },
  {
   "cell_type": "code",
   "execution_count": 4,
   "metadata": {},
   "outputs": [
    {
     "data": {
      "image/png": "[encoded data removed]",
      "text/plain": [
       "Figure(PyObject <Figure size 400x200 with 1 Axes>)"
      ]
     },
     "metadata": {},
     "output_type": "display_data"
    }
   ],
   "source": [
    "show_configuration(conf, zoom=0.2)"
   ]
  },
  {
   "cell_type": "markdown",
   "metadata": {},
   "source": [
    "You can designate empty plots which will be ignored in the sudoku optimization (missing plots, etc). In this example, leave the plot `[1,3]` and `[1,4]` empty. Configuration is plotted again to show the update."
   ]
  },
  {
   "cell_type": "code",
   "execution_count": 5,
   "metadata": {},
   "outputs": [
    {
     "data": {
      "image/png": "[encoded data removed]",
      "text/plain": [
       "Figure(PyObject <Figure size 400x200 with 1 Axes>)"
      ]
     },
     "metadata": {},
     "output_type": "display_data"
    }
   ],
   "source": [
    "empty_plots!(conf, 1:1,3:4)\n",
    "show_configuration(conf, zoom=0.2)"
   ]
  },
  {
   "cell_type": "markdown",
   "metadata": {},
   "source": [
    "Checks can be initialized randomly with one check per check type per block."
   ]
  },
  {
   "cell_type": "code",
   "execution_count": 6,
   "metadata": {},
   "outputs": [
    {
     "data": {
      "image/png": "[encoded data removed]",
      "text/plain": [
       "Figure(PyObject <Figure size 400x200 with 1 Axes>)"
      ]
     },
     "metadata": {},
     "output_type": "display_data"
    }
   ],
   "source": [
    "initialize_checks_per_block!(conf)\n",
    "show_configuration(conf, zoom=0.2)"
   ]
  },
  {
   "cell_type": "markdown",
   "metadata": {},
   "source": [
    "For saving, you can utilize the `PyPlot` command `savefig` which saves the current figure as an image file."
   ]
  },
  {
   "cell_type": "code",
   "execution_count": 7,
   "metadata": {},
   "outputs": [],
   "source": [
    "savefig(\"output/initial_random_check_distribution.pdf\")"
   ]
  },
  {
   "cell_type": "markdown",
   "metadata": {},
   "source": [
    "## 3) Define sudoku functions"
   ]
  },
  {
   "cell_type": "markdown",
   "metadata": {},
   "source": [
    "### Define inverse temperature function\n",
    "\n",
    "..."
   ]
  },
  {
   "cell_type": "code",
   "execution_count": null,
   "metadata": {},
   "outputs": [],
   "source": [
    "beta(t) = 1*exp(-7*t) * (1 + 0.2*cos(t*30*pi))"
   ]
  },
  {
   "cell_type": "code",
   "execution_count": null,
   "metadata": {},
   "outputs": [],
   "source": [
    "plot(0:0.001:1, beta.(0:0.001:1))\n",
    "xlabel(\"rel. update\"); ylabel(\"T\")"
   ]
  },
  {
   "cell_type": "markdown",
   "metadata": {},
   "source": [
    "### Select individual cost function for optimization\n",
    "You can define and give certain weights to the individual cost functions:\n",
    "- `K_num_checks_equal_per_type` : Optimizes to get an equal amount of checks per type in the design.\n",
    "- `K_checks_per_type_per_block` : Optimizes to get an equal amount of checks per type per each block, give it a weight of `20`.\n",
    "- `K_neighbors_different_check_functional` : Optimizes the repulsive potential of different neighboring checks (e.g. check 1 and check 3)\n",
    "- `K_neighbors_same_check_functional` : Optimizes the repulsive potential of same neighboring checks (e.g. check 1 and check 1)"
   ]
  },
  {
   "cell_type": "code",
   "execution_count": null,
   "metadata": {},
   "outputs": [],
   "source": [
    "function K_indiv(conf :: C) :: Float64 where {C <: CheckConfiguration}\n",
    "    return  K_num_checks_equal_per_type(conf) +\n",
    "            K_checks_per_type_per_block(conf, 1)*20+\n",
    "            K_neighbors_different_check_functional(conf, d->0.5/(d^3)) +\n",
    "            K_neighbors_same_check_functional(conf, d->1/(d^3))\n",
    "end"
   ]
  },
  {
   "cell_type": "markdown",
   "metadata": {},
   "source": [
    "### Define update moves.\n",
    "Select which update moves you want to occur. `UpdateNewCheckLabel` puts new checks into the design, `UpdateSwapCheckCheck` swaps checks with other checks, and `UpdateSwapCheckGenotype` swaps checks with genotypes. Run `100000` updates."
   ]
  },
  {
   "cell_type": "code",
   "execution_count": null,
   "metadata": {},
   "outputs": [],
   "source": [
    "kosten = optimize_design!(\n",
    "    C,\n",
    "    [UpdateNewCheckLabel(),UpdateSwapCheckCheck(),UpdateSwapCheckGenotype()],\n",
    "    K_indiv,\n",
    "    100000,\n",
    "    beta\n",
    ")"
   ]
  },
  {
   "cell_type": "markdown",
   "metadata": {},
   "source": [
    "## 4) Run sudoku optimization"
   ]
  },
  {
   "cell_type": "markdown",
   "metadata": {},
   "source": []
  },
  {
   "cell_type": "code",
   "execution_count": null,
   "metadata": {},
   "outputs": [],
   "source": [
    "#initialize_genotypes!(C, numberofgenotypes)\n",
    "@showprogress \"Optimizing Design ... \" for i in 1:length(kosten)\n",
    "    mc_update!(C, beta(i/length(kosten))*0.5, updates, K_indiv)\n",
    "    kosten[i] = K_indiv(C)\n",
    "end"
   ]
  },
  {
   "cell_type": "code",
   "execution_count": null,
   "metadata": {},
   "outputs": [],
   "source": [
    "kosten .-= minimum(kosten)\n",
    "kosten .+= 1\n",
    "\n",
    "#print things\n",
    "println(\"Kosten: \",K_indiv(C)+kosten[1], \" -> \", K_indiv(C)+kosten[end])\n",
    "println(\"perc_checks: \",C.num_checks_total / (C.num_plots_total - C.num_checks_total))\n",
    "println(\"genotypes: \",C.num_plots_total - C.num_checks_total)\n",
    "println(\"checks:    \",C.num_checks_total, \"  (\", round(100*C.num_checks_total / C.num_plots_total, digits=2), \"%)\")\n",
    "for i in 1:C.N\n",
    "    println(\"check ($(i)): \",C.num_checks[i], \"  (\", round(100*C.num_checks[i] / C.num_checks_total, digits=2), \"%)\")    \n",
    "end\n",
    "\n",
    "show_configuration(C,cmap=cmap_sudoku,zoom=0.2)\n",
    "\n",
    "\n",
    "figure()\n",
    "plot(kosten)\n",
    "yscale(\"log\")\n",
    "\n",
    "\n",
    "#save without check labels\n",
    "show_configuration(C,check_labels=false,cmap=cmap_sudoku)\n",
    "#savefig(\"final_sudoku_design_\"*trialname*\".png\")\n",
    "savefig(\"final_sudoku_design_\"*trialname*\".pdf\")\n",
    "\n",
    "## 6) Plot with Plant_Codes and write data to xlsx"
   ]
  },
  {
   "cell_type": "markdown",
   "metadata": {},
   "source": [
    "## 5) Save field plan and design data"
   ]
  },
  {
   "cell_type": "code",
   "execution_count": null,
   "metadata": {},
   "outputs": [],
   "source": [
    "templatename=\"Sample_data_Sudoku-augmented.xlsx\"\n",
    "\n",
    "#read in check data\n",
    "checkdata = DataFrame(XLSX.readtable(templatename, \"checks\")...)\n",
    "checknames=names(checkdata)\n",
    "for i in 1:length(checknames)\n",
    "    checkdata[!,Symbol(checknames[i])]=string.(collect(checkdata[!,Symbol(checknames[i])]))\n",
    "end\n",
    "if nrow(checkdata)!= numberofchecktypes\n",
    "    println(\"Number of checks in csv not matching pre-defined checks!\")\n",
    "end\n",
    "\n",
    "\n",
    "#replace missing with NA\n",
    "for col in eachcol(checkdata)\n",
    "    replace!(col,missing => \"NA\")\n",
    "end\n",
    "\n",
    "\n",
    "#depending on reading in additionally genotype file\n",
    "if  designtype==\"checks\"\n",
    "    print(\"Only checks were successfully read in, as specified\")\n",
    "    \n",
    "elseif designtype==\"all\"\n",
    "    #read in genotype data\n",
    "    genotypedata = DataFrame(XLSX.readtable(templatename, \"entries\")...)\n",
    "    genonames=names(genotypedata)\n",
    "    for i in 1:length(checknames)\n",
    "        genotypedata[!,Symbol(genonames[i])]=string.(collect(genotypedata[!,Symbol(genonames[i])]))\n",
    "    end\n",
    "    #replace missing with NA\n",
    "    for col in eachcol(genotypedata)\n",
    "        replace!(col,missing => \"NA\")\n",
    "    end\n",
    "    \n",
    "    #catch if not matching number of genotypes\n",
    "    if nrow(genotypedata)!= numberofgenotypes\n",
    "        println(\"Number of genotypes in xlsx datafile not matching pre-defined number of genotypes!\")\n",
    "    end\n",
    "    \n",
    "    \n",
    "    #shuffle genotypedata?\n",
    "    if entries_randomized==\"yes\"\n",
    "        genotypedata = genotypedata[shuffle(1:nrow(genotypedata)), :]\n",
    "        genotypedata[!,:genotype]=string.(collect(genotypedata[!,:genotype]))\n",
    "        print(\"Entries are randomized \")\n",
    "        #print(genotypedata)\n",
    "\n",
    "    elseif entries_randomized==\"no\"\n",
    "        print(\"Entries are not randomized\")\n",
    "        #print(genotypedata)\n",
    "\n",
    "    else\n",
    "        print(\"Specify if genotypes are randomized or sorted with entries_randomized yes/no!\")\n",
    "\n",
    "    print(\"genotypes and checks are successfully read in\")\n",
    "    end\n",
    "    \n",
    "else\n",
    "    print(\"Please specify designtype (checks/all)!\")\n",
    "        \n",
    "end\n",
    "\n",
    "#get the Plant label\n",
    "#POS = get_POS_block_x(C,posempty=true) #if over 2 big blocks in splitted by x\n",
    "POS = get_POS_coordinatewise(C,\"x\",\"left\",\"lower\",\"snake\") #with robot\n",
    "\n",
    "if designtype==\"checks\"\n",
    "    L = get_Plant_Code_Label_allinfo_checksonly(C,POS,checkdata)\n",
    "else\n",
    "    L = get_Plant_Code_Label_allinfo(C,POS,genotypedata,checkdata)\n",
    "end   \n",
    "\n",
    "show_pos_and_labels_allinfo(C, POS, L, zoom=0.9,fontsize=7,alpha=0.5,cmap=cmap_sudoku)\n",
    "savefig(\"final_sudoku_design_labels_\"*trialname*\".pdf\")"
   ]
  },
  {
   "cell_type": "code",
   "execution_count": null,
   "metadata": {},
   "outputs": [],
   "source": [
    "#write file to xlsx\n",
    "write_to_xlsx_allinfo(C.configuration,trialname,POS,L)\n",
    "\n",
    "\n",
    "#load_configuration(C, \"configuration_\"*trialname*\".txt\")\n",
    "save_configuration(C, \"configuration_\"*trialname*\".txt\")\n"
   ]
  },
  {
   "cell_type": "code",
   "execution_count": null,
   "metadata": {},
   "outputs": [],
   "source": []
  }
 ],
 "metadata": {
  "@webio": {
   "lastCommId": null,
   "lastKernelId": null
  },
  "kernelspec": {
   "display_name": "Julia 1.4.0",
   "language": "julia",
   "name": "julia-1.4"
  },
  "language_info": {
   "file_extension": ".jl",
   "mimetype": "application/julia",
   "name": "julia",
   "version": "1.4.0"
  }
 },
 "nbformat": 4,
 "nbformat_minor": 4
}
