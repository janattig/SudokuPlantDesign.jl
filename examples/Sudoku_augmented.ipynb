{
 "cells": [
  {
   "cell_type": "markdown",
   "metadata": {},
   "source": [
    "## 1) Generate Sudoku - optimized trial layout"
   ]
  },
  {
   "cell_type": "code",
   "execution_count": null,
   "metadata": {},
   "outputs": [],
   "source": [
    "using SudokuPlantDesign\n",
    "using BenchmarkTools\n",
    "using BlockArrays\n",
    "using DataFrames\n",
    "using Random\n",
    "using XLSX\n",
    "using PyPlot\n",
    "using ColorTypes\n",
    "using PyCall\n",
    "@pyimport matplotlib.colors as matcolors"
   ]
  },
  {
   "cell_type": "markdown",
   "metadata": {},
   "source": [
    "As explained in `sudoku_basic`, we generate a new configuration `conf` which is divided into 2 horizontal and 5 vertical blocks of dimensions `10` x `2` respectively. In total, there are `4` different checks in the configuration. All fields which are neither checks nor missing plots are defined as entries - these are the unreplicated entries which are augmented by replicated checks. We leave the plot `[1,3]` and `[1,4]` empty. Configuration is plotted again to show the update. Then, checks are initialized randomly with one check per check type per block."
   ]
  },
  {
   "cell_type": "code",
   "execution_count": null,
   "metadata": {},
   "outputs": [],
   "source": [
    "conf = get_configuration(\n",
    "    [9,9],  [2,2,2,2],    3\n",
    "    ;\n",
    "    bc = :open\n",
    ");\n",
    "\n",
    "empty_plots!(conf, 1:1,3:4)\n",
    "initialize_checks_per_block!(conf)\n",
    "show_configuration(conf, zoom=0.2)\n",
    "savefig(\"output/initial_random_check_distribution.pdf\")\n",
    "sum(conf.configuration .== 0)"
   ]
  },
  {
   "cell_type": "markdown",
   "metadata": {},
   "source": [
    "We use a standard selection of cost functions, as used in the `sudoku_basic` example."
   ]
  },
  {
   "cell_type": "code",
   "execution_count": null,
   "metadata": {},
   "outputs": [],
   "source": [
    "function K_indiv(conf :: C) :: Float64 where {C <: CheckConfiguration}\n",
    "    return  K_num_checks_equal_per_type(conf) +\n",
    "            K_checks_per_type_per_block(conf, 1)*20+\n",
    "            K_neighbors_different_check_functional(conf, d->0.5/(d^3)) +\n",
    "            K_neighbors_same_check_functional(conf, d->1/(d^3))\n",
    "end"
   ]
  },
  {
   "cell_type": "markdown",
   "metadata": {},
   "source": [
    "In the Sudoku-augmented design, we use 3 updates since we need to insert new checks, swap checks with each other and swap also checks with entries."
   ]
  },
  {
   "cell_type": "code",
   "execution_count": null,
   "metadata": {},
   "outputs": [],
   "source": [
    "initialize_entries!(conf, 119)\n",
    "costs = optimize_design!(\n",
    "    conf,\n",
    "    [UpdateNewCheckLabel(),UpdateSwapCheckCheck(),UpdateSwapCheckEntry()],\n",
    "    K_indiv\n",
    ")"
   ]
  },
  {
   "cell_type": "markdown",
   "metadata": {},
   "source": [
    "By inspecting the final plot, we see that the check distribution is optimized."
   ]
  },
  {
   "cell_type": "code",
   "execution_count": null,
   "metadata": {},
   "outputs": [],
   "source": [
    "costs .-= minimum(costs)\n",
    "costs .+= 1\n",
    "\n",
    "#print things\n",
    "println(\"costs: \",K_indiv(conf)+costs[1], \" -> \", K_indiv(conf)+costs[end])\n",
    "println(\"perc_checks: \",conf.num_checks_total / (conf.num_plots_total - conf.num_checks_total))\n",
    "println(\"entries: \",conf.num_plots_total - conf.num_checks_total)\n",
    "println(\"checks:    \",conf.num_checks_total, \"  (\", round(100*conf.num_checks_total / conf.num_plots_total, digits=2), \"%)\")\n",
    "for i in 1:conf.N\n",
    "    println(\"check ($(i)): \",conf.num_checks[i], \"  (\", round(100*conf.num_checks[i] / conf.num_checks_total, digits=2), \"%)\")    \n",
    "end\n",
    "\n",
    "\n",
    "figure()\n",
    "plot(costs)\n",
    "yscale(\"log\")\n",
    "\n",
    "\n",
    "#save without check labels\n",
    "show_configuration(conf,check_labels=true)\n",
    "savefig(\"output/final_sudoku_design.pdf\")\n",
    "\n",
    "## 6) Plot with Plant_Codes and write data to xlsx"
   ]
  },
  {
   "cell_type": "markdown",
   "metadata": {},
   "source": [
    "## 2) Save design data with field plan"
   ]
  },
  {
   "cell_type": "markdown",
   "metadata": {},
   "source": [
    "First, we read in the input data `input_augmented.xlsx` with both sheets `checks` and `entries`. Each sheet contains the name of the entry in the first column, and in following columns further properties of the entries can be added to be transferred to the final output file and field plan. "
   ]
  },
  {
   "cell_type": "code",
   "execution_count": null,
   "metadata": {},
   "outputs": [],
   "source": [
    "entrydata = string.(DataFrame(XLSX.readtable(\"input_augmented.xlsx\", \"entries\")));\n",
    "replace!.(eachcol(entrydata), \"missing\" => \"NA\");"
   ]
  },
  {
   "cell_type": "code",
   "execution_count": null,
   "metadata": {},
   "outputs": [],
   "source": [
    "checkdata = string.(DataFrame(XLSX.readtable(\"input_augmented.xlsx\", \"checks\")));\n",
    "replace!.(eachcol(checkdata), \"missing\" => \"NA\");"
   ]
  },
  {
   "cell_type": "markdown",
   "metadata": {},
   "source": [
    "Since we usually want the entries to be randomized, their data is internally shuffled."
   ]
  },
  {
   "cell_type": "code",
   "execution_count": null,
   "metadata": {},
   "outputs": [],
   "source": [
    "lconf = LabeledCheckConfiguration(conf)\n",
    "\n",
    "fill_indices_snake_y!(lconf, 1,1, index_for_empty=false)\n",
    "fill_labels!(lconf, checkdata, entrydata)\n",
    "\n",
    "show_configuration(lconf, check_labels=true)\n",
    "savefig(\"output/final_sudoku_design_labels.pdf\")"
   ]
  },
  {
   "cell_type": "markdown",
   "metadata": {},
   "source": [
    "The data table of the optimized Sudoku-augmented design can be saved."
   ]
  },
  {
   "cell_type": "code",
   "execution_count": null,
   "metadata": {},
   "outputs": [],
   "source": [
    "write_to_xlsx_allinfo(conf.configuration,\"Testtrial\",POS,L)"
   ]
  },
  {
   "cell_type": "markdown",
   "metadata": {},
   "source": [
    "To be able to load the design again, we can save the configuration."
   ]
  },
  {
   "cell_type": "code",
   "execution_count": null,
   "metadata": {},
   "outputs": [],
   "source": [
    "save_configuration(conf, \"configuration.txt\")"
   ]
  },
  {
   "cell_type": "code",
   "execution_count": null,
   "metadata": {},
   "outputs": [],
   "source": []
  }
 ],
 "metadata": {
  "@webio": {
   "lastCommId": null,
   "lastKernelId": null
  },
  "kernelspec": {
   "display_name": "Julia 1.4.0",
   "language": "julia",
   "name": "julia-1.4"
  },
  "language_info": {
   "file_extension": ".jl",
   "mimetype": "application/julia",
   "name": "julia",
   "version": "1.4.0"
  }
 },
 "nbformat": 4,
 "nbformat_minor": 4
}
