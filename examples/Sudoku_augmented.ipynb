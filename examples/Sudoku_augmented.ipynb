{
 "cells": [
  {
   "cell_type": "markdown",
   "metadata": {},
   "source": [
    "## 1) Generate Sudoku - optimized trial layout"
   ]
  },
  {
   "cell_type": "code",
   "execution_count": null,
   "metadata": {},
   "outputs": [],
   "source": [
    "using SudokuPlantDesign\n",
    "using BenchmarkTools\n",
    "using BlockArrays\n",
    "using DataFrames\n",
    "using Random\n",
    "using XLSX\n",
    "using PyPlot\n",
    "using ColorTypes\n",
    "using PyCall\n",
    "@pyimport matplotlib.colors as matcolors"
   ]
  },
  {
   "cell_type": "markdown",
   "metadata": {},
   "source": [
    "As explained in `sudoku_basic`, we generate a new configuration `conf` which is divided into 2 horizontal and 5 vertical blocks of dimensions `10` x `2` respectively. In total, there are `4` different checks in the configuration. All fields which are neither checks nor missing plots are defined as entries - these are the unreplicated genotypes which are augmented by replicated checks. We leave the plot `[1,3]` and `[1,4]` empty. Configuration is plotted again to show the update. Then, checks are initialized randomly with one check per check type per block."
   ]
  },
  {
   "cell_type": "code",
   "execution_count": null,
   "metadata": {},
   "outputs": [],
   "source": [
    "conf = get_configuration(\n",
    "    [10,10],  [2,2,2,2,2],    4\n",
    "    ;\n",
    "    bc = :open\n",
    ");\n",
    "\n",
    "empty_plots!(conf, 1:1,3:4)\n",
    "initialize_checks_per_block!(conf)\n",
    "show_configuration(conf, zoom=0.2)\n",
    "savefig(\"output/initial_random_check_distribution.pdf\")"
   ]
  },
  {
   "cell_type": "markdown",
   "metadata": {},
   "source": [
    "We use a standard selection of cost functions, as used in the `sudoku_basic` example."
   ]
  },
  {
   "cell_type": "code",
   "execution_count": null,
   "metadata": {},
   "outputs": [],
   "source": [
    "function K_indiv(conf :: C) :: Float64 where {C <: CheckConfiguration}\n",
    "    return  K_num_checks_equal_per_type(conf) +\n",
    "            K_checks_per_type_per_block(conf, 1)*20+\n",
    "            K_neighbors_different_check_functional(conf, d->0.5/(d^3)) +\n",
    "            K_neighbors_same_check_functional(conf, d->1/(d^3))\n",
    "end"
   ]
  },
  {
   "cell_type": "markdown",
   "metadata": {},
   "source": [
    "In the Sudoku-augmented design, we use 3 updates since we need to insert new checks, swap checks with each other and swap also checks with entries."
   ]
  },
  {
   "cell_type": "code",
   "execution_count": null,
   "metadata": {},
   "outputs": [],
   "source": [
    "costs = optimize_design!(\n",
    "    conf,\n",
    "    [UpdateNewCheckLabel(),UpdateSwapCheckCheck(),UpdateSwapCheckGenotype()],\n",
    "    K_indiv\n",
    ")"
   ]
  },
  {
   "cell_type": "markdown",
   "metadata": {},
   "source": [
    "By inspecting the final plot, we see that the check distribution is optimized."
   ]
  },
  {
   "cell_type": "code",
   "execution_count": null,
   "metadata": {},
   "outputs": [],
   "source": [
    "costs .-= minimum(costs)\n",
    "costs .+= 1\n",
    "\n",
    "#print things\n",
    "println(\"costs: \",K_indiv(conf)+costs[1], \" -> \", K_indiv(conf)+costs[end])\n",
    "println(\"perc_checks: \",conf.num_checks_total / (conf.num_plots_total - conf.num_checks_total))\n",
    "println(\"entries: \",conf.num_plots_total - conf.num_checks_total)\n",
    "println(\"checks:    \",conf.num_checks_total, \"  (\", round(100*conf.num_checks_total / conf.num_plots_total, digits=2), \"%)\")\n",
    "for i in 1:conf.N\n",
    "    println(\"check ($(i)): \",conf.num_checks[i], \"  (\", round(100*conf.num_checks[i] / conf.num_checks_total, digits=2), \"%)\")    \n",
    "end\n",
    "\n",
    "\n",
    "figure()\n",
    "plot(costs)\n",
    "yscale(\"log\")\n",
    "\n",
    "\n",
    "#save without check labels\n",
    "show_configuration(conf,check_labels=false)\n",
    "savefig(\"output/final_sudoku_design.pdf\")\n",
    "\n",
    "## 6) Plot with Plant_Codes and write data to xlsx"
   ]
  },
  {
   "cell_type": "markdown",
   "metadata": {},
   "source": [
    "## 2) Save design data with field plan"
   ]
  },
  {
   "cell_type": "markdown",
   "metadata": {},
   "source": [
    "First, we read in the input data `input_augmented.xlsx` with both sheets `checks` and `entries`. Each sheet contains the name of the genotype in the first column, and in following columns further properties of the genotypes can be added to be transferred to the final output file and field plan. "
   ]
  },
  {
   "cell_type": "code",
   "execution_count": null,
   "metadata": {},
   "outputs": [],
   "source": [
    "checkdata = DataFrame(XLSX.readtable(\"input_augmented.xlsx\", \"checks\")...)\n",
    "\n",
    "checknames=names(checkdata)\n",
    "for i in 1:length(checknames)\n",
    "    checkdata[!,Symbol(checknames[i])]=string.(collect(checkdata[!,Symbol(checknames[i])]))\n",
    "end\n",
    "\n",
    "for col in eachcol(checkdata)\n",
    "    replace!(col,missing => \"NA\")\n",
    "end\n",
    "\n",
    "\n",
    "genotypedata = DataFrame(XLSX.readtable(templatename, \"entries\")...)\n",
    "genonames=names(genotypedata)\n",
    "for i in 1:length(checknames)\n",
    "    genotypedata[!,Symbol(genonames[i])]=string.(collect(genotypedata[!,Symbol(genonames[i])]))\n",
    "end\n",
    "\n",
    "for col in eachcol(genotypedata)\n",
    "    replace!(col,missing => \"NA\")\n",
    "end"
   ]
  },
  {
   "cell_type": "markdown",
   "metadata": {},
   "source": [
    "Since we usually want the entries to be randomized, their data is internally shuffled."
   ]
  },
  {
   "cell_type": "code",
   "execution_count": null,
   "metadata": {},
   "outputs": [],
   "source": [
    "genotypedata = genotypedata[shuffle(1:nrow(genotypedata)), :]\n",
    "genotypedata[!,:genotype]=string.(collect(genotypedata[!,:genotype]))"
   ]
  },
  {
   "cell_type": "markdown",
   "metadata": {},
   "source": [
    "Finally, we plot the final field map of the optimized Sudoku-augmented design and add position, block number and the labels to the field map."
   ]
  },
  {
   "cell_type": "code",
   "execution_count": null,
   "metadata": {},
   "outputs": [],
   "source": [
    "POS = get_POS_coordinatewise(C,\"x\",\"left\",\"lower\",\"snake\") #with robot\n",
    "L = get_Plant_Code_Label_allinfo(C,POS,genotypedata,checkdata)\n",
    "show_pos_and_labels_allinfo(C, POS, L, zoom=0.9,fontsize=7,alpha=0.5,cmap=cmap_sudoku)\n",
    "savefig(\"final_sudoku_design_labels_\"*trialname*\".pdf\")"
   ]
  },
  {
   "cell_type": "code",
   "execution_count": null,
   "metadata": {},
   "outputs": [],
   "source": [
    "The data table of the optimized Sudoku-augmented design can be saved."
   ]
  },
  {
   "cell_type": "code",
   "execution_count": null,
   "metadata": {},
   "outputs": [],
   "source": [
    "#write file to xlsx\n",
    "write_to_xlsx_allinfo(C.configuration,trialname,POS,L)"
   ]
  },
  {
   "cell_type": "code",
   "execution_count": null,
   "metadata": {},
   "outputs": [],
   "source": [
    "To be able to load the design again, we can save the configuration."
   ]
  },
  {
   "cell_type": "code",
   "execution_count": null,
   "metadata": {},
   "outputs": [],
   "source": [
    "#load_configuration(C, \"configuration_\"*trialname*\".txt\")\n",
    "save_configuration(C, \"configuration_\"*trialname*\".txt\")"
   ]
  }
 ],
 "metadata": {
  "@webio": {
   "lastCommId": null,
   "lastKernelId": null
  },
  "kernelspec": {
   "display_name": "Julia 1.4.2",
   "language": "julia",
   "name": "julia-1.4"
  },
  "language_info": {
   "file_extension": ".jl",
   "mimetype": "application/julia",
   "name": "julia",
   "version": "1.4.2"
  }
 },
 "nbformat": 4,
 "nbformat_minor": 4
}
