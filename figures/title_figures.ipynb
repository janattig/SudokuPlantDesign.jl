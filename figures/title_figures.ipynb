{
 "cells": [
  {
   "cell_type": "code",
   "execution_count": null,
   "id": "7b62f0b1",
   "metadata": {},
   "outputs": [],
   "source": [
    "using SudokuPlantDesign\n",
    "using PyPlot"
   ]
  },
  {
   "cell_type": "markdown",
   "id": "8dee21a9",
   "metadata": {},
   "source": [
    "## RCBD"
   ]
  },
  {
   "cell_type": "code",
   "execution_count": null,
   "id": "5501fbef",
   "metadata": {},
   "outputs": [],
   "source": [
    "conf = get_configuration([3,3],[5,5], 15, bc=:open)\n",
    "\n",
    "initialize_checks_per_block!(conf)\n",
    "\n",
    "show_configuration(conf, title_zoom=0.6, zoom=0.3)\n",
    "savefig(\"title_figure_RCBD_initial.pdf\")"
   ]
  },
  {
   "cell_type": "code",
   "execution_count": null,
   "id": "f930873a",
   "metadata": {},
   "outputs": [],
   "source": [
    "cost_function(c) =  K_checks_per_type_per_block(c, 1)*20 +\n",
    "                    K_neighbors_same_check_functional(c, d->1/(d^3))\n",
    "\n",
    "updates = [UpdateSwapCheckCheck()]\n",
    "\n",
    "optimize_design!(\n",
    "    conf,\n",
    "    updates,\n",
    "    cost_function,\n",
    "    500000\n",
    ");"
   ]
  },
  {
   "cell_type": "code",
   "execution_count": null,
   "id": "891c7410",
   "metadata": {},
   "outputs": [],
   "source": [
    "show_configuration(conf, title_zoom=0.6, zoom=0.3)\n",
    "savefig(\"title_figure_RCBD_Sudoku.pdf\")"
   ]
  },
  {
   "cell_type": "markdown",
   "id": "74dff2dd",
   "metadata": {},
   "source": [
    "## Augmented design"
   ]
  },
  {
   "cell_type": "code",
   "execution_count": null,
   "id": "a92735ad",
   "metadata": {},
   "outputs": [],
   "source": [
    "conf = get_configuration([3,3,3,3],[5,5,5,5],4)\n",
    "\n",
    "initialize_checks_per_block!(conf)\n",
    "\n",
    "show_configuration(conf, title_zoom=0.6, zoom=0.3)\n",
    "savefig(\"title_figure_augmented_initial.pdf\")"
   ]
  },
  {
   "cell_type": "code",
   "execution_count": null,
   "id": "c12399ab",
   "metadata": {},
   "outputs": [],
   "source": [
    "cost_function(c) =  K_checks_per_type_per_block(c, 1)*20 +\n",
    "                    K_neighbors_different_check_functional(c, d->0.7/(d^3)) +\n",
    "                    K_neighbors_same_check_functional(c, d->1/(d^3))\n",
    "\n",
    "updates = [UpdateSwapCheckCheck(),UpdateSwapCheckEntry()]\n",
    "\n",
    "optimize_design!(\n",
    "    conf,\n",
    "    updates,\n",
    "    cost_function,\n",
    "    500000\n",
    ");"
   ]
  },
  {
   "cell_type": "code",
   "execution_count": null,
   "id": "e65f63bb",
   "metadata": {},
   "outputs": [],
   "source": [
    "show_configuration(conf, title_zoom=0.6, zoom=0.3)\n",
    "savefig(\"title_figure_augmented_Sudoku.pdf\")"
   ]
  },
  {
   "cell_type": "code",
   "execution_count": null,
   "id": "829b5352",
   "metadata": {},
   "outputs": [],
   "source": []
  }
 ],
 "metadata": {
  "kernelspec": {
   "display_name": "Julia 1.4.0",
   "language": "julia",
   "name": "julia-1.4"
  },
  "language_info": {
   "file_extension": ".jl",
   "mimetype": "application/julia",
   "name": "julia",
   "version": "1.4.0"
  }
 },
 "nbformat": 4,
 "nbformat_minor": 5
}
